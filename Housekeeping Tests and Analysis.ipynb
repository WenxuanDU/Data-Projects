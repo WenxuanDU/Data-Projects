{
 "cells": [
  {
   "cell_type": "code",
   "execution_count": 136,
   "id": "e0609478",
   "metadata": {},
   "outputs": [],
   "source": [
    "import statsmodels.formula.api as smf\n",
    "import wooldridge as woo\n",
    "import numpy as np \n",
    "import pandas as pd\n",
    "import seaborn as sns\n",
    "import matplotlib.pyplot as plt\n",
    "from matplotlib.ticker import ScalarFormatter\n",
    "import statsmodels.api as sm\n",
    "import scipy.stats as stats\n",
    "import patsy as pt\n"
   ]
  },
  {
   "cell_type": "code",
   "execution_count": 137,
   "id": "cd1938b1",
   "metadata": {},
   "outputs": [],
   "source": [
    "data = woo.data(\"gpa3\")"
   ]
  },
  {
   "cell_type": "markdown",
   "id": "f0d4c8ee",
   "metadata": {},
   "source": [
    "### AIC"
   ]
  },
  {
   "cell_type": "markdown",
   "id": "bcc49e8c",
   "metadata": {},
   "source": [
    "$$ AIC = ln(\\frac{SSE}{N})+\\frac{2K}{N}$$"
   ]
  },
  {
   "cell_type": "code",
   "execution_count": 138,
   "id": "ecc8934a",
   "metadata": {},
   "outputs": [],
   "source": [
    "# Fit the model\n",
    "model = smf.ols('cumgpa ~ sat +hsperc +tothrs +female +black + white', data)\n",
    "results = model.fit()"
   ]
  },
  {
   "cell_type": "code",
   "execution_count": 139,
   "id": "c0b522f6",
   "metadata": {},
   "outputs": [
    {
     "data": {
      "text/html": [
       "<table class=\"simpletable\">\n",
       "<caption>OLS Regression Results</caption>\n",
       "<tr>\n",
       "  <th>Dep. Variable:</th>         <td>cumgpa</td>      <th>  R-squared:         </th> <td>   0.241</td>\n",
       "</tr>\n",
       "<tr>\n",
       "  <th>Model:</th>                   <td>OLS</td>       <th>  Adj. R-squared:    </th> <td>   0.234</td>\n",
       "</tr>\n",
       "<tr>\n",
       "  <th>Method:</th>             <td>Least Squares</td>  <th>  F-statistic:       </th> <td>   38.31</td>\n",
       "</tr>\n",
       "<tr>\n",
       "  <th>Date:</th>             <td>Fri, 04 Nov 2022</td> <th>  Prob (F-statistic):</th> <td>1.73e-40</td>\n",
       "</tr>\n",
       "<tr>\n",
       "  <th>Time:</th>                 <td>10:51:52</td>     <th>  Log-Likelihood:    </th> <td> -929.74</td>\n",
       "</tr>\n",
       "<tr>\n",
       "  <th>No. Observations:</th>      <td>   732</td>      <th>  AIC:               </th> <td>   1873.</td>\n",
       "</tr>\n",
       "<tr>\n",
       "  <th>Df Residuals:</th>          <td>   725</td>      <th>  BIC:               </th> <td>   1906.</td>\n",
       "</tr>\n",
       "<tr>\n",
       "  <th>Df Model:</th>              <td>     6</td>      <th>                     </th>     <td> </td>   \n",
       "</tr>\n",
       "<tr>\n",
       "  <th>Covariance Type:</th>      <td>nonrobust</td>    <th>                     </th>     <td> </td>   \n",
       "</tr>\n",
       "</table>\n",
       "<table class=\"simpletable\">\n",
       "<tr>\n",
       "      <td></td>         <th>coef</th>     <th>std err</th>      <th>t</th>      <th>P>|t|</th>  <th>[0.025</th>    <th>0.975]</th>  \n",
       "</tr>\n",
       "<tr>\n",
       "  <th>Intercept</th> <td>    0.8791</td> <td>    0.298</td> <td>    2.952</td> <td> 0.003</td> <td>    0.294</td> <td>    1.464</td>\n",
       "</tr>\n",
       "<tr>\n",
       "  <th>sat</th>       <td>    0.0009</td> <td>    0.000</td> <td>    3.743</td> <td> 0.000</td> <td>    0.000</td> <td>    0.001</td>\n",
       "</tr>\n",
       "<tr>\n",
       "  <th>hsperc</th>    <td>   -0.0056</td> <td>    0.002</td> <td>   -3.463</td> <td> 0.001</td> <td>   -0.009</td> <td>   -0.002</td>\n",
       "</tr>\n",
       "<tr>\n",
       "  <th>tothrs</th>    <td>    0.0121</td> <td>    0.001</td> <td>   12.941</td> <td> 0.000</td> <td>    0.010</td> <td>    0.014</td>\n",
       "</tr>\n",
       "<tr>\n",
       "  <th>female</th>    <td>    0.1667</td> <td>    0.077</td> <td>    2.164</td> <td> 0.031</td> <td>    0.015</td> <td>    0.318</td>\n",
       "</tr>\n",
       "<tr>\n",
       "  <th>black</th>     <td>   -0.0261</td> <td>    0.192</td> <td>   -0.136</td> <td> 0.892</td> <td>   -0.403</td> <td>    0.351</td>\n",
       "</tr>\n",
       "<tr>\n",
       "  <th>white</th>     <td>    0.0143</td> <td>    0.184</td> <td>    0.078</td> <td> 0.938</td> <td>   -0.347</td> <td>    0.375</td>\n",
       "</tr>\n",
       "</table>\n",
       "<table class=\"simpletable\">\n",
       "<tr>\n",
       "  <th>Omnibus:</th>       <td>15.717</td> <th>  Durbin-Watson:     </th> <td>   2.007</td>\n",
       "</tr>\n",
       "<tr>\n",
       "  <th>Prob(Omnibus):</th> <td> 0.000</td> <th>  Jarque-Bera (JB):  </th> <td>  28.426</td>\n",
       "</tr>\n",
       "<tr>\n",
       "  <th>Skew:</th>          <td> 0.088</td> <th>  Prob(JB):          </th> <td>6.72e-07</td>\n",
       "</tr>\n",
       "<tr>\n",
       "  <th>Kurtosis:</th>      <td> 3.949</td> <th>  Cond. No.          </th> <td>1.01e+04</td>\n",
       "</tr>\n",
       "</table><br/><br/>Notes:<br/>[1] Standard Errors assume that the covariance matrix of the errors is correctly specified.<br/>[2] The condition number is large, 1.01e+04. This might indicate that there are<br/>strong multicollinearity or other numerical problems."
      ],
      "text/plain": [
       "<class 'statsmodels.iolib.summary.Summary'>\n",
       "\"\"\"\n",
       "                            OLS Regression Results                            \n",
       "==============================================================================\n",
       "Dep. Variable:                 cumgpa   R-squared:                       0.241\n",
       "Model:                            OLS   Adj. R-squared:                  0.234\n",
       "Method:                 Least Squares   F-statistic:                     38.31\n",
       "Date:                Fri, 04 Nov 2022   Prob (F-statistic):           1.73e-40\n",
       "Time:                        10:51:52   Log-Likelihood:                -929.74\n",
       "No. Observations:                 732   AIC:                             1873.\n",
       "Df Residuals:                     725   BIC:                             1906.\n",
       "Df Model:                           6                                         \n",
       "Covariance Type:            nonrobust                                         \n",
       "==============================================================================\n",
       "                 coef    std err          t      P>|t|      [0.025      0.975]\n",
       "------------------------------------------------------------------------------\n",
       "Intercept      0.8791      0.298      2.952      0.003       0.294       1.464\n",
       "sat            0.0009      0.000      3.743      0.000       0.000       0.001\n",
       "hsperc        -0.0056      0.002     -3.463      0.001      -0.009      -0.002\n",
       "tothrs         0.0121      0.001     12.941      0.000       0.010       0.014\n",
       "female         0.1667      0.077      2.164      0.031       0.015       0.318\n",
       "black         -0.0261      0.192     -0.136      0.892      -0.403       0.351\n",
       "white          0.0143      0.184      0.078      0.938      -0.347       0.375\n",
       "==============================================================================\n",
       "Omnibus:                       15.717   Durbin-Watson:                   2.007\n",
       "Prob(Omnibus):                  0.000   Jarque-Bera (JB):               28.426\n",
       "Skew:                           0.088   Prob(JB):                     6.72e-07\n",
       "Kurtosis:                       3.949   Cond. No.                     1.01e+04\n",
       "==============================================================================\n",
       "\n",
       "Notes:\n",
       "[1] Standard Errors assume that the covariance matrix of the errors is correctly specified.\n",
       "[2] The condition number is large, 1.01e+04. This might indicate that there are\n",
       "strong multicollinearity or other numerical problems.\n",
       "\"\"\""
      ]
     },
     "execution_count": 139,
     "metadata": {},
     "output_type": "execute_result"
    }
   ],
   "source": [
    "results.summary()"
   ]
  },
  {
   "cell_type": "code",
   "execution_count": 19,
   "id": "85b3a03a",
   "metadata": {},
   "outputs": [
    {
     "data": {
      "text/plain": [
       "-0.2784906693074793"
      ]
     },
     "execution_count": 19,
     "metadata": {},
     "output_type": "execute_result"
    }
   ],
   "source": [
    "# manual AIC using the formula\n",
    "def AIC(model, y):\n",
    "    \n",
    "    # get SSE\n",
    "    SSE = ((model.resid)**2).sum()\n",
    "    \n",
    "    # Get K and N\n",
    "    k = len(results.params)\n",
    "    N = len(results.fittedvalues)\n",
    "    \n",
    "    # Calculate and return AIC\n",
    "    return np.log(SSE/N) + ((2*k)/N)\n",
    "\n",
    "AIC(results, data.cumgpa)"
   ]
  },
  {
   "cell_type": "code",
   "execution_count": 20,
   "id": "96bb40fe",
   "metadata": {},
   "outputs": [
    {
     "data": {
      "text/plain": [
       "1873.470842678566"
      ]
     },
     "execution_count": 20,
     "metadata": {},
     "output_type": "execute_result"
    }
   ],
   "source": [
    "results.aic"
   ]
  },
  {
   "cell_type": "code",
   "execution_count": 21,
   "id": "922901d1",
   "metadata": {},
   "outputs": [
    {
     "data": {
      "text/plain": [
       "1873.470842678566"
      ]
     },
     "execution_count": 21,
     "metadata": {},
     "output_type": "execute_result"
    }
   ],
   "source": [
    "# -2*llf+2(df_model + 1)\n",
    "-2*results.llf+2*len(results.params)"
   ]
  },
  {
   "cell_type": "code",
   "execution_count": 22,
   "id": "a84c77a2",
   "metadata": {},
   "outputs": [
    {
     "data": {
      "text/plain": [
       "1873.470842678566"
      ]
     },
     "execution_count": 22,
     "metadata": {},
     "output_type": "execute_result"
    }
   ],
   "source": [
    "-2*results.llf+14"
   ]
  },
  {
   "cell_type": "markdown",
   "id": "4f18d75f",
   "metadata": {},
   "source": [
    "### BIC"
   ]
  },
  {
   "cell_type": "markdown",
   "id": "a3c056ce",
   "metadata": {},
   "source": [
    "Prefers smaller models than AIC"
   ]
  },
  {
   "cell_type": "markdown",
   "id": "32b48846",
   "metadata": {},
   "source": [
    "$$ AIC = \\ln(\\frac{SSE}{N})+\\frac{K\\ln(N)}{N}$$"
   ]
  },
  {
   "cell_type": "code",
   "execution_count": 23,
   "id": "a69e4eef",
   "metadata": {},
   "outputs": [
    {
     "data": {
      "text/plain": [
       "-0.2345419485455542"
      ]
     },
     "execution_count": 23,
     "metadata": {},
     "output_type": "execute_result"
    }
   ],
   "source": [
    "def BIC(model, y):\n",
    "    \n",
    "    # get SSE\n",
    "    SSE = ((model.resid)**2).sum()\n",
    "    \n",
    "    # Get K and N\n",
    "    k = len(results.params)\n",
    "    N = len(results.fittedvalues)\n",
    "    \n",
    "    # Calculate and return AIC\n",
    "    return np.log(SSE/N) + ((k*np.log(N))/N)\n",
    "\n",
    "BIC(results, data.cumgpa)"
   ]
  },
  {
   "cell_type": "code",
   "execution_count": 24,
   "id": "24accf46",
   "metadata": {},
   "outputs": [
    {
     "data": {
      "text/plain": [
       "1905.6413062762952"
      ]
     },
     "execution_count": 24,
     "metadata": {},
     "output_type": "execute_result"
    }
   ],
   "source": [
    "results.bic"
   ]
  },
  {
   "cell_type": "code",
   "execution_count": 25,
   "id": "c6e83339",
   "metadata": {},
   "outputs": [
    {
     "data": {
      "text/plain": [
       "1905.6413062762952"
      ]
     },
     "execution_count": 25,
     "metadata": {},
     "output_type": "execute_result"
    }
   ],
   "source": [
    "# -2*llf+ln(n)*(df_model + 1)\n",
    "-2*results.llf+np.log(len(results.fittedvalues))*len(results.params)"
   ]
  },
  {
   "cell_type": "markdown",
   "id": "7c3ff4b5",
   "metadata": {},
   "source": [
    "We prefer models with the smallest AIC and BIC. We are not concerned about the absolute value."
   ]
  },
  {
   "cell_type": "markdown",
   "id": "b2f81d46",
   "metadata": {},
   "source": [
    "## Heteroscedasticity"
   ]
  },
  {
   "cell_type": "markdown",
   "id": "2f047be7",
   "metadata": {},
   "source": [
    "### Spread-Level Plots"
   ]
  },
  {
   "cell_type": "code",
   "execution_count": 26,
   "id": "d2ae43e1",
   "metadata": {},
   "outputs": [],
   "source": [
    "def spread_level(model, data):\n",
    "    df_copy = data.copy()\n",
    "    \n",
    "    # Get the studentized residuals\n",
    "    df_copy[\"Absolute_Studentized_Residuals\"] = (np.abs(model.get_influence().resid_studentized))\n",
    "    df_copy[\"Fitted_Values\"] = (model.fittedvalues)\n",
    "    \n",
    "    # run regression to get slope of fitted vs resid, rlm is a robust linear model used by R\n",
    "    slreg = smf.rlm(\"np.log(Absolute_Studentized_Residuals) ~ np.log(Fitted_Values)\", df_copy).fit()\n",
    "    slope = slreg.params[1]\n",
    "    \n",
    "    # plot values\n",
    "    fig, ax = plt.subplots(figsize = (10, 6))\n",
    "    ax.set_title(\"Fitted Values vs Studentized Residuals\")\n",
    "    sns.regplot(x = \"Fitted_Values\", y = \"Absolute_Studentized_Residuals\", data = df_copy, lowess = True, ax = ax)\n",
    "    ax.plot(df_copy.Fitted_Values.values, np.exp(slreg.fittedvalues).values)\n",
    "    \n",
    "    # Set to the logarithmic scale\n",
    "    ax.set_yscale('log')\n",
    "    ax.set_xscale('log')\n",
    "    \n",
    "    # convert froms scientific notation to scalar notation\n",
    "    ax.yaxis.set_major_formatter(ScalarFormatter())\n",
    "    ax.xaxis.set_major_formatter(ScalarFormatter())\n",
    "    \n",
    "    # Resolve overlapping label bug\n",
    "    ax.minorticks_off()\n",
    "    \n",
    "    # Set tick labels automatically\n",
    "    ax.set_xticks(np.linspace(df_copy[\"Fitted_Values\"].min(),df_copy[\"Fitted_Values\"].max(), 6))\n",
    "    ax.set_yticks(np.linspace(df_copy[\"Absolute_Studentized_Residuals\"].min(),\n",
    "                              df_copy[\"Absolute_Studentized_Residuals\"].max(), 6))\n",
    "    \n",
    "    ax.grid()\n",
    "    \n",
    "    # return a suggested power transform of your y-variable that may correct heteroscedastcity\n",
    "    # The transform is just one minus the slope of the reegression line of your fitted values vs residuals\n",
    "    print(\"Suggested Power Transformation:\", 1-slope)"
   ]
  },
  {
   "cell_type": "code",
   "execution_count": 27,
   "id": "0bc17693",
   "metadata": {},
   "outputs": [],
   "source": [
    "foodata = pd.read_csv(\"food.csv\")"
   ]
  },
  {
   "cell_type": "code",
   "execution_count": 28,
   "id": "0df02ef8",
   "metadata": {},
   "outputs": [
    {
     "data": {
      "text/html": [
       "<table class=\"simpletable\">\n",
       "<caption>OLS Regression Results</caption>\n",
       "<tr>\n",
       "  <th>Dep. Variable:</th>        <td>food_exp</td>     <th>  R-squared:         </th> <td>   0.385</td>\n",
       "</tr>\n",
       "<tr>\n",
       "  <th>Model:</th>                   <td>OLS</td>       <th>  Adj. R-squared:    </th> <td>   0.369</td>\n",
       "</tr>\n",
       "<tr>\n",
       "  <th>Method:</th>             <td>Least Squares</td>  <th>  F-statistic:       </th> <td>   23.79</td>\n",
       "</tr>\n",
       "<tr>\n",
       "  <th>Date:</th>             <td>Thu, 03 Nov 2022</td> <th>  Prob (F-statistic):</th> <td>1.95e-05</td>\n",
       "</tr>\n",
       "<tr>\n",
       "  <th>Time:</th>                 <td>13:13:04</td>     <th>  Log-Likelihood:    </th> <td> -235.51</td>\n",
       "</tr>\n",
       "<tr>\n",
       "  <th>No. Observations:</th>      <td>    40</td>      <th>  AIC:               </th> <td>   475.0</td>\n",
       "</tr>\n",
       "<tr>\n",
       "  <th>Df Residuals:</th>          <td>    38</td>      <th>  BIC:               </th> <td>   478.4</td>\n",
       "</tr>\n",
       "<tr>\n",
       "  <th>Df Model:</th>              <td>     1</td>      <th>                     </th>     <td> </td>   \n",
       "</tr>\n",
       "<tr>\n",
       "  <th>Covariance Type:</th>      <td>nonrobust</td>    <th>                     </th>     <td> </td>   \n",
       "</tr>\n",
       "</table>\n",
       "<table class=\"simpletable\">\n",
       "<tr>\n",
       "      <td></td>         <th>coef</th>     <th>std err</th>      <th>t</th>      <th>P>|t|</th>  <th>[0.025</th>    <th>0.975]</th>  \n",
       "</tr>\n",
       "<tr>\n",
       "  <th>Intercept</th> <td>   83.4160</td> <td>   43.410</td> <td>    1.922</td> <td> 0.062</td> <td>   -4.463</td> <td>  171.295</td>\n",
       "</tr>\n",
       "<tr>\n",
       "  <th>income</th>    <td>   10.2096</td> <td>    2.093</td> <td>    4.877</td> <td> 0.000</td> <td>    5.972</td> <td>   14.447</td>\n",
       "</tr>\n",
       "</table>\n",
       "<table class=\"simpletable\">\n",
       "<tr>\n",
       "  <th>Omnibus:</th>       <td> 0.277</td> <th>  Durbin-Watson:     </th> <td>   1.894</td>\n",
       "</tr>\n",
       "<tr>\n",
       "  <th>Prob(Omnibus):</th> <td> 0.870</td> <th>  Jarque-Bera (JB):  </th> <td>   0.063</td>\n",
       "</tr>\n",
       "<tr>\n",
       "  <th>Skew:</th>          <td>-0.097</td> <th>  Prob(JB):          </th> <td>   0.969</td>\n",
       "</tr>\n",
       "<tr>\n",
       "  <th>Kurtosis:</th>      <td> 2.989</td> <th>  Cond. No.          </th> <td>    63.7</td>\n",
       "</tr>\n",
       "</table><br/><br/>Notes:<br/>[1] Standard Errors assume that the covariance matrix of the errors is correctly specified."
      ],
      "text/plain": [
       "<class 'statsmodels.iolib.summary.Summary'>\n",
       "\"\"\"\n",
       "                            OLS Regression Results                            \n",
       "==============================================================================\n",
       "Dep. Variable:               food_exp   R-squared:                       0.385\n",
       "Model:                            OLS   Adj. R-squared:                  0.369\n",
       "Method:                 Least Squares   F-statistic:                     23.79\n",
       "Date:                Thu, 03 Nov 2022   Prob (F-statistic):           1.95e-05\n",
       "Time:                        13:13:04   Log-Likelihood:                -235.51\n",
       "No. Observations:                  40   AIC:                             475.0\n",
       "Df Residuals:                      38   BIC:                             478.4\n",
       "Df Model:                           1                                         \n",
       "Covariance Type:            nonrobust                                         \n",
       "==============================================================================\n",
       "                 coef    std err          t      P>|t|      [0.025      0.975]\n",
       "------------------------------------------------------------------------------\n",
       "Intercept     83.4160     43.410      1.922      0.062      -4.463     171.295\n",
       "income        10.2096      2.093      4.877      0.000       5.972      14.447\n",
       "==============================================================================\n",
       "Omnibus:                        0.277   Durbin-Watson:                   1.894\n",
       "Prob(Omnibus):                  0.870   Jarque-Bera (JB):                0.063\n",
       "Skew:                          -0.097   Prob(JB):                        0.969\n",
       "Kurtosis:                       2.989   Cond. No.                         63.7\n",
       "==============================================================================\n",
       "\n",
       "Notes:\n",
       "[1] Standard Errors assume that the covariance matrix of the errors is correctly specified.\n",
       "\"\"\""
      ]
     },
     "execution_count": 28,
     "metadata": {},
     "output_type": "execute_result"
    }
   ],
   "source": [
    "results2 = smf.ols('food_exp~income', foodata).fit()\n",
    "results2.summary()"
   ]
  },
  {
   "cell_type": "code",
   "execution_count": 29,
   "id": "9bf8581d",
   "metadata": {},
   "outputs": [
    {
     "name": "stdout",
     "output_type": "stream",
     "text": [
      "Suggested Power Transformation: -1.0786406911463162\n"
     ]
    },
    {
     "data": {
      "image/png": "[encoded data removed]",
      "text/plain": [
       "<Figure size 720x432 with 1 Axes>"
      ]
     },
     "metadata": {
      "needs_background": "light"
     },
     "output_type": "display_data"
    }
   ],
   "source": [
    "results2 = smf.ols('food_exp~income', foodata).fit()\n",
    "spread_level(results2, foodata)"
   ]
  },
  {
   "cell_type": "code",
   "execution_count": 30,
   "id": "3872b186",
   "metadata": {},
   "outputs": [
    {
     "name": "stdout",
     "output_type": "stream",
     "text": [
      "Suggested Power Transformation: 2.6126484819030966\n"
     ]
    },
    {
     "data": {
      "image/png": "[encoded data removed]",
      "text/plain": [
       "<Figure size 720x432 with 1 Axes>"
      ]
     },
     "metadata": {
      "needs_background": "light"
     },
     "output_type": "display_data"
    }
   ],
   "source": [
    "# Fit the model\n",
    "model = smf.ols('cumgpa ~ sat +hsperc +tothrs +female +black + white', data)\n",
    "results = model.fit()\n",
    "spread_level(results, data)"
   ]
  },
  {
   "cell_type": "code",
   "execution_count": 36,
   "id": "65b13bb3",
   "metadata": {
    "scrolled": true
   },
   "outputs": [],
   "source": [
    "baseball = pd.read_csv('baseball.csv').dropna()\n",
    "results3 = smf.ols('sal87 ~ years + hits + runs + homeruns', baseball).fit()"
   ]
  },
  {
   "cell_type": "code",
   "execution_count": 37,
   "id": "f7d1528e",
   "metadata": {},
   "outputs": [
    {
     "name": "stdout",
     "output_type": "stream",
     "text": [
      "Suggested Power Transformation: 0.26461020753844344\n"
     ]
    },
    {
     "data": {
      "image/png": "[encoded data removed]",
      "text/plain": [
       "<Figure size 720x432 with 1 Axes>"
      ]
     },
     "metadata": {
      "needs_background": "light"
     },
     "output_type": "display_data"
    }
   ],
   "source": [
    "spread_level(results3, baseball)"
   ]
  },
  {
   "cell_type": "markdown",
   "id": "b4ee8e15",
   "metadata": {},
   "source": [
    "### Tests for Nonconstant Error Variance"
   ]
  },
  {
   "cell_type": "markdown",
   "id": "f908b4f1",
   "metadata": {},
   "source": [
    "### Bruesch-Pagan Test"
   ]
  },
  {
   "cell_type": "code",
   "execution_count": 42,
   "id": "b06ca591",
   "metadata": {},
   "outputs": [
    {
     "name": "stdout",
     "output_type": "stream",
     "text": [
      "The F-Statistic for the Auxiliary Regression is: 49.18699087724235 and the P-Value is: 9.680220020442915e-51\n"
     ]
    }
   ],
   "source": [
    "# pull out squared residuals\n",
    "data[\"res2\"] = results.resid**2\n",
    "\n",
    "# try to predict the squared residuals using a linear combination of our variables\n",
    "aux_reg = smf.ols('res2 ~ sat +hsperc +tothrs +female +black + white', data).fit()\n",
    "\n",
    "# Get the regression f-statistic (f-test version)\n",
    "f = aux_reg.fvalue\n",
    "fp = aux_reg.f_pvalue\n",
    "\n",
    "print(\"The F-Statistic for the Auxiliary Regression is: \"+ str(f) +\" and the P-Value is: \"+ str(fp))"
   ]
  },
  {
   "cell_type": "markdown",
   "id": "214a793c",
   "metadata": {},
   "source": [
    "Therefore we reject the null hypothesis that $\\delta_1 =\\delta_2=...= \\delta_k = 0$ and conclude heteroscedasticity is present in the sample. "
   ]
  },
  {
   "cell_type": "code",
   "execution_count": 64,
   "id": "ab02ec29",
   "metadata": {},
   "outputs": [
    {
     "data": {
      "text/plain": [
       "(211.76807825368095,\n",
       " 5.915341448453325e-43,\n",
       " 49.18699087724235,\n",
       " 9.680220020442915e-51)"
      ]
     },
     "execution_count": 64,
     "metadata": {},
     "output_type": "execute_result"
    }
   ],
   "source": [
    "y, X = pt.dmatrices('cumgpa ~ sat +hsperc +tothrs +female +black + white', data,\n",
    "                   return_type = 'dataframe')\n",
    "\n",
    "# Takes in the residuals and our design matrix as arguments\n",
    "# Order is Lm Test statistic, LM P-value, F-stat, F-Pvalue\n",
    "sm.stats.diagnostic.het_breuschpagan(results.resid, X)"
   ]
  },
  {
   "cell_type": "code",
   "execution_count": 43,
   "id": "e19c863e",
   "metadata": {
    "scrolled": true
   },
   "outputs": [],
   "source": [
    "# LM test statsitic is just n*R2 from the aux regression\n",
    "LM = len(data)*aux_reg.rsquared\n",
    "\n",
    "k = results.df_model"
   ]
  },
  {
   "cell_type": "code",
   "execution_count": 44,
   "id": "1cc03452",
   "metadata": {},
   "outputs": [
    {
     "data": {
      "text/plain": [
       "5.915341448453325e-43"
      ]
     },
     "execution_count": 44,
     "metadata": {},
     "output_type": "execute_result"
    }
   ],
   "source": [
    "# sf is just 1- cdf (called the survival function)\n",
    "stats.chi2(k).sf(LM)"
   ]
  },
  {
   "cell_type": "markdown",
   "id": "7deb5af5",
   "metadata": {},
   "source": [
    "### White Test"
   ]
  },
  {
   "cell_type": "markdown",
   "id": "16539e3d",
   "metadata": {},
   "source": [
    "The white test procedure is equivalent to the BP test, except that 2nd order terms and interactions are added to teh auxiliary regression. Note that this will eat up degrees of freedom for this implementation of the test. "
   ]
  },
  {
   "cell_type": "code",
   "execution_count": 46,
   "id": "76399bee",
   "metadata": {},
   "outputs": [
    {
     "data": {
      "text/plain": [
       "(373.54693566461617,\n",
       " 4.825921983841415e-65,\n",
       " 32.07881392043317,\n",
       " 8.692792444556739e-94)"
      ]
     },
     "execution_count": 46,
     "metadata": {},
     "output_type": "execute_result"
    }
   ],
   "source": [
    "# Order is Lm Test statistic, LM P-value, F-stat, F-Pvalue\n",
    "sm.stats.diagnostic.het_white(results.resid, X)"
   ]
  },
  {
   "cell_type": "markdown",
   "id": "2e986df4",
   "metadata": {},
   "source": [
    "### Goldfeld-Quandt Test"
   ]
  },
  {
   "cell_type": "code",
   "execution_count": 140,
   "id": "9faa8ade",
   "metadata": {},
   "outputs": [],
   "source": [
    "# I need to provide a split point to the software\n",
    "# Sprt values in ascending order and reset the index to number from 1 to len(data)\n",
    "sortedv = data.sort_values(by = \"black\").copy().reset_index()\n",
    "\n",
    "# This returns the first index that contains a one\n",
    "splt = sortedv.black.argmax()\n",
    "\n",
    "# run regression\n",
    "gq_reg = smf.ols('cumgpa ~ sat +hsperc +tothrs +female +black + white', sortedv).fit()"
   ]
  },
  {
   "cell_type": "code",
   "execution_count": 141,
   "id": "743a38e4",
   "metadata": {},
   "outputs": [
    {
     "data": {
      "text/plain": [
       "(1.0065563350797613, 0.4901417839642259, 'increasing')"
      ]
     },
     "execution_count": 141,
     "metadata": {},
     "output_type": "execute_result"
    }
   ],
   "source": [
    "# get the data for dependent and independent variables\n",
    "# these are numpy arrays instead of dataframes\n",
    "y = gq_reg.model.endog\n",
    "X = gq_reg.model.exog\n",
    "\n",
    "# Order is f-stat, pvalue, hypothesis\n",
    "sm.stats.diagnostic.het_goldfeldquandt(y, X, idx = 5, alternative = 'increasing', split= splt)"
   ]
  },
  {
   "cell_type": "code",
   "execution_count": 142,
   "id": "923629a3",
   "metadata": {},
   "outputs": [
    {
     "data": {
      "text/plain": [
       "(1.0065563350797613, 0.9396730744525191, 'two-sided')"
      ]
     },
     "execution_count": 142,
     "metadata": {},
     "output_type": "execute_result"
    }
   ],
   "source": [
    "# get the data for dependent and independent\n",
    "y = gq_reg.model.endog\n",
    "X = gq_reg.model.exog\n",
    "\n",
    "# Order is f-stat, pvalue, hypothesis\n",
    "sm.stats.diagnostic.het_goldfeldquandt(y, X, idx = 5, alternative = 'two-sided', split= splt)"
   ]
  },
  {
   "cell_type": "code",
   "execution_count": 49,
   "id": "e371125c",
   "metadata": {},
   "outputs": [
    {
     "data": {
      "text/plain": [
       "1.229602398528648"
      ]
     },
     "execution_count": 49,
     "metadata": {},
     "output_type": "execute_result"
    }
   ],
   "source": [
    "# manual implementation\n",
    "data1 = data[data.black == 1]\n",
    "data0 = data[data.black == 0]\n",
    "\n",
    "# run regs on different groups\n",
    "reg1 = smf.ols('cumgpa ~ sat +hsperc +tothrs +female +black + white', data1).fit()\n",
    "reg0 = smf.ols('cumgpa ~ sat +hsperc +tothrs +female +black + white', data0).fit()\n",
    "\n",
    "# pull out the residuals of each regression\n",
    "df1 = reg1.df_resid\n",
    "df0 = reg0.df_resid\n",
    "\n",
    "# Get the variance of each regression\n",
    "sig1squared = reg1.scale\n",
    "sig0squared = reg0.scale\n",
    "\n",
    "fstat = sig1squared/sig0squared\n",
    "\n",
    "# calculate critical calue for right side test\n",
    "stats.f.ppf(.95, df1, df0)"
   ]
  },
  {
   "cell_type": "code",
   "execution_count": 50,
   "id": "55d816ff",
   "metadata": {},
   "outputs": [
    {
     "data": {
      "text/plain": [
       "1.0065563350797615"
      ]
     },
     "execution_count": 50,
     "metadata": {},
     "output_type": "execute_result"
    }
   ],
   "source": [
    "fstat"
   ]
  },
  {
   "cell_type": "markdown",
   "id": "ce51f89c",
   "metadata": {},
   "source": [
    "$F = \\frac{\\hat{\\sigma}_1^2}{\\hat{\\sigma}_0^2}$, where $H_0: \\hat{\\sigma}_1^2 \\leq \\hat{\\sigma}_0^2$ and $H_a: \\hat{\\sigma}_1^2 > \\hat{\\sigma}_0^2$"
   ]
  },
  {
   "cell_type": "code",
   "execution_count": 51,
   "id": "a0da2f25",
   "metadata": {},
   "outputs": [],
   "source": [
    "y, X = pt.dmatrices('cumgpa ~ sat +hsperc +tothrs +female +black + white', sortedv,\n",
    "                   return_type = 'dataframe')"
   ]
  },
  {
   "cell_type": "code",
   "execution_count": 52,
   "id": "c477cafe",
   "metadata": {},
   "outputs": [
    {
     "data": {
      "text/plain": [
       "0      0.0\n",
       "1      0.0\n",
       "2      0.0\n",
       "3      0.0\n",
       "4      0.0\n",
       "      ... \n",
       "727    1.0\n",
       "728    1.0\n",
       "729    1.0\n",
       "730    1.0\n",
       "731    1.0\n",
       "Name: black, Length: 732, dtype: float64"
      ]
     },
     "execution_count": 52,
     "metadata": {},
     "output_type": "execute_result"
    }
   ],
   "source": [
    "X.iloc[:,5]"
   ]
  },
  {
   "cell_type": "markdown",
   "id": "dcbaaaa2",
   "metadata": {},
   "source": [
    "We fail to reject the null hypothesis"
   ]
  },
  {
   "cell_type": "markdown",
   "id": "67c2f646",
   "metadata": {},
   "source": [
    "### Robust Standard Errors"
   ]
  },
  {
   "cell_type": "code",
   "execution_count": 54,
   "id": "5f347dd3",
   "metadata": {},
   "outputs": [
    {
     "data": {
      "text/html": [
       "<table class=\"simpletable\">\n",
       "<caption>OLS Regression Results</caption>\n",
       "<tr>\n",
       "  <th>Dep. Variable:</th>         <td>cumgpa</td>      <th>  R-squared:         </th> <td>   0.241</td>\n",
       "</tr>\n",
       "<tr>\n",
       "  <th>Model:</th>                   <td>OLS</td>       <th>  Adj. R-squared:    </th> <td>   0.234</td>\n",
       "</tr>\n",
       "<tr>\n",
       "  <th>Method:</th>             <td>Least Squares</td>  <th>  F-statistic:       </th> <td>   30.67</td>\n",
       "</tr>\n",
       "<tr>\n",
       "  <th>Date:</th>             <td>Thu, 03 Nov 2022</td> <th>  Prob (F-statistic):</th> <td>6.76e-33</td>\n",
       "</tr>\n",
       "<tr>\n",
       "  <th>Time:</th>                 <td>13:15:41</td>     <th>  Log-Likelihood:    </th> <td> -929.74</td>\n",
       "</tr>\n",
       "<tr>\n",
       "  <th>No. Observations:</th>      <td>   732</td>      <th>  AIC:               </th> <td>   1873.</td>\n",
       "</tr>\n",
       "<tr>\n",
       "  <th>Df Residuals:</th>          <td>   725</td>      <th>  BIC:               </th> <td>   1906.</td>\n",
       "</tr>\n",
       "<tr>\n",
       "  <th>Df Model:</th>              <td>     6</td>      <th>                     </th>     <td> </td>   \n",
       "</tr>\n",
       "<tr>\n",
       "  <th>Covariance Type:</th>         <td>HC0</td>       <th>                     </th>     <td> </td>   \n",
       "</tr>\n",
       "</table>\n",
       "<table class=\"simpletable\">\n",
       "<tr>\n",
       "      <td></td>         <th>coef</th>     <th>std err</th>      <th>z</th>      <th>P>|z|</th>  <th>[0.025</th>    <th>0.975]</th>  \n",
       "</tr>\n",
       "<tr>\n",
       "  <th>Intercept</th> <td>    0.8791</td> <td>    0.302</td> <td>    2.915</td> <td> 0.004</td> <td>    0.288</td> <td>    1.470</td>\n",
       "</tr>\n",
       "<tr>\n",
       "  <th>sat</th>       <td>    0.0009</td> <td>    0.000</td> <td>    3.660</td> <td> 0.000</td> <td>    0.000</td> <td>    0.001</td>\n",
       "</tr>\n",
       "<tr>\n",
       "  <th>hsperc</th>    <td>   -0.0056</td> <td>    0.002</td> <td>   -3.391</td> <td> 0.001</td> <td>   -0.009</td> <td>   -0.002</td>\n",
       "</tr>\n",
       "<tr>\n",
       "  <th>tothrs</th>    <td>    0.0121</td> <td>    0.001</td> <td>   10.713</td> <td> 0.000</td> <td>    0.010</td> <td>    0.014</td>\n",
       "</tr>\n",
       "<tr>\n",
       "  <th>female</th>    <td>    0.1667</td> <td>    0.079</td> <td>    2.123</td> <td> 0.034</td> <td>    0.013</td> <td>    0.321</td>\n",
       "</tr>\n",
       "<tr>\n",
       "  <th>black</th>     <td>   -0.0261</td> <td>    0.181</td> <td>   -0.144</td> <td> 0.885</td> <td>   -0.381</td> <td>    0.329</td>\n",
       "</tr>\n",
       "<tr>\n",
       "  <th>white</th>     <td>    0.0143</td> <td>    0.167</td> <td>    0.085</td> <td> 0.932</td> <td>   -0.314</td> <td>    0.342</td>\n",
       "</tr>\n",
       "</table>\n",
       "<table class=\"simpletable\">\n",
       "<tr>\n",
       "  <th>Omnibus:</th>       <td>15.717</td> <th>  Durbin-Watson:     </th> <td>   2.007</td>\n",
       "</tr>\n",
       "<tr>\n",
       "  <th>Prob(Omnibus):</th> <td> 0.000</td> <th>  Jarque-Bera (JB):  </th> <td>  28.426</td>\n",
       "</tr>\n",
       "<tr>\n",
       "  <th>Skew:</th>          <td> 0.088</td> <th>  Prob(JB):          </th> <td>6.72e-07</td>\n",
       "</tr>\n",
       "<tr>\n",
       "  <th>Kurtosis:</th>      <td> 3.949</td> <th>  Cond. No.          </th> <td>1.01e+04</td>\n",
       "</tr>\n",
       "</table><br/><br/>Notes:<br/>[1] Standard Errors are heteroscedasticity robust (HC0)<br/>[2] The condition number is large, 1.01e+04. This might indicate that there are<br/>strong multicollinearity or other numerical problems."
      ],
      "text/plain": [
       "<class 'statsmodels.iolib.summary.Summary'>\n",
       "\"\"\"\n",
       "                            OLS Regression Results                            \n",
       "==============================================================================\n",
       "Dep. Variable:                 cumgpa   R-squared:                       0.241\n",
       "Model:                            OLS   Adj. R-squared:                  0.234\n",
       "Method:                 Least Squares   F-statistic:                     30.67\n",
       "Date:                Thu, 03 Nov 2022   Prob (F-statistic):           6.76e-33\n",
       "Time:                        13:15:41   Log-Likelihood:                -929.74\n",
       "No. Observations:                 732   AIC:                             1873.\n",
       "Df Residuals:                     725   BIC:                             1906.\n",
       "Df Model:                           6                                         \n",
       "Covariance Type:                  HC0                                         \n",
       "==============================================================================\n",
       "                 coef    std err          z      P>|z|      [0.025      0.975]\n",
       "------------------------------------------------------------------------------\n",
       "Intercept      0.8791      0.302      2.915      0.004       0.288       1.470\n",
       "sat            0.0009      0.000      3.660      0.000       0.000       0.001\n",
       "hsperc        -0.0056      0.002     -3.391      0.001      -0.009      -0.002\n",
       "tothrs         0.0121      0.001     10.713      0.000       0.010       0.014\n",
       "female         0.1667      0.079      2.123      0.034       0.013       0.321\n",
       "black         -0.0261      0.181     -0.144      0.885      -0.381       0.329\n",
       "white          0.0143      0.167      0.085      0.932      -0.314       0.342\n",
       "==============================================================================\n",
       "Omnibus:                       15.717   Durbin-Watson:                   2.007\n",
       "Prob(Omnibus):                  0.000   Jarque-Bera (JB):               28.426\n",
       "Skew:                           0.088   Prob(JB):                     6.72e-07\n",
       "Kurtosis:                       3.949   Cond. No.                     1.01e+04\n",
       "==============================================================================\n",
       "\n",
       "Notes:\n",
       "[1] Standard Errors are heteroscedasticity robust (HC0)\n",
       "[2] The condition number is large, 1.01e+04. This might indicate that there are\n",
       "strong multicollinearity or other numerical problems.\n",
       "\"\"\""
      ]
     },
     "execution_count": 54,
     "metadata": {},
     "output_type": "execute_result"
    }
   ],
   "source": [
    "robust_reg = smf.ols('cumgpa ~ sat +hsperc +tothrs +female +black + white', data).fit(cov_type = 'HC0')\n",
    "robust_reg.summary()"
   ]
  },
  {
   "cell_type": "code",
   "execution_count": 55,
   "id": "7b0099de",
   "metadata": {},
   "outputs": [
    {
     "data": {
      "text/html": [
       "<table class=\"simpletable\">\n",
       "<caption>OLS Regression Results</caption>\n",
       "<tr>\n",
       "  <th>Dep. Variable:</th>         <td>cumgpa</td>      <th>  R-squared:         </th> <td>   0.241</td>\n",
       "</tr>\n",
       "<tr>\n",
       "  <th>Model:</th>                   <td>OLS</td>       <th>  Adj. R-squared:    </th> <td>   0.234</td>\n",
       "</tr>\n",
       "<tr>\n",
       "  <th>Method:</th>             <td>Least Squares</td>  <th>  F-statistic:       </th> <td>   38.31</td>\n",
       "</tr>\n",
       "<tr>\n",
       "  <th>Date:</th>             <td>Thu, 03 Nov 2022</td> <th>  Prob (F-statistic):</th> <td>1.73e-40</td>\n",
       "</tr>\n",
       "<tr>\n",
       "  <th>Time:</th>                 <td>13:15:42</td>     <th>  Log-Likelihood:    </th> <td> -929.74</td>\n",
       "</tr>\n",
       "<tr>\n",
       "  <th>No. Observations:</th>      <td>   732</td>      <th>  AIC:               </th> <td>   1873.</td>\n",
       "</tr>\n",
       "<tr>\n",
       "  <th>Df Residuals:</th>          <td>   725</td>      <th>  BIC:               </th> <td>   1906.</td>\n",
       "</tr>\n",
       "<tr>\n",
       "  <th>Df Model:</th>              <td>     6</td>      <th>                     </th>     <td> </td>   \n",
       "</tr>\n",
       "<tr>\n",
       "  <th>Covariance Type:</th>      <td>nonrobust</td>    <th>                     </th>     <td> </td>   \n",
       "</tr>\n",
       "</table>\n",
       "<table class=\"simpletable\">\n",
       "<tr>\n",
       "      <td></td>         <th>coef</th>     <th>std err</th>      <th>t</th>      <th>P>|t|</th>  <th>[0.025</th>    <th>0.975]</th>  \n",
       "</tr>\n",
       "<tr>\n",
       "  <th>Intercept</th> <td>    0.8791</td> <td>    0.298</td> <td>    2.952</td> <td> 0.003</td> <td>    0.294</td> <td>    1.464</td>\n",
       "</tr>\n",
       "<tr>\n",
       "  <th>sat</th>       <td>    0.0009</td> <td>    0.000</td> <td>    3.743</td> <td> 0.000</td> <td>    0.000</td> <td>    0.001</td>\n",
       "</tr>\n",
       "<tr>\n",
       "  <th>hsperc</th>    <td>   -0.0056</td> <td>    0.002</td> <td>   -3.463</td> <td> 0.001</td> <td>   -0.009</td> <td>   -0.002</td>\n",
       "</tr>\n",
       "<tr>\n",
       "  <th>tothrs</th>    <td>    0.0121</td> <td>    0.001</td> <td>   12.941</td> <td> 0.000</td> <td>    0.010</td> <td>    0.014</td>\n",
       "</tr>\n",
       "<tr>\n",
       "  <th>female</th>    <td>    0.1667</td> <td>    0.077</td> <td>    2.164</td> <td> 0.031</td> <td>    0.015</td> <td>    0.318</td>\n",
       "</tr>\n",
       "<tr>\n",
       "  <th>black</th>     <td>   -0.0261</td> <td>    0.192</td> <td>   -0.136</td> <td> 0.892</td> <td>   -0.403</td> <td>    0.351</td>\n",
       "</tr>\n",
       "<tr>\n",
       "  <th>white</th>     <td>    0.0143</td> <td>    0.184</td> <td>    0.078</td> <td> 0.938</td> <td>   -0.347</td> <td>    0.375</td>\n",
       "</tr>\n",
       "</table>\n",
       "<table class=\"simpletable\">\n",
       "<tr>\n",
       "  <th>Omnibus:</th>       <td>15.717</td> <th>  Durbin-Watson:     </th> <td>   2.007</td>\n",
       "</tr>\n",
       "<tr>\n",
       "  <th>Prob(Omnibus):</th> <td> 0.000</td> <th>  Jarque-Bera (JB):  </th> <td>  28.426</td>\n",
       "</tr>\n",
       "<tr>\n",
       "  <th>Skew:</th>          <td> 0.088</td> <th>  Prob(JB):          </th> <td>6.72e-07</td>\n",
       "</tr>\n",
       "<tr>\n",
       "  <th>Kurtosis:</th>      <td> 3.949</td> <th>  Cond. No.          </th> <td>1.01e+04</td>\n",
       "</tr>\n",
       "</table><br/><br/>Notes:<br/>[1] Standard Errors assume that the covariance matrix of the errors is correctly specified.<br/>[2] The condition number is large, 1.01e+04. This might indicate that there are<br/>strong multicollinearity or other numerical problems."
      ],
      "text/plain": [
       "<class 'statsmodels.iolib.summary.Summary'>\n",
       "\"\"\"\n",
       "                            OLS Regression Results                            \n",
       "==============================================================================\n",
       "Dep. Variable:                 cumgpa   R-squared:                       0.241\n",
       "Model:                            OLS   Adj. R-squared:                  0.234\n",
       "Method:                 Least Squares   F-statistic:                     38.31\n",
       "Date:                Thu, 03 Nov 2022   Prob (F-statistic):           1.73e-40\n",
       "Time:                        13:15:42   Log-Likelihood:                -929.74\n",
       "No. Observations:                 732   AIC:                             1873.\n",
       "Df Residuals:                     725   BIC:                             1906.\n",
       "Df Model:                           6                                         \n",
       "Covariance Type:            nonrobust                                         \n",
       "==============================================================================\n",
       "                 coef    std err          t      P>|t|      [0.025      0.975]\n",
       "------------------------------------------------------------------------------\n",
       "Intercept      0.8791      0.298      2.952      0.003       0.294       1.464\n",
       "sat            0.0009      0.000      3.743      0.000       0.000       0.001\n",
       "hsperc        -0.0056      0.002     -3.463      0.001      -0.009      -0.002\n",
       "tothrs         0.0121      0.001     12.941      0.000       0.010       0.014\n",
       "female         0.1667      0.077      2.164      0.031       0.015       0.318\n",
       "black         -0.0261      0.192     -0.136      0.892      -0.403       0.351\n",
       "white          0.0143      0.184      0.078      0.938      -0.347       0.375\n",
       "==============================================================================\n",
       "Omnibus:                       15.717   Durbin-Watson:                   2.007\n",
       "Prob(Omnibus):                  0.000   Jarque-Bera (JB):               28.426\n",
       "Skew:                           0.088   Prob(JB):                     6.72e-07\n",
       "Kurtosis:                       3.949   Cond. No.                     1.01e+04\n",
       "==============================================================================\n",
       "\n",
       "Notes:\n",
       "[1] Standard Errors assume that the covariance matrix of the errors is correctly specified.\n",
       "[2] The condition number is large, 1.01e+04. This might indicate that there are\n",
       "strong multicollinearity or other numerical problems.\n",
       "\"\"\""
      ]
     },
     "execution_count": 55,
     "metadata": {},
     "output_type": "execute_result"
    }
   ],
   "source": [
    "results.summary()"
   ]
  },
  {
   "cell_type": "code",
   "execution_count": 60,
   "id": "088cf51b",
   "metadata": {},
   "outputs": [
    {
     "name": "stdout",
     "output_type": "stream",
     "text": [
      "The F-Statistic for the Auxiliary Regression is: 49.18699087724235 and the P-Value is: 9.680220020442915e-51\n"
     ]
    }
   ],
   "source": [
    "# pull out squared residuals\n",
    "data[\"res2\"] = robust_reg.resid**2\n",
    "\n",
    "# try to predict the squared residuals using a linear combination of our variables\n",
    "aux_reg = smf.ols('res2 ~ sat +hsperc +tothrs +female +black + white', data).fit()\n",
    "\n",
    "# Get the regression f-statistic (f-test version)\n",
    "f = aux_reg.fvalue\n",
    "fp = aux_reg.f_pvalue\n",
    "\n",
    "print(\"The F-Statistic for the Auxiliary Regression is: \"+ str(f) +\" and the P-Value is: \"+ str(fp))"
   ]
  },
  {
   "cell_type": "markdown",
   "id": "432b22e2",
   "metadata": {},
   "source": [
    "### Weighted Least Squares"
   ]
  },
  {
   "cell_type": "markdown",
   "id": "6a74d82d",
   "metadata": {},
   "source": [
    "Right now we have a regression model where the errors are asumed to be heteroscedastic:"
   ]
  },
  {
   "cell_type": "markdown",
   "id": "a3a66fdd",
   "metadata": {},
   "source": [
    "$$cumgpa_i = \\beta_0+ \\beta_1 sat +\\beta_2 hsperc +\\beta_3 tothrs +\\beta_4 female +\\beta_5 lack + \\beta_6 white + e_i$$, $$var(e_i) = \\sigma^2_i$$"
   ]
  },
  {
   "cell_type": "markdown",
   "id": "57abbebb",
   "metadata": {},
   "source": [
    "We would like to know the variance for each pbservation/quantile. This isn't possible so instead we can make an assumption about how the variance of our errors depends on one or several of the regressors. Making this assumption gives us the generalized least square (GLS) estimator. This involves a linear relationship between variance and regressor $x_i$. An example of such a relationship would be:\n",
    "$$var(e_i)=\\sigma^2_i = \\sigma^2x_i$$"
   ]
  },
  {
   "cell_type": "markdown",
   "id": "167cbf82",
   "metadata": {},
   "source": [
    "where the varaince for observation i is a function of some consatnt and the current value of x (so variance would tend to increase as x increases). Then if we can correctly guess the structure of the error term, we, for example, divide our model by $\\sqrt(x_i)$ to yieldf a BLUE estimator"
   ]
  },
  {
   "cell_type": "code",
   "execution_count": 72,
   "id": "5ec6e982",
   "metadata": {},
   "outputs": [
    {
     "data": {
      "text/html": [
       "<table class=\"simpletable\">\n",
       "<caption>WLS Regression Results</caption>\n",
       "<tr>\n",
       "  <th>Dep. Variable:</th>         <td>cumgpa</td>      <th>  R-squared:         </th> <td>   0.213</td>\n",
       "</tr>\n",
       "<tr>\n",
       "  <th>Model:</th>                   <td>WLS</td>       <th>  Adj. R-squared:    </th> <td>   0.206</td>\n",
       "</tr>\n",
       "<tr>\n",
       "  <th>Method:</th>             <td>Least Squares</td>  <th>  F-statistic:       </th> <td>   32.66</td>\n",
       "</tr>\n",
       "<tr>\n",
       "  <th>Date:</th>             <td>Thu, 03 Nov 2022</td> <th>  Prob (F-statistic):</th> <td>6.67e-35</td>\n",
       "</tr>\n",
       "<tr>\n",
       "  <th>Time:</th>                 <td>13:48:42</td>     <th>  Log-Likelihood:    </th> <td> -928.52</td>\n",
       "</tr>\n",
       "<tr>\n",
       "  <th>No. Observations:</th>      <td>   732</td>      <th>  AIC:               </th> <td>   1871.</td>\n",
       "</tr>\n",
       "<tr>\n",
       "  <th>Df Residuals:</th>          <td>   725</td>      <th>  BIC:               </th> <td>   1903.</td>\n",
       "</tr>\n",
       "<tr>\n",
       "  <th>Df Model:</th>              <td>     6</td>      <th>                     </th>     <td> </td>   \n",
       "</tr>\n",
       "<tr>\n",
       "  <th>Covariance Type:</th>      <td>nonrobust</td>    <th>                     </th>     <td> </td>   \n",
       "</tr>\n",
       "</table>\n",
       "<table class=\"simpletable\">\n",
       "<tr>\n",
       "      <td></td>         <th>coef</th>     <th>std err</th>      <th>t</th>      <th>P>|t|</th>  <th>[0.025</th>    <th>0.975]</th>  \n",
       "</tr>\n",
       "<tr>\n",
       "  <th>Intercept</th> <td>    1.0094</td> <td>    0.290</td> <td>    3.483</td> <td> 0.001</td> <td>    0.441</td> <td>    1.578</td>\n",
       "</tr>\n",
       "<tr>\n",
       "  <th>sat</th>       <td>    0.0008</td> <td>    0.000</td> <td>    3.316</td> <td> 0.001</td> <td>    0.000</td> <td>    0.001</td>\n",
       "</tr>\n",
       "<tr>\n",
       "  <th>hsperc</th>    <td>   -0.0057</td> <td>    0.002</td> <td>   -3.537</td> <td> 0.000</td> <td>   -0.009</td> <td>   -0.003</td>\n",
       "</tr>\n",
       "<tr>\n",
       "  <th>tothrs</th>    <td>    0.0108</td> <td>    0.001</td> <td>   11.870</td> <td> 0.000</td> <td>    0.009</td> <td>    0.013</td>\n",
       "</tr>\n",
       "<tr>\n",
       "  <th>female</th>    <td>    0.1358</td> <td>    0.077</td> <td>    1.762</td> <td> 0.078</td> <td>   -0.015</td> <td>    0.287</td>\n",
       "</tr>\n",
       "<tr>\n",
       "  <th>black</th>     <td>    0.0075</td> <td>    0.181</td> <td>    0.041</td> <td> 0.967</td> <td>   -0.348</td> <td>    0.363</td>\n",
       "</tr>\n",
       "<tr>\n",
       "  <th>white</th>     <td>    0.0495</td> <td>    0.174</td> <td>    0.284</td> <td> 0.776</td> <td>   -0.293</td> <td>    0.392</td>\n",
       "</tr>\n",
       "</table>\n",
       "<table class=\"simpletable\">\n",
       "<tr>\n",
       "  <th>Omnibus:</th>       <td>31.141</td> <th>  Durbin-Watson:     </th> <td>   2.001</td>\n",
       "</tr>\n",
       "<tr>\n",
       "  <th>Prob(Omnibus):</th> <td> 0.000</td> <th>  Jarque-Bera (JB):  </th> <td>  73.970</td>\n",
       "</tr>\n",
       "<tr>\n",
       "  <th>Skew:</th>          <td> 0.184</td> <th>  Prob(JB):          </th> <td>8.66e-17</td>\n",
       "</tr>\n",
       "<tr>\n",
       "  <th>Kurtosis:</th>      <td> 4.513</td> <th>  Cond. No.          </th> <td>9.43e+03</td>\n",
       "</tr>\n",
       "</table><br/><br/>Notes:<br/>[1] Standard Errors assume that the covariance matrix of the errors is correctly specified.<br/>[2] The condition number is large, 9.43e+03. This might indicate that there are<br/>strong multicollinearity or other numerical problems."
      ],
      "text/plain": [
       "<class 'statsmodels.iolib.summary.Summary'>\n",
       "\"\"\"\n",
       "                            WLS Regression Results                            \n",
       "==============================================================================\n",
       "Dep. Variable:                 cumgpa   R-squared:                       0.213\n",
       "Model:                            WLS   Adj. R-squared:                  0.206\n",
       "Method:                 Least Squares   F-statistic:                     32.66\n",
       "Date:                Thu, 03 Nov 2022   Prob (F-statistic):           6.67e-35\n",
       "Time:                        13:48:42   Log-Likelihood:                -928.52\n",
       "No. Observations:                 732   AIC:                             1871.\n",
       "Df Residuals:                     725   BIC:                             1903.\n",
       "Df Model:                           6                                         \n",
       "Covariance Type:            nonrobust                                         \n",
       "==============================================================================\n",
       "                 coef    std err          t      P>|t|      [0.025      0.975]\n",
       "------------------------------------------------------------------------------\n",
       "Intercept      1.0094      0.290      3.483      0.001       0.441       1.578\n",
       "sat            0.0008      0.000      3.316      0.001       0.000       0.001\n",
       "hsperc        -0.0057      0.002     -3.537      0.000      -0.009      -0.003\n",
       "tothrs         0.0108      0.001     11.870      0.000       0.009       0.013\n",
       "female         0.1358      0.077      1.762      0.078      -0.015       0.287\n",
       "black          0.0075      0.181      0.041      0.967      -0.348       0.363\n",
       "white          0.0495      0.174      0.284      0.776      -0.293       0.392\n",
       "==============================================================================\n",
       "Omnibus:                       31.141   Durbin-Watson:                   2.001\n",
       "Prob(Omnibus):                  0.000   Jarque-Bera (JB):               73.970\n",
       "Skew:                           0.184   Prob(JB):                     8.66e-17\n",
       "Kurtosis:                       4.513   Cond. No.                     9.43e+03\n",
       "==============================================================================\n",
       "\n",
       "Notes:\n",
       "[1] Standard Errors assume that the covariance matrix of the errors is correctly specified.\n",
       "[2] The condition number is large, 9.43e+03. This might indicate that there are\n",
       "strong multicollinearity or other numerical problems.\n",
       "\"\"\""
      ]
     },
     "execution_count": 72,
     "metadata": {},
     "output_type": "execute_result"
    }
   ],
   "source": [
    "# maybe I believe the heteroscedastic relationship is due to sat\n",
    "w = 1/data.sat\n",
    "\n",
    "# run a weighted regression and provide weights\n",
    "# note we can use WLS and robust standrad errors\n",
    "wls_known = smf.wls('cumgpa ~ sat +hsperc +tothrs +female +black + white', weights = w, data = data).fit()\n",
    "wls_known.summary()"
   ]
  },
  {
   "cell_type": "markdown",
   "id": "961247cc",
   "metadata": {},
   "source": [
    "### Feasible GLS"
   ]
  },
  {
   "cell_type": "markdown",
   "id": "ca56f700",
   "metadata": {},
   "source": [
    "Often times we have no diea what the appropriate weights for a model might be. FGLS is a proceudre for estimatinng the proper weights to be included in wls. Here we assume that the variance of the error terms is a function of some variables. "
   ]
  },
  {
   "cell_type": "code",
   "execution_count": 143,
   "id": "dba077ae",
   "metadata": {
    "scrolled": false
   },
   "outputs": [
    {
     "data": {
      "text/html": [
       "<table class=\"simpletable\">\n",
       "<caption>OLS Regression Results</caption>\n",
       "<tr>\n",
       "  <th>Dep. Variable:</th>        <td>food_exp</td>     <th>  R-squared:         </th> <td>   0.385</td>\n",
       "</tr>\n",
       "<tr>\n",
       "  <th>Model:</th>                   <td>OLS</td>       <th>  Adj. R-squared:    </th> <td>   0.369</td>\n",
       "</tr>\n",
       "<tr>\n",
       "  <th>Method:</th>             <td>Least Squares</td>  <th>  F-statistic:       </th> <td>   23.79</td>\n",
       "</tr>\n",
       "<tr>\n",
       "  <th>Date:</th>             <td>Fri, 04 Nov 2022</td> <th>  Prob (F-statistic):</th> <td>1.95e-05</td>\n",
       "</tr>\n",
       "<tr>\n",
       "  <th>Time:</th>                 <td>12:17:44</td>     <th>  Log-Likelihood:    </th> <td> -235.51</td>\n",
       "</tr>\n",
       "<tr>\n",
       "  <th>No. Observations:</th>      <td>    40</td>      <th>  AIC:               </th> <td>   475.0</td>\n",
       "</tr>\n",
       "<tr>\n",
       "  <th>Df Residuals:</th>          <td>    38</td>      <th>  BIC:               </th> <td>   478.4</td>\n",
       "</tr>\n",
       "<tr>\n",
       "  <th>Df Model:</th>              <td>     1</td>      <th>                     </th>     <td> </td>   \n",
       "</tr>\n",
       "<tr>\n",
       "  <th>Covariance Type:</th>      <td>nonrobust</td>    <th>                     </th>     <td> </td>   \n",
       "</tr>\n",
       "</table>\n",
       "<table class=\"simpletable\">\n",
       "<tr>\n",
       "      <td></td>         <th>coef</th>     <th>std err</th>      <th>t</th>      <th>P>|t|</th>  <th>[0.025</th>    <th>0.975]</th>  \n",
       "</tr>\n",
       "<tr>\n",
       "  <th>Intercept</th> <td>   83.4160</td> <td>   43.410</td> <td>    1.922</td> <td> 0.062</td> <td>   -4.463</td> <td>  171.295</td>\n",
       "</tr>\n",
       "<tr>\n",
       "  <th>income</th>    <td>   10.2096</td> <td>    2.093</td> <td>    4.877</td> <td> 0.000</td> <td>    5.972</td> <td>   14.447</td>\n",
       "</tr>\n",
       "</table>\n",
       "<table class=\"simpletable\">\n",
       "<tr>\n",
       "  <th>Omnibus:</th>       <td> 0.277</td> <th>  Durbin-Watson:     </th> <td>   1.894</td>\n",
       "</tr>\n",
       "<tr>\n",
       "  <th>Prob(Omnibus):</th> <td> 0.870</td> <th>  Jarque-Bera (JB):  </th> <td>   0.063</td>\n",
       "</tr>\n",
       "<tr>\n",
       "  <th>Skew:</th>          <td>-0.097</td> <th>  Prob(JB):          </th> <td>   0.969</td>\n",
       "</tr>\n",
       "<tr>\n",
       "  <th>Kurtosis:</th>      <td> 2.989</td> <th>  Cond. No.          </th> <td>    63.7</td>\n",
       "</tr>\n",
       "</table><br/><br/>Notes:<br/>[1] Standard Errors assume that the covariance matrix of the errors is correctly specified."
      ],
      "text/plain": [
       "<class 'statsmodels.iolib.summary.Summary'>\n",
       "\"\"\"\n",
       "                            OLS Regression Results                            \n",
       "==============================================================================\n",
       "Dep. Variable:               food_exp   R-squared:                       0.385\n",
       "Model:                            OLS   Adj. R-squared:                  0.369\n",
       "Method:                 Least Squares   F-statistic:                     23.79\n",
       "Date:                Fri, 04 Nov 2022   Prob (F-statistic):           1.95e-05\n",
       "Time:                        12:17:44   Log-Likelihood:                -235.51\n",
       "No. Observations:                  40   AIC:                             475.0\n",
       "Df Residuals:                      38   BIC:                             478.4\n",
       "Df Model:                           1                                         \n",
       "Covariance Type:            nonrobust                                         \n",
       "==============================================================================\n",
       "                 coef    std err          t      P>|t|      [0.025      0.975]\n",
       "------------------------------------------------------------------------------\n",
       "Intercept     83.4160     43.410      1.922      0.062      -4.463     171.295\n",
       "income        10.2096      2.093      4.877      0.000       5.972      14.447\n",
       "==============================================================================\n",
       "Omnibus:                        0.277   Durbin-Watson:                   1.894\n",
       "Prob(Omnibus):                  0.870   Jarque-Bera (JB):                0.063\n",
       "Skew:                          -0.097   Prob(JB):                        0.969\n",
       "Kurtosis:                       2.989   Cond. No.                         63.7\n",
       "==============================================================================\n",
       "\n",
       "Notes:\n",
       "[1] Standard Errors assume that the covariance matrix of the errors is correctly specified.\n",
       "\"\"\""
      ]
     },
     "execution_count": 143,
     "metadata": {},
     "output_type": "execute_result"
    }
   ],
   "source": [
    "results2.summary()"
   ]
  },
  {
   "cell_type": "code",
   "execution_count": 147,
   "id": "ff27956b",
   "metadata": {},
   "outputs": [
    {
     "data": {
      "text/html": [
       "<table class=\"simpletable\">\n",
       "<caption>WLS Regression Results</caption>\n",
       "<tr>\n",
       "  <th>Dep. Variable:</th>        <td>food_exp</td>     <th>  R-squared:         </th> <td>   0.772</td>\n",
       "</tr>\n",
       "<tr>\n",
       "  <th>Model:</th>                   <td>WLS</td>       <th>  Adj. R-squared:    </th> <td>   0.766</td>\n",
       "</tr>\n",
       "<tr>\n",
       "  <th>Method:</th>             <td>Least Squares</td>  <th>  F-statistic:       </th> <td>   128.6</td>\n",
       "</tr>\n",
       "<tr>\n",
       "  <th>Date:</th>             <td>Fri, 04 Nov 2022</td> <th>  Prob (F-statistic):</th> <td>9.21e-14</td>\n",
       "</tr>\n",
       "<tr>\n",
       "  <th>Time:</th>                 <td>12:41:46</td>     <th>  Log-Likelihood:    </th> <td> -234.12</td>\n",
       "</tr>\n",
       "<tr>\n",
       "  <th>No. Observations:</th>      <td>    40</td>      <th>  AIC:               </th> <td>   472.2</td>\n",
       "</tr>\n",
       "<tr>\n",
       "  <th>Df Residuals:</th>          <td>    38</td>      <th>  BIC:               </th> <td>   475.6</td>\n",
       "</tr>\n",
       "<tr>\n",
       "  <th>Df Model:</th>              <td>     1</td>      <th>                     </th>     <td> </td>   \n",
       "</tr>\n",
       "<tr>\n",
       "  <th>Covariance Type:</th>      <td>nonrobust</td>    <th>                     </th>     <td> </td>   \n",
       "</tr>\n",
       "</table>\n",
       "<table class=\"simpletable\">\n",
       "<tr>\n",
       "      <td></td>         <th>coef</th>     <th>std err</th>      <th>t</th>      <th>P>|t|</th>  <th>[0.025</th>    <th>0.975]</th>  \n",
       "</tr>\n",
       "<tr>\n",
       "  <th>Intercept</th> <td>   73.0257</td> <td>    6.206</td> <td>   11.766</td> <td> 0.000</td> <td>   60.462</td> <td>   85.590</td>\n",
       "</tr>\n",
       "<tr>\n",
       "  <th>income</th>    <td>   11.0233</td> <td>    0.972</td> <td>   11.342</td> <td> 0.000</td> <td>    9.056</td> <td>   12.991</td>\n",
       "</tr>\n",
       "</table>\n",
       "<table class=\"simpletable\">\n",
       "<tr>\n",
       "  <th>Omnibus:</th>       <td> 1.459</td> <th>  Durbin-Watson:     </th> <td>   1.806</td>\n",
       "</tr>\n",
       "<tr>\n",
       "  <th>Prob(Omnibus):</th> <td> 0.482</td> <th>  Jarque-Bera (JB):  </th> <td>   0.606</td>\n",
       "</tr>\n",
       "<tr>\n",
       "  <th>Skew:</th>          <td>-0.183</td> <th>  Prob(JB):          </th> <td>   0.739</td>\n",
       "</tr>\n",
       "<tr>\n",
       "  <th>Kurtosis:</th>      <td> 3.479</td> <th>  Cond. No.          </th> <td>    12.4</td>\n",
       "</tr>\n",
       "</table><br/><br/>Notes:<br/>[1] Standard Errors assume that the covariance matrix of the errors is correctly specified."
      ],
      "text/plain": [
       "<class 'statsmodels.iolib.summary.Summary'>\n",
       "\"\"\"\n",
       "                            WLS Regression Results                            \n",
       "==============================================================================\n",
       "Dep. Variable:               food_exp   R-squared:                       0.772\n",
       "Model:                            WLS   Adj. R-squared:                  0.766\n",
       "Method:                 Least Squares   F-statistic:                     128.6\n",
       "Date:                Fri, 04 Nov 2022   Prob (F-statistic):           9.21e-14\n",
       "Time:                        12:41:46   Log-Likelihood:                -234.12\n",
       "No. Observations:                  40   AIC:                             472.2\n",
       "Df Residuals:                      38   BIC:                             475.6\n",
       "Df Model:                           1                                         \n",
       "Covariance Type:            nonrobust                                         \n",
       "==============================================================================\n",
       "                 coef    std err          t      P>|t|      [0.025      0.975]\n",
       "------------------------------------------------------------------------------\n",
       "Intercept     73.0257      6.206     11.766      0.000      60.462      85.590\n",
       "income        11.0233      0.972     11.342      0.000       9.056      12.991\n",
       "==============================================================================\n",
       "Omnibus:                        1.459   Durbin-Watson:                   1.806\n",
       "Prob(Omnibus):                  0.482   Jarque-Bera (JB):                0.606\n",
       "Skew:                          -0.183   Prob(JB):                        0.739\n",
       "Kurtosis:                       3.479   Cond. No.                         12.4\n",
       "==============================================================================\n",
       "\n",
       "Notes:\n",
       "[1] Standard Errors assume that the covariance matrix of the errors is correctly specified.\n",
       "\"\"\""
      ]
     },
     "execution_count": 147,
     "metadata": {},
     "output_type": "execute_result"
    }
   ],
   "source": [
    "foodata[\"ehatsq\"] = results2.resid**2\n",
    "\n",
    "# estimate weights\n",
    "w_est = smf.ols('np.log(ehatsq) ~ income', data = foodata).fit()\n",
    "\n",
    "vari = np.exp(w_est.fittedvalues) #estimated variances\n",
    "w = 1/vari**2\n",
    "\n",
    "fgls =smf.wls('food_exp ~ income', foodata, weights = w).fit()\n",
    "\n",
    "fgls.summary()"
   ]
  },
  {
   "cell_type": "markdown",
   "id": "245899a3",
   "metadata": {},
   "source": [
    "## Missing Observations"
   ]
  },
  {
   "cell_type": "code",
   "execution_count": 112,
   "id": "2ff72128",
   "metadata": {},
   "outputs": [
    {
     "data": {
      "text/plain": [
       "crim       0\n",
       "zn         0\n",
       "indus      0\n",
       "chas       0\n",
       "nox        0\n",
       "rm         0\n",
       "age        0\n",
       "dis        0\n",
       "rad        0\n",
       "tax        0\n",
       "ptratio    0\n",
       "b          0\n",
       "lstat      0\n",
       "medv       0\n",
       "dtype: int64"
      ]
     },
     "execution_count": 112,
     "metadata": {},
     "output_type": "execute_result"
    }
   ],
   "source": [
    "housing = pd.read_csv('bh.csv')\n",
    "housing.isna().sum()"
   ]
  },
  {
   "cell_type": "markdown",
   "id": "792edef7",
   "metadata": {},
   "source": [
    "### Removal (Variable or Observation)"
   ]
  },
  {
   "cell_type": "code",
   "execution_count": 113,
   "id": "b82982bf",
   "metadata": {},
   "outputs": [
    {
     "data": {
      "text/plain": [
       "(506, 14)"
      ]
     },
     "execution_count": 113,
     "metadata": {},
     "output_type": "execute_result"
    }
   ],
   "source": [
    "housing.shape"
   ]
  },
  {
   "cell_type": "code",
   "execution_count": 114,
   "id": "2a6e3a0b",
   "metadata": {},
   "outputs": [],
   "source": [
    "# Generate some random indices to craete NAs\n",
    "NA_indices1 = np.random.choice(range(0,len(housing)), 100, replace = False)\n",
    "NA_indices2 = np.random.choice(range(0,len(housing)), 100, replace = False)\n",
    "# Add NAS to a few columns\n",
    "housing.loc[NA_indices1,\"crim\"] = np.NaN\n",
    "# Add NAS to a few columns\n",
    "housing.loc[NA_indices2,\"tax\"] = np.NaN"
   ]
  },
  {
   "cell_type": "code",
   "execution_count": 115,
   "id": "1f70ddeb",
   "metadata": {},
   "outputs": [
    {
     "data": {
      "text/plain": [
       "crim       100\n",
       "zn           0\n",
       "indus        0\n",
       "chas         0\n",
       "nox          0\n",
       "rm           0\n",
       "age          0\n",
       "dis          0\n",
       "rad          0\n",
       "tax        100\n",
       "ptratio      0\n",
       "b            0\n",
       "lstat        0\n",
       "medv         0\n",
       "dtype: int64"
      ]
     },
     "execution_count": 115,
     "metadata": {},
     "output_type": "execute_result"
    }
   ],
   "source": [
    "housing.isna().sum()"
   ]
  },
  {
   "cell_type": "markdown",
   "id": "d61cc479",
   "metadata": {},
   "source": [
    "### Mean, Median, or Mode Imputation"
   ]
  },
  {
   "cell_type": "code",
   "execution_count": 126,
   "id": "cf80fb27",
   "metadata": {},
   "outputs": [
    {
     "data": {
      "text/plain": [
       "0.301315"
      ]
     },
     "execution_count": 126,
     "metadata": {},
     "output_type": "execute_result"
    }
   ],
   "source": [
    "stat_copy = housing.copy()\n",
    "\n",
    "# just fill in with your favored statistic\n",
    "stat_copy[\"crim\"] = housing.crim.fillna(housing.crim.median())\n",
    "housing.crim.median()"
   ]
  },
  {
   "cell_type": "code",
   "execution_count": 122,
   "id": "d97e73d3",
   "metadata": {},
   "outputs": [
    {
     "data": {
      "text/plain": [
       "crim         0\n",
       "zn           0\n",
       "indus        0\n",
       "chas         0\n",
       "nox          0\n",
       "rm           0\n",
       "age          0\n",
       "dis          0\n",
       "rad          0\n",
       "tax        100\n",
       "ptratio      0\n",
       "b            0\n",
       "lstat        0\n",
       "medv         0\n",
       "dtype: int64"
      ]
     },
     "execution_count": 122,
     "metadata": {},
     "output_type": "execute_result"
    }
   ],
   "source": [
    "stat_copy.isna().sum()"
   ]
  },
  {
   "cell_type": "code",
   "execution_count": 124,
   "id": "cdd5f715",
   "metadata": {},
   "outputs": [
    {
     "data": {
      "text/html": [
       "<div>\n",
       "<style scoped>\n",
       "    .dataframe tbody tr th:only-of-type {\n",
       "        vertical-align: middle;\n",
       "    }\n",
       "\n",
       "    .dataframe tbody tr th {\n",
       "        vertical-align: top;\n",
       "    }\n",
       "\n",
       "    .dataframe thead th {\n",
       "        text-align: right;\n",
       "    }\n",
       "</style>\n",
       "<table border=\"1\" class=\"dataframe\">\n",
       "  <thead>\n",
       "    <tr style=\"text-align: right;\">\n",
       "      <th></th>\n",
       "      <th>crim</th>\n",
       "      <th>zn</th>\n",
       "      <th>indus</th>\n",
       "      <th>chas</th>\n",
       "      <th>nox</th>\n",
       "      <th>rm</th>\n",
       "      <th>age</th>\n",
       "      <th>dis</th>\n",
       "      <th>rad</th>\n",
       "      <th>tax</th>\n",
       "      <th>ptratio</th>\n",
       "      <th>b</th>\n",
       "      <th>lstat</th>\n",
       "      <th>medv</th>\n",
       "    </tr>\n",
       "  </thead>\n",
       "  <tbody>\n",
       "    <tr>\n",
       "      <th>0</th>\n",
       "      <td>0.006320</td>\n",
       "      <td>18.0</td>\n",
       "      <td>2.31</td>\n",
       "      <td>0</td>\n",
       "      <td>0.538</td>\n",
       "      <td>6.575</td>\n",
       "      <td>65.2</td>\n",
       "      <td>4.0900</td>\n",
       "      <td>1</td>\n",
       "      <td>296.0</td>\n",
       "      <td>15.3</td>\n",
       "      <td>396.90</td>\n",
       "      <td>4.98</td>\n",
       "      <td>24.0</td>\n",
       "    </tr>\n",
       "    <tr>\n",
       "      <th>1</th>\n",
       "      <td>0.301315</td>\n",
       "      <td>0.0</td>\n",
       "      <td>7.07</td>\n",
       "      <td>0</td>\n",
       "      <td>0.469</td>\n",
       "      <td>6.421</td>\n",
       "      <td>78.9</td>\n",
       "      <td>4.9671</td>\n",
       "      <td>2</td>\n",
       "      <td>242.0</td>\n",
       "      <td>17.8</td>\n",
       "      <td>396.90</td>\n",
       "      <td>9.14</td>\n",
       "      <td>21.6</td>\n",
       "    </tr>\n",
       "    <tr>\n",
       "      <th>2</th>\n",
       "      <td>0.027290</td>\n",
       "      <td>0.0</td>\n",
       "      <td>7.07</td>\n",
       "      <td>0</td>\n",
       "      <td>0.469</td>\n",
       "      <td>7.185</td>\n",
       "      <td>61.1</td>\n",
       "      <td>4.9671</td>\n",
       "      <td>2</td>\n",
       "      <td>242.0</td>\n",
       "      <td>17.8</td>\n",
       "      <td>392.83</td>\n",
       "      <td>4.03</td>\n",
       "      <td>34.7</td>\n",
       "    </tr>\n",
       "    <tr>\n",
       "      <th>3</th>\n",
       "      <td>0.301315</td>\n",
       "      <td>0.0</td>\n",
       "      <td>2.18</td>\n",
       "      <td>0</td>\n",
       "      <td>0.458</td>\n",
       "      <td>6.998</td>\n",
       "      <td>45.8</td>\n",
       "      <td>6.0622</td>\n",
       "      <td>3</td>\n",
       "      <td>222.0</td>\n",
       "      <td>18.7</td>\n",
       "      <td>394.63</td>\n",
       "      <td>2.94</td>\n",
       "      <td>33.4</td>\n",
       "    </tr>\n",
       "    <tr>\n",
       "      <th>4</th>\n",
       "      <td>0.069050</td>\n",
       "      <td>0.0</td>\n",
       "      <td>2.18</td>\n",
       "      <td>0</td>\n",
       "      <td>0.458</td>\n",
       "      <td>7.147</td>\n",
       "      <td>54.2</td>\n",
       "      <td>6.0622</td>\n",
       "      <td>3</td>\n",
       "      <td>222.0</td>\n",
       "      <td>18.7</td>\n",
       "      <td>396.90</td>\n",
       "      <td>5.33</td>\n",
       "      <td>36.2</td>\n",
       "    </tr>\n",
       "    <tr>\n",
       "      <th>5</th>\n",
       "      <td>0.029850</td>\n",
       "      <td>0.0</td>\n",
       "      <td>2.18</td>\n",
       "      <td>0</td>\n",
       "      <td>0.458</td>\n",
       "      <td>6.430</td>\n",
       "      <td>58.7</td>\n",
       "      <td>6.0622</td>\n",
       "      <td>3</td>\n",
       "      <td>222.0</td>\n",
       "      <td>18.7</td>\n",
       "      <td>394.12</td>\n",
       "      <td>5.21</td>\n",
       "      <td>28.7</td>\n",
       "    </tr>\n",
       "    <tr>\n",
       "      <th>6</th>\n",
       "      <td>0.088290</td>\n",
       "      <td>12.5</td>\n",
       "      <td>7.87</td>\n",
       "      <td>0</td>\n",
       "      <td>0.524</td>\n",
       "      <td>6.012</td>\n",
       "      <td>66.6</td>\n",
       "      <td>5.5605</td>\n",
       "      <td>5</td>\n",
       "      <td>NaN</td>\n",
       "      <td>15.2</td>\n",
       "      <td>395.60</td>\n",
       "      <td>12.43</td>\n",
       "      <td>22.9</td>\n",
       "    </tr>\n",
       "    <tr>\n",
       "      <th>7</th>\n",
       "      <td>0.144550</td>\n",
       "      <td>12.5</td>\n",
       "      <td>7.87</td>\n",
       "      <td>0</td>\n",
       "      <td>0.524</td>\n",
       "      <td>6.172</td>\n",
       "      <td>96.1</td>\n",
       "      <td>5.9505</td>\n",
       "      <td>5</td>\n",
       "      <td>311.0</td>\n",
       "      <td>15.2</td>\n",
       "      <td>396.90</td>\n",
       "      <td>19.15</td>\n",
       "      <td>27.1</td>\n",
       "    </tr>\n",
       "    <tr>\n",
       "      <th>8</th>\n",
       "      <td>0.211240</td>\n",
       "      <td>12.5</td>\n",
       "      <td>7.87</td>\n",
       "      <td>0</td>\n",
       "      <td>0.524</td>\n",
       "      <td>5.631</td>\n",
       "      <td>100.0</td>\n",
       "      <td>6.0821</td>\n",
       "      <td>5</td>\n",
       "      <td>311.0</td>\n",
       "      <td>15.2</td>\n",
       "      <td>386.63</td>\n",
       "      <td>29.93</td>\n",
       "      <td>16.5</td>\n",
       "    </tr>\n",
       "    <tr>\n",
       "      <th>9</th>\n",
       "      <td>0.170040</td>\n",
       "      <td>12.5</td>\n",
       "      <td>7.87</td>\n",
       "      <td>0</td>\n",
       "      <td>0.524</td>\n",
       "      <td>6.004</td>\n",
       "      <td>85.9</td>\n",
       "      <td>6.5921</td>\n",
       "      <td>5</td>\n",
       "      <td>NaN</td>\n",
       "      <td>15.2</td>\n",
       "      <td>386.71</td>\n",
       "      <td>17.10</td>\n",
       "      <td>18.9</td>\n",
       "    </tr>\n",
       "  </tbody>\n",
       "</table>\n",
       "</div>"
      ],
      "text/plain": [
       "       crim    zn  indus  chas    nox     rm    age     dis  rad    tax  \\\n",
       "0  0.006320  18.0   2.31     0  0.538  6.575   65.2  4.0900    1  296.0   \n",
       "1  0.301315   0.0   7.07     0  0.469  6.421   78.9  4.9671    2  242.0   \n",
       "2  0.027290   0.0   7.07     0  0.469  7.185   61.1  4.9671    2  242.0   \n",
       "3  0.301315   0.0   2.18     0  0.458  6.998   45.8  6.0622    3  222.0   \n",
       "4  0.069050   0.0   2.18     0  0.458  7.147   54.2  6.0622    3  222.0   \n",
       "5  0.029850   0.0   2.18     0  0.458  6.430   58.7  6.0622    3  222.0   \n",
       "6  0.088290  12.5   7.87     0  0.524  6.012   66.6  5.5605    5    NaN   \n",
       "7  0.144550  12.5   7.87     0  0.524  6.172   96.1  5.9505    5  311.0   \n",
       "8  0.211240  12.5   7.87     0  0.524  5.631  100.0  6.0821    5  311.0   \n",
       "9  0.170040  12.5   7.87     0  0.524  6.004   85.9  6.5921    5    NaN   \n",
       "\n",
       "   ptratio       b  lstat  medv  \n",
       "0     15.3  396.90   4.98  24.0  \n",
       "1     17.8  396.90   9.14  21.6  \n",
       "2     17.8  392.83   4.03  34.7  \n",
       "3     18.7  394.63   2.94  33.4  \n",
       "4     18.7  396.90   5.33  36.2  \n",
       "5     18.7  394.12   5.21  28.7  \n",
       "6     15.2  395.60  12.43  22.9  \n",
       "7     15.2  396.90  19.15  27.1  \n",
       "8     15.2  386.63  29.93  16.5  \n",
       "9     15.2  386.71  17.10  18.9  "
      ]
     },
     "execution_count": 124,
     "metadata": {},
     "output_type": "execute_result"
    }
   ],
   "source": [
    "stat_copy.head(10)"
   ]
  },
  {
   "cell_type": "markdown",
   "id": "eaf1b3f0",
   "metadata": {},
   "source": [
    "### Prediction"
   ]
  },
  {
   "cell_type": "markdown",
   "id": "9c3aa353",
   "metadata": {},
   "source": [
    "#### KNN"
   ]
  },
  {
   "cell_type": "markdown",
   "id": "fc87c1e2",
   "metadata": {},
   "source": [
    "https://scikit-learn.org/stable/modules/generated/sklearn.impute.KNNImputer.html"
   ]
  },
  {
   "cell_type": "code",
   "execution_count": 134,
   "id": "6692d886",
   "metadata": {},
   "outputs": [
    {
     "data": {
      "text/html": [
       "<div>\n",
       "<style scoped>\n",
       "    .dataframe tbody tr th:only-of-type {\n",
       "        vertical-align: middle;\n",
       "    }\n",
       "\n",
       "    .dataframe tbody tr th {\n",
       "        vertical-align: top;\n",
       "    }\n",
       "\n",
       "    .dataframe thead th {\n",
       "        text-align: right;\n",
       "    }\n",
       "</style>\n",
       "<table border=\"1\" class=\"dataframe\">\n",
       "  <thead>\n",
       "    <tr style=\"text-align: right;\">\n",
       "      <th></th>\n",
       "      <th>crim</th>\n",
       "      <th>zn</th>\n",
       "      <th>indus</th>\n",
       "      <th>chas</th>\n",
       "      <th>nox</th>\n",
       "      <th>rm</th>\n",
       "      <th>age</th>\n",
       "      <th>dis</th>\n",
       "      <th>rad</th>\n",
       "      <th>tax</th>\n",
       "      <th>ptratio</th>\n",
       "      <th>b</th>\n",
       "      <th>lstat</th>\n",
       "      <th>medv</th>\n",
       "    </tr>\n",
       "  </thead>\n",
       "  <tbody>\n",
       "    <tr>\n",
       "      <th>0</th>\n",
       "      <td>0.006320</td>\n",
       "      <td>18.0</td>\n",
       "      <td>2.31</td>\n",
       "      <td>0.0</td>\n",
       "      <td>0.538</td>\n",
       "      <td>6.575</td>\n",
       "      <td>65.2</td>\n",
       "      <td>4.0900</td>\n",
       "      <td>1.0</td>\n",
       "      <td>296.0</td>\n",
       "      <td>15.3</td>\n",
       "      <td>396.90</td>\n",
       "      <td>4.98</td>\n",
       "      <td>24.0</td>\n",
       "    </tr>\n",
       "    <tr>\n",
       "      <th>1</th>\n",
       "      <td>0.313690</td>\n",
       "      <td>0.0</td>\n",
       "      <td>7.07</td>\n",
       "      <td>0.0</td>\n",
       "      <td>0.469</td>\n",
       "      <td>6.421</td>\n",
       "      <td>78.9</td>\n",
       "      <td>4.9671</td>\n",
       "      <td>2.0</td>\n",
       "      <td>242.0</td>\n",
       "      <td>17.8</td>\n",
       "      <td>396.90</td>\n",
       "      <td>9.14</td>\n",
       "      <td>21.6</td>\n",
       "    </tr>\n",
       "    <tr>\n",
       "      <th>2</th>\n",
       "      <td>0.027290</td>\n",
       "      <td>0.0</td>\n",
       "      <td>7.07</td>\n",
       "      <td>0.0</td>\n",
       "      <td>0.469</td>\n",
       "      <td>7.185</td>\n",
       "      <td>61.1</td>\n",
       "      <td>4.9671</td>\n",
       "      <td>2.0</td>\n",
       "      <td>242.0</td>\n",
       "      <td>17.8</td>\n",
       "      <td>392.83</td>\n",
       "      <td>4.03</td>\n",
       "      <td>34.7</td>\n",
       "    </tr>\n",
       "    <tr>\n",
       "      <th>3</th>\n",
       "      <td>0.047794</td>\n",
       "      <td>0.0</td>\n",
       "      <td>2.18</td>\n",
       "      <td>0.0</td>\n",
       "      <td>0.458</td>\n",
       "      <td>6.998</td>\n",
       "      <td>45.8</td>\n",
       "      <td>6.0622</td>\n",
       "      <td>3.0</td>\n",
       "      <td>222.0</td>\n",
       "      <td>18.7</td>\n",
       "      <td>394.63</td>\n",
       "      <td>2.94</td>\n",
       "      <td>33.4</td>\n",
       "    </tr>\n",
       "    <tr>\n",
       "      <th>4</th>\n",
       "      <td>0.069050</td>\n",
       "      <td>0.0</td>\n",
       "      <td>2.18</td>\n",
       "      <td>0.0</td>\n",
       "      <td>0.458</td>\n",
       "      <td>7.147</td>\n",
       "      <td>54.2</td>\n",
       "      <td>6.0622</td>\n",
       "      <td>3.0</td>\n",
       "      <td>222.0</td>\n",
       "      <td>18.7</td>\n",
       "      <td>396.90</td>\n",
       "      <td>5.33</td>\n",
       "      <td>36.2</td>\n",
       "    </tr>\n",
       "    <tr>\n",
       "      <th>5</th>\n",
       "      <td>0.029850</td>\n",
       "      <td>0.0</td>\n",
       "      <td>2.18</td>\n",
       "      <td>0.0</td>\n",
       "      <td>0.458</td>\n",
       "      <td>6.430</td>\n",
       "      <td>58.7</td>\n",
       "      <td>6.0622</td>\n",
       "      <td>3.0</td>\n",
       "      <td>222.0</td>\n",
       "      <td>18.7</td>\n",
       "      <td>394.12</td>\n",
       "      <td>5.21</td>\n",
       "      <td>28.7</td>\n",
       "    </tr>\n",
       "    <tr>\n",
       "      <th>6</th>\n",
       "      <td>0.088290</td>\n",
       "      <td>12.5</td>\n",
       "      <td>7.87</td>\n",
       "      <td>0.0</td>\n",
       "      <td>0.524</td>\n",
       "      <td>6.012</td>\n",
       "      <td>66.6</td>\n",
       "      <td>5.5605</td>\n",
       "      <td>5.0</td>\n",
       "      <td>266.0</td>\n",
       "      <td>15.2</td>\n",
       "      <td>395.60</td>\n",
       "      <td>12.43</td>\n",
       "      <td>22.9</td>\n",
       "    </tr>\n",
       "    <tr>\n",
       "      <th>7</th>\n",
       "      <td>0.144550</td>\n",
       "      <td>12.5</td>\n",
       "      <td>7.87</td>\n",
       "      <td>0.0</td>\n",
       "      <td>0.524</td>\n",
       "      <td>6.172</td>\n",
       "      <td>96.1</td>\n",
       "      <td>5.9505</td>\n",
       "      <td>5.0</td>\n",
       "      <td>311.0</td>\n",
       "      <td>15.2</td>\n",
       "      <td>396.90</td>\n",
       "      <td>19.15</td>\n",
       "      <td>27.1</td>\n",
       "    </tr>\n",
       "    <tr>\n",
       "      <th>8</th>\n",
       "      <td>0.211240</td>\n",
       "      <td>12.5</td>\n",
       "      <td>7.87</td>\n",
       "      <td>0.0</td>\n",
       "      <td>0.524</td>\n",
       "      <td>5.631</td>\n",
       "      <td>100.0</td>\n",
       "      <td>6.0821</td>\n",
       "      <td>5.0</td>\n",
       "      <td>311.0</td>\n",
       "      <td>15.2</td>\n",
       "      <td>386.63</td>\n",
       "      <td>29.93</td>\n",
       "      <td>16.5</td>\n",
       "    </tr>\n",
       "    <tr>\n",
       "      <th>9</th>\n",
       "      <td>0.170040</td>\n",
       "      <td>12.5</td>\n",
       "      <td>7.87</td>\n",
       "      <td>0.0</td>\n",
       "      <td>0.524</td>\n",
       "      <td>6.004</td>\n",
       "      <td>85.9</td>\n",
       "      <td>6.5921</td>\n",
       "      <td>5.0</td>\n",
       "      <td>347.6</td>\n",
       "      <td>15.2</td>\n",
       "      <td>386.71</td>\n",
       "      <td>17.10</td>\n",
       "      <td>18.9</td>\n",
       "    </tr>\n",
       "  </tbody>\n",
       "</table>\n",
       "</div>"
      ],
      "text/plain": [
       "       crim    zn  indus  chas    nox     rm    age     dis  rad    tax  \\\n",
       "0  0.006320  18.0   2.31   0.0  0.538  6.575   65.2  4.0900  1.0  296.0   \n",
       "1  0.313690   0.0   7.07   0.0  0.469  6.421   78.9  4.9671  2.0  242.0   \n",
       "2  0.027290   0.0   7.07   0.0  0.469  7.185   61.1  4.9671  2.0  242.0   \n",
       "3  0.047794   0.0   2.18   0.0  0.458  6.998   45.8  6.0622  3.0  222.0   \n",
       "4  0.069050   0.0   2.18   0.0  0.458  7.147   54.2  6.0622  3.0  222.0   \n",
       "5  0.029850   0.0   2.18   0.0  0.458  6.430   58.7  6.0622  3.0  222.0   \n",
       "6  0.088290  12.5   7.87   0.0  0.524  6.012   66.6  5.5605  5.0  266.0   \n",
       "7  0.144550  12.5   7.87   0.0  0.524  6.172   96.1  5.9505  5.0  311.0   \n",
       "8  0.211240  12.5   7.87   0.0  0.524  5.631  100.0  6.0821  5.0  311.0   \n",
       "9  0.170040  12.5   7.87   0.0  0.524  6.004   85.9  6.5921  5.0  347.6   \n",
       "\n",
       "   ptratio       b  lstat  medv  \n",
       "0     15.3  396.90   4.98  24.0  \n",
       "1     17.8  396.90   9.14  21.6  \n",
       "2     17.8  392.83   4.03  34.7  \n",
       "3     18.7  394.63   2.94  33.4  \n",
       "4     18.7  396.90   5.33  36.2  \n",
       "5     18.7  394.12   5.21  28.7  \n",
       "6     15.2  395.60  12.43  22.9  \n",
       "7     15.2  396.90  19.15  27.1  \n",
       "8     15.2  386.63  29.93  16.5  \n",
       "9     15.2  386.71  17.10  18.9  "
      ]
     },
     "execution_count": 134,
     "metadata": {},
     "output_type": "execute_result"
    }
   ],
   "source": [
    "from sklearn.impute import KNNImputer\n",
    "\n",
    "# knn imputer uses 5 as a default\n",
    "imputer = KNNImputer(n_neighbors=5)\n",
    "\n",
    "knn_df = pd.DataFrame(imputer.fit_transform(housing), columns = housing.columns)\n",
    "knn_df.head(10)"
   ]
  },
  {
   "cell_type": "code",
   "execution_count": 135,
   "id": "bd2101fc",
   "metadata": {},
   "outputs": [
    {
     "data": {
      "text/plain": [
       "crim       0\n",
       "zn         0\n",
       "indus      0\n",
       "chas       0\n",
       "nox        0\n",
       "rm         0\n",
       "age        0\n",
       "dis        0\n",
       "rad        0\n",
       "tax        0\n",
       "ptratio    0\n",
       "b          0\n",
       "lstat      0\n",
       "medv       0\n",
       "dtype: int64"
      ]
     },
     "execution_count": 135,
     "metadata": {},
     "output_type": "execute_result"
    }
   ],
   "source": [
    "knn_df.isna().sum()"
   ]
  },
  {
   "cell_type": "markdown",
   "id": "8fc47f2f",
   "metadata": {},
   "source": [
    "#### Recursive Partitioning"
   ]
  }
 ],
 "metadata": {
  "kernelspec": {
   "display_name": "Python 3 (ipykernel)",
   "language": "python",
   "name": "python3"
  },
  "language_info": {
   "codemirror_mode": {
    "name": "ipython",
    "version": 3
   },
   "file_extension": ".py",
   "mimetype": "text/x-python",
   "name": "python",
   "nbconvert_exporter": "python",
   "pygments_lexer": "ipython3",
   "version": "3.9.13"
  },
  "toc": {
   "base_numbering": 1,
   "nav_menu": {},
   "number_sections": true,
   "sideBar": true,
   "skip_h1_title": false,
   "title_cell": "Table of Contents",
   "title_sidebar": "Contents",
   "toc_cell": false,
   "toc_position": {},
   "toc_section_display": true,
   "toc_window_display": false
  }
 },
 "nbformat": 4,
 "nbformat_minor": 5
}

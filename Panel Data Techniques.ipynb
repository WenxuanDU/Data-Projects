{
 "cells": [
  {
   "cell_type": "markdown",
   "id": "beaf525d",
   "metadata": {},
   "source": [
    "# Lecture 8"
   ]
  },
  {
   "cell_type": "markdown",
   "id": "cc57408f",
   "metadata": {},
   "source": [
    "## Nathan Kunz"
   ]
  },
  {
   "cell_type": "code",
   "execution_count": 88,
   "id": "36d42171",
   "metadata": {},
   "outputs": [],
   "source": [
    "import wooldridge as woo\n",
    "import pandas as pd\n",
    "import statsmodels.formula.api as smf\n",
    "import numpy as np\n",
    "import matplotlib.pyplot as plt\n",
    "import itertools\n",
    "import scipy.stats as stats"
   ]
  },
  {
   "cell_type": "markdown",
   "id": "092c08b6",
   "metadata": {},
   "source": [
    "## Organizing Panel Data"
   ]
  },
  {
   "cell_type": "markdown",
   "id": "d9f5b5b0",
   "metadata": {},
   "source": [
    "A panel data model takes rthe following form:\n",
    "\n",
    "$$y_{it} = \\beta_0 + \\beta_{1} x_{1it} + \\beta_{2} x_{2it}+...+ \\beta_{k} x_{kit} + a_i + u_{it}$$\n",
    "\n",
    "where $i$ is a subscript denoting an individual and $t$ denotes the time period an observation is taken. The error term is broken into a time invariant component $a_i$ and a time variant component $u_{it}$."
   ]
  },
  {
   "cell_type": "code",
   "execution_count": 89,
   "id": "24649d61",
   "metadata": {},
   "outputs": [
    {
     "data": {
      "text/html": [
       "<div>\n",
       "<style scoped>\n",
       "    .dataframe tbody tr th:only-of-type {\n",
       "        vertical-align: middle;\n",
       "    }\n",
       "\n",
       "    .dataframe tbody tr th {\n",
       "        vertical-align: top;\n",
       "    }\n",
       "\n",
       "    .dataframe thead th {\n",
       "        text-align: right;\n",
       "    }\n",
       "</style>\n",
       "<table border=\"1\" class=\"dataframe\">\n",
       "  <thead>\n",
       "    <tr style=\"text-align: right;\">\n",
       "      <th></th>\n",
       "      <th>year</th>\n",
       "      <th>person</th>\n",
       "    </tr>\n",
       "  </thead>\n",
       "  <tbody>\n",
       "    <tr>\n",
       "      <th>0</th>\n",
       "      <td>2000</td>\n",
       "      <td>Larry</td>\n",
       "    </tr>\n",
       "    <tr>\n",
       "      <th>1</th>\n",
       "      <td>2000</td>\n",
       "      <td>Dean</td>\n",
       "    </tr>\n",
       "    <tr>\n",
       "      <th>2</th>\n",
       "      <td>2000</td>\n",
       "      <td>Sarah</td>\n",
       "    </tr>\n",
       "    <tr>\n",
       "      <th>3</th>\n",
       "      <td>2001</td>\n",
       "      <td>Larry</td>\n",
       "    </tr>\n",
       "    <tr>\n",
       "      <th>4</th>\n",
       "      <td>2001</td>\n",
       "      <td>Dean</td>\n",
       "    </tr>\n",
       "  </tbody>\n",
       "</table>\n",
       "</div>"
      ],
      "text/plain": [
       "   year person\n",
       "0  2000  Larry\n",
       "1  2000   Dean\n",
       "2  2000  Sarah\n",
       "3  2001  Larry\n",
       "4  2001   Dean"
      ]
     },
     "execution_count": 89,
     "metadata": {},
     "output_type": "execute_result"
    }
   ],
   "source": [
    "# We have three individuals\n",
    "i = [\"Larry\", \"Dean\", \"Sarah\"]\n",
    "\n",
    "# We take observations once a year\n",
    "t = np.arange(2000, 2010)\n",
    "\n",
    "# each individual is observed once a year\n",
    "panel_example = pd.DataFrame(itertools.product(t,i), columns = [\"year\", \"person\"])\n",
    "\n",
    "panel_example.head()"
   ]
  },
  {
   "cell_type": "code",
   "execution_count": 90,
   "id": "e186313d",
   "metadata": {},
   "outputs": [],
   "source": [
    "panel_example[\"outcome\"] = np.random.normal(0,1,30) "
   ]
  },
  {
   "cell_type": "code",
   "execution_count": 91,
   "id": "cf7e2fc6",
   "metadata": {},
   "outputs": [
    {
     "data": {
      "text/html": [
       "<div>\n",
       "<style scoped>\n",
       "    .dataframe tbody tr th:only-of-type {\n",
       "        vertical-align: middle;\n",
       "    }\n",
       "\n",
       "    .dataframe tbody tr th {\n",
       "        vertical-align: top;\n",
       "    }\n",
       "\n",
       "    .dataframe thead th {\n",
       "        text-align: right;\n",
       "    }\n",
       "</style>\n",
       "<table border=\"1\" class=\"dataframe\">\n",
       "  <thead>\n",
       "    <tr style=\"text-align: right;\">\n",
       "      <th></th>\n",
       "      <th>year</th>\n",
       "      <th>person</th>\n",
       "      <th>outcome</th>\n",
       "    </tr>\n",
       "  </thead>\n",
       "  <tbody>\n",
       "    <tr>\n",
       "      <th>0</th>\n",
       "      <td>2000</td>\n",
       "      <td>Larry</td>\n",
       "      <td>0.015391</td>\n",
       "    </tr>\n",
       "    <tr>\n",
       "      <th>1</th>\n",
       "      <td>2000</td>\n",
       "      <td>Dean</td>\n",
       "      <td>-2.007057</td>\n",
       "    </tr>\n",
       "    <tr>\n",
       "      <th>2</th>\n",
       "      <td>2000</td>\n",
       "      <td>Sarah</td>\n",
       "      <td>-0.986986</td>\n",
       "    </tr>\n",
       "    <tr>\n",
       "      <th>3</th>\n",
       "      <td>2001</td>\n",
       "      <td>Larry</td>\n",
       "      <td>0.287144</td>\n",
       "    </tr>\n",
       "    <tr>\n",
       "      <th>4</th>\n",
       "      <td>2001</td>\n",
       "      <td>Dean</td>\n",
       "      <td>-1.565625</td>\n",
       "    </tr>\n",
       "  </tbody>\n",
       "</table>\n",
       "</div>"
      ],
      "text/plain": [
       "   year person   outcome\n",
       "0  2000  Larry  0.015391\n",
       "1  2000   Dean -2.007057\n",
       "2  2000  Sarah -0.986986\n",
       "3  2001  Larry  0.287144\n",
       "4  2001   Dean -1.565625"
      ]
     },
     "execution_count": 91,
     "metadata": {},
     "output_type": "execute_result"
    }
   ],
   "source": [
    "panel_example[\"outcome\"] = np.random.normal(0,1,30) \n",
    "panel_example.head()"
   ]
  },
  {
   "cell_type": "code",
   "execution_count": 92,
   "id": "ae08b4d4",
   "metadata": {},
   "outputs": [
    {
     "data": {
      "text/html": [
       "<div>\n",
       "<style scoped>\n",
       "    .dataframe tbody tr th:only-of-type {\n",
       "        vertical-align: middle;\n",
       "    }\n",
       "\n",
       "    .dataframe tbody tr th {\n",
       "        vertical-align: top;\n",
       "    }\n",
       "\n",
       "    .dataframe thead th {\n",
       "        text-align: right;\n",
       "    }\n",
       "</style>\n",
       "<table border=\"1\" class=\"dataframe\">\n",
       "  <thead>\n",
       "    <tr style=\"text-align: right;\">\n",
       "      <th></th>\n",
       "      <th></th>\n",
       "      <th>outcome</th>\n",
       "    </tr>\n",
       "    <tr>\n",
       "      <th>year</th>\n",
       "      <th>person</th>\n",
       "      <th></th>\n",
       "    </tr>\n",
       "  </thead>\n",
       "  <tbody>\n",
       "    <tr>\n",
       "      <th rowspan=\"3\" valign=\"top\">2000</th>\n",
       "      <th>Larry</th>\n",
       "      <td>0.015391</td>\n",
       "    </tr>\n",
       "    <tr>\n",
       "      <th>Dean</th>\n",
       "      <td>-2.007057</td>\n",
       "    </tr>\n",
       "    <tr>\n",
       "      <th>Sarah</th>\n",
       "      <td>-0.986986</td>\n",
       "    </tr>\n",
       "    <tr>\n",
       "      <th rowspan=\"3\" valign=\"top\">2001</th>\n",
       "      <th>Larry</th>\n",
       "      <td>0.287144</td>\n",
       "    </tr>\n",
       "    <tr>\n",
       "      <th>Dean</th>\n",
       "      <td>-1.565625</td>\n",
       "    </tr>\n",
       "    <tr>\n",
       "      <th>Sarah</th>\n",
       "      <td>-1.379610</td>\n",
       "    </tr>\n",
       "    <tr>\n",
       "      <th rowspan=\"3\" valign=\"top\">2002</th>\n",
       "      <th>Larry</th>\n",
       "      <td>-0.371715</td>\n",
       "    </tr>\n",
       "    <tr>\n",
       "      <th>Dean</th>\n",
       "      <td>0.753867</td>\n",
       "    </tr>\n",
       "    <tr>\n",
       "      <th>Sarah</th>\n",
       "      <td>-1.306796</td>\n",
       "    </tr>\n",
       "    <tr>\n",
       "      <th>2003</th>\n",
       "      <th>Larry</th>\n",
       "      <td>0.020681</td>\n",
       "    </tr>\n",
       "  </tbody>\n",
       "</table>\n",
       "</div>"
      ],
      "text/plain": [
       "              outcome\n",
       "year person          \n",
       "2000 Larry   0.015391\n",
       "     Dean   -2.007057\n",
       "     Sarah  -0.986986\n",
       "2001 Larry   0.287144\n",
       "     Dean   -1.565625\n",
       "     Sarah  -1.379610\n",
       "2002 Larry  -0.371715\n",
       "     Dean    0.753867\n",
       "     Sarah  -1.306796\n",
       "2003 Larry   0.020681"
      ]
     },
     "execution_count": 92,
     "metadata": {},
     "output_type": "execute_result"
    }
   ],
   "source": [
    "panel_example = panel_example.set_index([\"year\", \"person\"])\n",
    "panel_example.head(10)"
   ]
  },
  {
   "cell_type": "markdown",
   "id": "c9a907e1",
   "metadata": {},
   "source": [
    "This is a balanced panel, where all individuals are observed across all periods. Below is an example of an unbalanced panel, where we are missing an observation for Sarah in 2000 and Larry in 2008."
   ]
  },
  {
   "cell_type": "code",
   "execution_count": 93,
   "id": "6629bcb6",
   "metadata": {},
   "outputs": [
    {
     "data": {
      "text/html": [
       "<div>\n",
       "<style scoped>\n",
       "    .dataframe tbody tr th:only-of-type {\n",
       "        vertical-align: middle;\n",
       "    }\n",
       "\n",
       "    .dataframe tbody tr th {\n",
       "        vertical-align: top;\n",
       "    }\n",
       "\n",
       "    .dataframe thead th {\n",
       "        text-align: right;\n",
       "    }\n",
       "</style>\n",
       "<table border=\"1\" class=\"dataframe\">\n",
       "  <thead>\n",
       "    <tr style=\"text-align: right;\">\n",
       "      <th></th>\n",
       "      <th></th>\n",
       "      <th>outcome</th>\n",
       "    </tr>\n",
       "    <tr>\n",
       "      <th>year</th>\n",
       "      <th>person</th>\n",
       "      <th></th>\n",
       "    </tr>\n",
       "  </thead>\n",
       "  <tbody>\n",
       "    <tr>\n",
       "      <th rowspan=\"2\" valign=\"top\">2000</th>\n",
       "      <th>Larry</th>\n",
       "      <td>0.015391</td>\n",
       "    </tr>\n",
       "    <tr>\n",
       "      <th>Dean</th>\n",
       "      <td>-2.007057</td>\n",
       "    </tr>\n",
       "    <tr>\n",
       "      <th rowspan=\"3\" valign=\"top\">2001</th>\n",
       "      <th>Larry</th>\n",
       "      <td>0.287144</td>\n",
       "    </tr>\n",
       "    <tr>\n",
       "      <th>Dean</th>\n",
       "      <td>-1.565625</td>\n",
       "    </tr>\n",
       "    <tr>\n",
       "      <th>Sarah</th>\n",
       "      <td>-1.379610</td>\n",
       "    </tr>\n",
       "    <tr>\n",
       "      <th rowspan=\"3\" valign=\"top\">2002</th>\n",
       "      <th>Larry</th>\n",
       "      <td>-0.371715</td>\n",
       "    </tr>\n",
       "    <tr>\n",
       "      <th>Dean</th>\n",
       "      <td>0.753867</td>\n",
       "    </tr>\n",
       "    <tr>\n",
       "      <th>Sarah</th>\n",
       "      <td>-1.306796</td>\n",
       "    </tr>\n",
       "    <tr>\n",
       "      <th rowspan=\"3\" valign=\"top\">2003</th>\n",
       "      <th>Larry</th>\n",
       "      <td>0.020681</td>\n",
       "    </tr>\n",
       "    <tr>\n",
       "      <th>Dean</th>\n",
       "      <td>1.111457</td>\n",
       "    </tr>\n",
       "    <tr>\n",
       "      <th>Sarah</th>\n",
       "      <td>2.019850</td>\n",
       "    </tr>\n",
       "    <tr>\n",
       "      <th rowspan=\"3\" valign=\"top\">2004</th>\n",
       "      <th>Larry</th>\n",
       "      <td>0.947034</td>\n",
       "    </tr>\n",
       "    <tr>\n",
       "      <th>Dean</th>\n",
       "      <td>-0.065941</td>\n",
       "    </tr>\n",
       "    <tr>\n",
       "      <th>Sarah</th>\n",
       "      <td>-0.533885</td>\n",
       "    </tr>\n",
       "    <tr>\n",
       "      <th rowspan=\"3\" valign=\"top\">2005</th>\n",
       "      <th>Larry</th>\n",
       "      <td>0.841981</td>\n",
       "    </tr>\n",
       "    <tr>\n",
       "      <th>Dean</th>\n",
       "      <td>-1.613774</td>\n",
       "    </tr>\n",
       "    <tr>\n",
       "      <th>Sarah</th>\n",
       "      <td>0.147892</td>\n",
       "    </tr>\n",
       "    <tr>\n",
       "      <th rowspan=\"3\" valign=\"top\">2006</th>\n",
       "      <th>Larry</th>\n",
       "      <td>0.059638</td>\n",
       "    </tr>\n",
       "    <tr>\n",
       "      <th>Dean</th>\n",
       "      <td>-1.600333</td>\n",
       "    </tr>\n",
       "    <tr>\n",
       "      <th>Sarah</th>\n",
       "      <td>0.630479</td>\n",
       "    </tr>\n",
       "    <tr>\n",
       "      <th rowspan=\"3\" valign=\"top\">2007</th>\n",
       "      <th>Larry</th>\n",
       "      <td>1.025922</td>\n",
       "    </tr>\n",
       "    <tr>\n",
       "      <th>Dean</th>\n",
       "      <td>1.282638</td>\n",
       "    </tr>\n",
       "    <tr>\n",
       "      <th>Sarah</th>\n",
       "      <td>0.698576</td>\n",
       "    </tr>\n",
       "    <tr>\n",
       "      <th rowspan=\"2\" valign=\"top\">2008</th>\n",
       "      <th>Dean</th>\n",
       "      <td>1.282432</td>\n",
       "    </tr>\n",
       "    <tr>\n",
       "      <th>Sarah</th>\n",
       "      <td>-0.384928</td>\n",
       "    </tr>\n",
       "    <tr>\n",
       "      <th rowspan=\"3\" valign=\"top\">2009</th>\n",
       "      <th>Larry</th>\n",
       "      <td>1.285886</td>\n",
       "    </tr>\n",
       "    <tr>\n",
       "      <th>Dean</th>\n",
       "      <td>0.858086</td>\n",
       "    </tr>\n",
       "    <tr>\n",
       "      <th>Sarah</th>\n",
       "      <td>1.341894</td>\n",
       "    </tr>\n",
       "  </tbody>\n",
       "</table>\n",
       "</div>"
      ],
      "text/plain": [
       "              outcome\n",
       "year person          \n",
       "2000 Larry   0.015391\n",
       "     Dean   -2.007057\n",
       "2001 Larry   0.287144\n",
       "     Dean   -1.565625\n",
       "     Sarah  -1.379610\n",
       "2002 Larry  -0.371715\n",
       "     Dean    0.753867\n",
       "     Sarah  -1.306796\n",
       "2003 Larry   0.020681\n",
       "     Dean    1.111457\n",
       "     Sarah   2.019850\n",
       "2004 Larry   0.947034\n",
       "     Dean   -0.065941\n",
       "     Sarah  -0.533885\n",
       "2005 Larry   0.841981\n",
       "     Dean   -1.613774\n",
       "     Sarah   0.147892\n",
       "2006 Larry   0.059638\n",
       "     Dean   -1.600333\n",
       "     Sarah   0.630479\n",
       "2007 Larry   1.025922\n",
       "     Dean    1.282638\n",
       "     Sarah   0.698576\n",
       "2008 Dean    1.282432\n",
       "     Sarah  -0.384928\n",
       "2009 Larry   1.285886\n",
       "     Dean    0.858086\n",
       "     Sarah   1.341894"
      ]
     },
     "execution_count": 93,
     "metadata": {},
     "output_type": "execute_result"
    }
   ],
   "source": [
    "panel_example.drop([(2008, \"Larry\"), (2000, \"Sarah\")])"
   ]
  },
  {
   "cell_type": "markdown",
   "id": "ee5d166b",
   "metadata": {},
   "source": [
    "## First Differenced Estimator"
   ]
  },
  {
   "cell_type": "code",
   "execution_count": 94,
   "id": "10ce9a85",
   "metadata": {},
   "outputs": [
    {
     "data": {
      "text/html": [
       "<div>\n",
       "<style scoped>\n",
       "    .dataframe tbody tr th:only-of-type {\n",
       "        vertical-align: middle;\n",
       "    }\n",
       "\n",
       "    .dataframe tbody tr th {\n",
       "        vertical-align: top;\n",
       "    }\n",
       "\n",
       "    .dataframe thead th {\n",
       "        text-align: right;\n",
       "    }\n",
       "</style>\n",
       "<table border=\"1\" class=\"dataframe\">\n",
       "  <thead>\n",
       "    <tr style=\"text-align: right;\">\n",
       "      <th></th>\n",
       "      <th>year</th>\n",
       "      <th>area</th>\n",
       "      <th>crmrte</th>\n",
       "      <th>unem</th>\n",
       "    </tr>\n",
       "  </thead>\n",
       "  <tbody>\n",
       "    <tr>\n",
       "      <th>0</th>\n",
       "      <td>82</td>\n",
       "      <td>44.599998</td>\n",
       "      <td>74.657562</td>\n",
       "      <td>8.2</td>\n",
       "    </tr>\n",
       "    <tr>\n",
       "      <th>1</th>\n",
       "      <td>87</td>\n",
       "      <td>44.599998</td>\n",
       "      <td>70.117294</td>\n",
       "      <td>3.7</td>\n",
       "    </tr>\n",
       "    <tr>\n",
       "      <th>2</th>\n",
       "      <td>82</td>\n",
       "      <td>375.000000</td>\n",
       "      <td>92.934868</td>\n",
       "      <td>8.1</td>\n",
       "    </tr>\n",
       "    <tr>\n",
       "      <th>3</th>\n",
       "      <td>87</td>\n",
       "      <td>375.000000</td>\n",
       "      <td>89.972214</td>\n",
       "      <td>5.4</td>\n",
       "    </tr>\n",
       "    <tr>\n",
       "      <th>4</th>\n",
       "      <td>82</td>\n",
       "      <td>49.799999</td>\n",
       "      <td>83.611130</td>\n",
       "      <td>9.0</td>\n",
       "    </tr>\n",
       "  </tbody>\n",
       "</table>\n",
       "</div>"
      ],
      "text/plain": [
       "   year        area     crmrte  unem\n",
       "0    82   44.599998  74.657562   8.2\n",
       "1    87   44.599998  70.117294   3.7\n",
       "2    82  375.000000  92.934868   8.1\n",
       "3    87  375.000000  89.972214   5.4\n",
       "4    82   49.799999  83.611130   9.0"
      ]
     },
     "execution_count": 94,
     "metadata": {},
     "output_type": "execute_result"
    }
   ],
   "source": [
    "# There are two time periods\n",
    "crime2 = woo.data('crime2')\n",
    "crime2[[\"year\", \"area\", \"crmrte\", \"unem\"]].head()"
   ]
  },
  {
   "cell_type": "code",
   "execution_count": 95,
   "id": "3a23b545",
   "metadata": {},
   "outputs": [
    {
     "data": {
      "text/plain": [
       "array([82, 87], dtype=int64)"
      ]
     },
     "execution_count": 95,
     "metadata": {},
     "output_type": "execute_result"
    }
   ],
   "source": [
    "crime2.year.unique()"
   ]
  },
  {
   "cell_type": "code",
   "execution_count": 96,
   "id": "45bf89c1",
   "metadata": {},
   "outputs": [],
   "source": [
    "# create a time dummy\n",
    "crime2['t'] = (crime2.year == 87)*1"
   ]
  },
  {
   "cell_type": "code",
   "execution_count": 100,
   "id": "53578df6",
   "metadata": {
    "scrolled": true
   },
   "outputs": [],
   "source": [
    "# There are 46 different areas observed (i)\n",
    "crime2['ids'] = crime2.area"
   ]
  },
  {
   "cell_type": "code",
   "execution_count": 101,
   "id": "c3700157",
   "metadata": {},
   "outputs": [],
   "source": [
    "crime2[\"crmrte_diff\"] = crime2.groupby(\"ids\")[\"crmrte\"].diff()\n",
    "crime2[\"unem_diff\"] = crime2.groupby(\"ids\")[\"unem\"].diff()"
   ]
  },
  {
   "cell_type": "code",
   "execution_count": 115,
   "id": "ed52de84",
   "metadata": {},
   "outputs": [
    {
     "data": {
      "text/html": [
       "<div>\n",
       "<style scoped>\n",
       "    .dataframe tbody tr th:only-of-type {\n",
       "        vertical-align: middle;\n",
       "    }\n",
       "\n",
       "    .dataframe tbody tr th {\n",
       "        vertical-align: top;\n",
       "    }\n",
       "\n",
       "    .dataframe thead th {\n",
       "        text-align: right;\n",
       "    }\n",
       "</style>\n",
       "<table border=\"1\" class=\"dataframe\">\n",
       "  <thead>\n",
       "    <tr style=\"text-align: right;\">\n",
       "      <th></th>\n",
       "      <th>t</th>\n",
       "      <th>crmrte_diff</th>\n",
       "      <th>unem_diff</th>\n",
       "    </tr>\n",
       "  </thead>\n",
       "  <tbody>\n",
       "    <tr>\n",
       "      <th>1</th>\n",
       "      <td>1</td>\n",
       "      <td>-4.540268</td>\n",
       "      <td>-4.500000</td>\n",
       "    </tr>\n",
       "    <tr>\n",
       "      <th>3</th>\n",
       "      <td>1</td>\n",
       "      <td>-2.962654</td>\n",
       "      <td>-2.700000</td>\n",
       "    </tr>\n",
       "    <tr>\n",
       "      <th>5</th>\n",
       "      <td>1</td>\n",
       "      <td>-6.416374</td>\n",
       "      <td>-3.100000</td>\n",
       "    </tr>\n",
       "    <tr>\n",
       "      <th>7</th>\n",
       "      <td>1</td>\n",
       "      <td>-4.901543</td>\n",
       "      <td>-6.900001</td>\n",
       "    </tr>\n",
       "    <tr>\n",
       "      <th>9</th>\n",
       "      <td>1</td>\n",
       "      <td>-4.608994</td>\n",
       "      <td>-5.200000</td>\n",
       "    </tr>\n",
       "  </tbody>\n",
       "</table>\n",
       "</div>"
      ],
      "text/plain": [
       "   t  crmrte_diff  unem_diff\n",
       "1  1    -4.540268  -4.500000\n",
       "3  1    -2.962654  -2.700000\n",
       "5  1    -6.416374  -3.100000\n",
       "7  1    -4.901543  -6.900001\n",
       "9  1    -4.608994  -5.200000"
      ]
     },
     "execution_count": 115,
     "metadata": {},
     "output_type": "execute_result"
    }
   ],
   "source": [
    "crime2[[\"t\",\"crmrte_diff\", \"unem_diff\"]].dropna().head()"
   ]
  },
  {
   "cell_type": "code",
   "execution_count": 102,
   "id": "606e8db4",
   "metadata": {},
   "outputs": [
    {
     "data": {
      "text/html": [
       "<table class=\"simpletable\">\n",
       "<caption>OLS Regression Results</caption>\n",
       "<tr>\n",
       "  <th>Dep. Variable:</th>         <td>crmrte</td>      <th>  R-squared:         </th> <td>   0.012</td>\n",
       "</tr>\n",
       "<tr>\n",
       "  <th>Model:</th>                   <td>OLS</td>       <th>  Adj. R-squared:    </th> <td>  -0.010</td>\n",
       "</tr>\n",
       "<tr>\n",
       "  <th>Method:</th>             <td>Least Squares</td>  <th>  F-statistic:       </th> <td>  0.5501</td>\n",
       "</tr>\n",
       "<tr>\n",
       "  <th>Date:</th>             <td>Thu, 01 Dec 2022</td> <th>  Prob (F-statistic):</th>  <td> 0.579</td> \n",
       "</tr>\n",
       "<tr>\n",
       "  <th>Time:</th>                 <td>15:00:34</td>     <th>  Log-Likelihood:    </th> <td> -441.90</td>\n",
       "</tr>\n",
       "<tr>\n",
       "  <th>No. Observations:</th>      <td>    92</td>      <th>  AIC:               </th> <td>   889.8</td>\n",
       "</tr>\n",
       "<tr>\n",
       "  <th>Df Residuals:</th>          <td>    89</td>      <th>  BIC:               </th> <td>   897.4</td>\n",
       "</tr>\n",
       "<tr>\n",
       "  <th>Df Model:</th>              <td>     2</td>      <th>                     </th>     <td> </td>   \n",
       "</tr>\n",
       "<tr>\n",
       "  <th>Covariance Type:</th>      <td>nonrobust</td>    <th>                     </th>     <td> </td>   \n",
       "</tr>\n",
       "</table>\n",
       "<table class=\"simpletable\">\n",
       "<tr>\n",
       "      <td></td>         <th>coef</th>     <th>std err</th>      <th>t</th>      <th>P>|t|</th>  <th>[0.025</th>    <th>0.975]</th>  \n",
       "</tr>\n",
       "<tr>\n",
       "  <th>Intercept</th> <td>   93.4202</td> <td>   12.739</td> <td>    7.333</td> <td> 0.000</td> <td>   68.107</td> <td>  118.733</td>\n",
       "</tr>\n",
       "<tr>\n",
       "  <th>t</th>         <td>    7.9404</td> <td>    7.975</td> <td>    0.996</td> <td> 0.322</td> <td>   -7.906</td> <td>   23.787</td>\n",
       "</tr>\n",
       "<tr>\n",
       "  <th>unem</th>      <td>    0.4265</td> <td>    1.188</td> <td>    0.359</td> <td> 0.720</td> <td>   -1.935</td> <td>    2.788</td>\n",
       "</tr>\n",
       "</table>\n",
       "<table class=\"simpletable\">\n",
       "<tr>\n",
       "  <th>Omnibus:</th>       <td> 8.350</td> <th>  Durbin-Watson:     </th> <td>   1.157</td>\n",
       "</tr>\n",
       "<tr>\n",
       "  <th>Prob(Omnibus):</th> <td> 0.015</td> <th>  Jarque-Bera (JB):  </th> <td>   8.771</td>\n",
       "</tr>\n",
       "<tr>\n",
       "  <th>Skew:</th>          <td> 0.756</td> <th>  Prob(JB):          </th> <td>  0.0125</td>\n",
       "</tr>\n",
       "<tr>\n",
       "  <th>Kurtosis:</th>      <td> 2.935</td> <th>  Cond. No.          </th> <td>    40.1</td>\n",
       "</tr>\n",
       "</table><br/><br/>Notes:<br/>[1] Standard Errors assume that the covariance matrix of the errors is correctly specified."
      ],
      "text/plain": [
       "<class 'statsmodels.iolib.summary.Summary'>\n",
       "\"\"\"\n",
       "                            OLS Regression Results                            \n",
       "==============================================================================\n",
       "Dep. Variable:                 crmrte   R-squared:                       0.012\n",
       "Model:                            OLS   Adj. R-squared:                 -0.010\n",
       "Method:                 Least Squares   F-statistic:                    0.5501\n",
       "Date:                Thu, 01 Dec 2022   Prob (F-statistic):              0.579\n",
       "Time:                        15:00:34   Log-Likelihood:                -441.90\n",
       "No. Observations:                  92   AIC:                             889.8\n",
       "Df Residuals:                      89   BIC:                             897.4\n",
       "Df Model:                           2                                         \n",
       "Covariance Type:            nonrobust                                         \n",
       "==============================================================================\n",
       "                 coef    std err          t      P>|t|      [0.025      0.975]\n",
       "------------------------------------------------------------------------------\n",
       "Intercept     93.4202     12.739      7.333      0.000      68.107     118.733\n",
       "t              7.9404      7.975      0.996      0.322      -7.906      23.787\n",
       "unem           0.4265      1.188      0.359      0.720      -1.935       2.788\n",
       "==============================================================================\n",
       "Omnibus:                        8.350   Durbin-Watson:                   1.157\n",
       "Prob(Omnibus):                  0.015   Jarque-Bera (JB):                8.771\n",
       "Skew:                           0.756   Prob(JB):                       0.0125\n",
       "Kurtosis:                       2.935   Cond. No.                         40.1\n",
       "==============================================================================\n",
       "\n",
       "Notes:\n",
       "[1] Standard Errors assume that the covariance matrix of the errors is correctly specified.\n",
       "\"\"\""
      ]
     },
     "execution_count": 102,
     "metadata": {},
     "output_type": "execute_result"
    }
   ],
   "source": [
    "model1 = smf.ols(\"crmrte ~ t + unem\", crime2).fit()\n",
    "model1.summary()"
   ]
  },
  {
   "cell_type": "code",
   "execution_count": 103,
   "id": "63f1ccce",
   "metadata": {},
   "outputs": [
    {
     "data": {
      "text/html": [
       "<table class=\"simpletable\">\n",
       "<caption>OLS Regression Results</caption>\n",
       "<tr>\n",
       "  <th>Dep. Variable:</th>       <td>crmrte_diff</td>   <th>  R-squared:         </th> <td>   0.127</td>\n",
       "</tr>\n",
       "<tr>\n",
       "  <th>Model:</th>                   <td>OLS</td>       <th>  Adj. R-squared:    </th> <td>   0.107</td>\n",
       "</tr>\n",
       "<tr>\n",
       "  <th>Method:</th>             <td>Least Squares</td>  <th>  F-statistic:       </th> <td>   6.384</td>\n",
       "</tr>\n",
       "<tr>\n",
       "  <th>Date:</th>             <td>Thu, 01 Dec 2022</td> <th>  Prob (F-statistic):</th>  <td>0.0152</td> \n",
       "</tr>\n",
       "<tr>\n",
       "  <th>Time:</th>                 <td>15:00:34</td>     <th>  Log-Likelihood:    </th> <td> -202.17</td>\n",
       "</tr>\n",
       "<tr>\n",
       "  <th>No. Observations:</th>      <td>    46</td>      <th>  AIC:               </th> <td>   408.3</td>\n",
       "</tr>\n",
       "<tr>\n",
       "  <th>Df Residuals:</th>          <td>    44</td>      <th>  BIC:               </th> <td>   412.0</td>\n",
       "</tr>\n",
       "<tr>\n",
       "  <th>Df Model:</th>              <td>     1</td>      <th>                     </th>     <td> </td>   \n",
       "</tr>\n",
       "<tr>\n",
       "  <th>Covariance Type:</th>      <td>nonrobust</td>    <th>                     </th>     <td> </td>   \n",
       "</tr>\n",
       "</table>\n",
       "<table class=\"simpletable\">\n",
       "<tr>\n",
       "      <td></td>         <th>coef</th>     <th>std err</th>      <th>t</th>      <th>P>|t|</th>  <th>[0.025</th>    <th>0.975]</th>  \n",
       "</tr>\n",
       "<tr>\n",
       "  <th>Intercept</th> <td>   15.4022</td> <td>    4.702</td> <td>    3.276</td> <td> 0.002</td> <td>    5.926</td> <td>   24.879</td>\n",
       "</tr>\n",
       "<tr>\n",
       "  <th>unem_diff</th> <td>    2.2180</td> <td>    0.878</td> <td>    2.527</td> <td> 0.015</td> <td>    0.449</td> <td>    3.987</td>\n",
       "</tr>\n",
       "</table>\n",
       "<table class=\"simpletable\">\n",
       "<tr>\n",
       "  <th>Omnibus:</th>       <td> 2.636</td> <th>  Durbin-Watson:     </th> <td>   1.146</td>\n",
       "</tr>\n",
       "<tr>\n",
       "  <th>Prob(Omnibus):</th> <td> 0.268</td> <th>  Jarque-Bera (JB):  </th> <td>   2.255</td>\n",
       "</tr>\n",
       "<tr>\n",
       "  <th>Skew:</th>          <td> 0.539</td> <th>  Prob(JB):          </th> <td>   0.324</td>\n",
       "</tr>\n",
       "<tr>\n",
       "  <th>Kurtosis:</th>      <td> 2.883</td> <th>  Cond. No.          </th> <td>    8.70</td>\n",
       "</tr>\n",
       "</table><br/><br/>Notes:<br/>[1] Standard Errors assume that the covariance matrix of the errors is correctly specified."
      ],
      "text/plain": [
       "<class 'statsmodels.iolib.summary.Summary'>\n",
       "\"\"\"\n",
       "                            OLS Regression Results                            \n",
       "==============================================================================\n",
       "Dep. Variable:            crmrte_diff   R-squared:                       0.127\n",
       "Model:                            OLS   Adj. R-squared:                  0.107\n",
       "Method:                 Least Squares   F-statistic:                     6.384\n",
       "Date:                Thu, 01 Dec 2022   Prob (F-statistic):             0.0152\n",
       "Time:                        15:00:34   Log-Likelihood:                -202.17\n",
       "No. Observations:                  46   AIC:                             408.3\n",
       "Df Residuals:                      44   BIC:                             412.0\n",
       "Df Model:                           1                                         \n",
       "Covariance Type:            nonrobust                                         \n",
       "==============================================================================\n",
       "                 coef    std err          t      P>|t|      [0.025      0.975]\n",
       "------------------------------------------------------------------------------\n",
       "Intercept     15.4022      4.702      3.276      0.002       5.926      24.879\n",
       "unem_diff      2.2180      0.878      2.527      0.015       0.449       3.987\n",
       "==============================================================================\n",
       "Omnibus:                        2.636   Durbin-Watson:                   1.146\n",
       "Prob(Omnibus):                  0.268   Jarque-Bera (JB):                2.255\n",
       "Skew:                           0.539   Prob(JB):                        0.324\n",
       "Kurtosis:                       2.883   Cond. No.                         8.70\n",
       "==============================================================================\n",
       "\n",
       "Notes:\n",
       "[1] Standard Errors assume that the covariance matrix of the errors is correctly specified.\n",
       "\"\"\""
      ]
     },
     "execution_count": 103,
     "metadata": {},
     "output_type": "execute_result"
    }
   ],
   "source": [
    "fdiff = smf.ols(\"crmrte_diff ~ unem_diff\", crime2).fit()\n",
    "fdiff.summary()"
   ]
  },
  {
   "cell_type": "code",
   "execution_count": 104,
   "id": "448e7acc",
   "metadata": {},
   "outputs": [],
   "source": [
    "import linearmodels as plm"
   ]
  },
  {
   "cell_type": "code",
   "execution_count": 105,
   "id": "2dbaef1d",
   "metadata": {},
   "outputs": [],
   "source": [
    "crime2 = crime2.set_index(['ids', 'year'])"
   ]
  },
  {
   "cell_type": "code",
   "execution_count": 106,
   "id": "b7a80e57",
   "metadata": {},
   "outputs": [
    {
     "name": "stderr",
     "output_type": "stream",
     "text": [
      "C:\\Users\\kunzn\\anaconda3\\lib\\site-packages\\linearmodels\\shared\\utility.py:187: FutureWarning: In a future version of pandas all arguments of MultiIndex.set_levels except for the argument 'levels' will be keyword-only\n",
      "  df.index = df.index.set_levels(final_levels, [0, 1])\n"
     ]
    },
    {
     "data": {
      "text/html": [
       "<table class=\"simpletable\">\n",
       "<caption>FirstDifferenceOLS Estimation Summary</caption>\n",
       "<tr>\n",
       "  <th>Dep. Variable:</th>          <td>crmrte</td>       <th>  R-squared:         </th>   <td>1.964e-05</td>\n",
       "</tr>\n",
       "<tr>\n",
       "  <th>Estimator:</th>        <td>FirstDifferenceOLS</td> <th>  R-squared (Between):</th>   <td>-0.0027</td> \n",
       "</tr>\n",
       "<tr>\n",
       "  <th>No. Observations:</th>         <td>46</td>         <th>  R-squared (Within):</th>   <td>1.964e-05</td>\n",
       "</tr>\n",
       "<tr>\n",
       "  <th>Date:</th>              <td>Thu, Dec 01 2022</td>  <th>  R-squared (Overall):</th>   <td>-0.0026</td> \n",
       "</tr>\n",
       "<tr>\n",
       "  <th>Time:</th>                  <td>15:00:36</td>      <th>  Log-likelihood     </th>    <td>-207.19</td> \n",
       "</tr>\n",
       "<tr>\n",
       "  <th>Cov. Estimator:</th>       <td>Unadjusted</td>     <th>                     </th>       <td></td>     \n",
       "</tr>\n",
       "<tr>\n",
       "  <th></th>                           <td></td>          <th>  F-statistic:       </th>    <td>0.0009</td>  \n",
       "</tr>\n",
       "<tr>\n",
       "  <th>Entities:</th>                 <td>46</td>         <th>  P-value            </th>    <td>0.9764</td>  \n",
       "</tr>\n",
       "<tr>\n",
       "  <th>Avg Obs:</th>                <td>2.0000</td>       <th>  Distribution:      </th>    <td>F(1,45)</td> \n",
       "</tr>\n",
       "<tr>\n",
       "  <th>Min Obs:</th>                <td>2.0000</td>       <th>                     </th>       <td></td>     \n",
       "</tr>\n",
       "<tr>\n",
       "  <th>Max Obs:</th>                <td>2.0000</td>       <th>  F-statistic (robust):</th>  <td>0.0009</td>  \n",
       "</tr>\n",
       "<tr>\n",
       "  <th></th>                           <td></td>          <th>  P-value            </th>    <td>0.9764</td>  \n",
       "</tr>\n",
       "<tr>\n",
       "  <th>Time periods:</th>              <td>2</td>         <th>  Distribution:      </th>    <td>F(1,45)</td> \n",
       "</tr>\n",
       "<tr>\n",
       "  <th>Avg Obs:</th>                <td>46.000</td>       <th>                     </th>       <td></td>     \n",
       "</tr>\n",
       "<tr>\n",
       "  <th>Min Obs:</th>                <td>46.000</td>       <th>                     </th>       <td></td>     \n",
       "</tr>\n",
       "<tr>\n",
       "  <th>Max Obs:</th>                <td>46.000</td>       <th>                     </th>       <td></td>     \n",
       "</tr>\n",
       "<tr>\n",
       "  <th></th>                           <td></td>          <th>                     </th>       <td></td>     \n",
       "</tr>\n",
       "</table>\n",
       "<table class=\"simpletable\">\n",
       "<caption>Parameter Estimates</caption>\n",
       "<tr>\n",
       "    <td></td>   <th>Parameter</th> <th>Std. Err.</th> <th>T-stat</th>  <th>P-value</th> <th>Lower CI</th> <th>Upper CI</th>\n",
       "</tr>\n",
       "<tr>\n",
       "  <th>unem</th>  <td>-0.0181</td>   <td>0.6087</td>   <td>-0.0297</td> <td>0.9764</td>   <td>-1.2440</td>  <td>1.2079</td> \n",
       "</tr>\n",
       "</table><br/>id: 0x198c3814940"
      ],
      "text/plain": [
       "                     FirstDifferenceOLS Estimation Summary                      \n",
       "================================================================================\n",
       "Dep. Variable:                 crmrte   R-squared:                     1.964e-05\n",
       "Estimator:         FirstDifferenceOLS   R-squared (Between):             -0.0027\n",
       "No. Observations:                  46   R-squared (Within):            1.964e-05\n",
       "Date:                Thu, Dec 01 2022   R-squared (Overall):             -0.0026\n",
       "Time:                        15:00:36   Log-likelihood                   -207.19\n",
       "Cov. Estimator:            Unadjusted                                           \n",
       "                                        F-statistic:                      0.0009\n",
       "Entities:                          46   P-value                           0.9764\n",
       "Avg Obs:                       2.0000   Distribution:                    F(1,45)\n",
       "Min Obs:                       2.0000                                           \n",
       "Max Obs:                       2.0000   F-statistic (robust):             0.0009\n",
       "                                        P-value                           0.9764\n",
       "Time periods:                       2   Distribution:                    F(1,45)\n",
       "Avg Obs:                       46.000                                           \n",
       "Min Obs:                       46.000                                           \n",
       "Max Obs:                       46.000                                           \n",
       "                                                                                \n",
       "                             Parameter Estimates                              \n",
       "==============================================================================\n",
       "            Parameter  Std. Err.     T-stat    P-value    Lower CI    Upper CI\n",
       "------------------------------------------------------------------------------\n",
       "unem          -0.0181     0.6087    -0.0297     0.9764     -1.2440      1.2079\n",
       "==============================================================================\n",
       "PanelResults, id: 0x198c3814940"
      ]
     },
     "execution_count": 106,
     "metadata": {},
     "output_type": "execute_result"
    }
   ],
   "source": [
    "plm.FirstDifferenceOLS.from_formula(formula = 'crmrte ~ unem', data = crime2).fit()"
   ]
  },
  {
   "cell_type": "markdown",
   "id": "ec9938d6",
   "metadata": {},
   "source": [
    "## Within Estimator"
   ]
  },
  {
   "cell_type": "code",
   "execution_count": 107,
   "id": "dbd4981a",
   "metadata": {},
   "outputs": [],
   "source": [
    "crime2 = crime2.reset_index()"
   ]
  },
  {
   "cell_type": "code",
   "execution_count": 108,
   "id": "7d4a0a1e",
   "metadata": {},
   "outputs": [
    {
     "data": {
      "text/html": [
       "<div>\n",
       "<style scoped>\n",
       "    .dataframe tbody tr th:only-of-type {\n",
       "        vertical-align: middle;\n",
       "    }\n",
       "\n",
       "    .dataframe tbody tr th {\n",
       "        vertical-align: top;\n",
       "    }\n",
       "\n",
       "    .dataframe thead th {\n",
       "        text-align: right;\n",
       "    }\n",
       "</style>\n",
       "<table border=\"1\" class=\"dataframe\">\n",
       "  <thead>\n",
       "    <tr style=\"text-align: right;\">\n",
       "      <th></th>\n",
       "      <th>unem</th>\n",
       "      <th>t</th>\n",
       "      <th>crmrte</th>\n",
       "    </tr>\n",
       "    <tr>\n",
       "      <th>ids</th>\n",
       "      <th></th>\n",
       "      <th></th>\n",
       "      <th></th>\n",
       "    </tr>\n",
       "  </thead>\n",
       "  <tbody>\n",
       "    <tr>\n",
       "      <th>13.000000</th>\n",
       "      <td>11.30</td>\n",
       "      <td>0.5</td>\n",
       "      <td>68.506205</td>\n",
       "    </tr>\n",
       "    <tr>\n",
       "      <th>17.799999</th>\n",
       "      <td>5.75</td>\n",
       "      <td>0.5</td>\n",
       "      <td>166.898941</td>\n",
       "    </tr>\n",
       "    <tr>\n",
       "      <th>18.900000</th>\n",
       "      <td>7.60</td>\n",
       "      <td>0.5</td>\n",
       "      <td>108.058220</td>\n",
       "    </tr>\n",
       "    <tr>\n",
       "      <th>20.799999</th>\n",
       "      <td>4.95</td>\n",
       "      <td>0.5</td>\n",
       "      <td>142.893265</td>\n",
       "    </tr>\n",
       "    <tr>\n",
       "      <th>21.900000</th>\n",
       "      <td>6.55</td>\n",
       "      <td>0.5</td>\n",
       "      <td>71.647846</td>\n",
       "    </tr>\n",
       "  </tbody>\n",
       "</table>\n",
       "</div>"
      ],
      "text/plain": [
       "            unem    t      crmrte\n",
       "ids                              \n",
       "13.000000  11.30  0.5   68.506205\n",
       "17.799999   5.75  0.5  166.898941\n",
       "18.900000   7.60  0.5  108.058220\n",
       "20.799999   4.95  0.5  142.893265\n",
       "21.900000   6.55  0.5   71.647846"
      ]
     },
     "execution_count": 108,
     "metadata": {},
     "output_type": "execute_result"
    }
   ],
   "source": [
    "Y = \"crmrte\"\n",
    "X = [\"unem\", \"t\"]\n",
    "\n",
    "mean_data = crime2.groupby(\"ids\")[X+[Y]].mean()\n",
    "mean_data.head()"
   ]
  },
  {
   "cell_type": "code",
   "execution_count": 109,
   "id": "d4348ac0",
   "metadata": {},
   "outputs": [
    {
     "data": {
      "text/html": [
       "<div>\n",
       "<style scoped>\n",
       "    .dataframe tbody tr th:only-of-type {\n",
       "        vertical-align: middle;\n",
       "    }\n",
       "\n",
       "    .dataframe tbody tr th {\n",
       "        vertical-align: top;\n",
       "    }\n",
       "\n",
       "    .dataframe thead th {\n",
       "        text-align: right;\n",
       "    }\n",
       "</style>\n",
       "<table border=\"1\" class=\"dataframe\">\n",
       "  <thead>\n",
       "    <tr style=\"text-align: right;\">\n",
       "      <th></th>\n",
       "      <th>unem</th>\n",
       "      <th>t</th>\n",
       "      <th>crmrte</th>\n",
       "    </tr>\n",
       "    <tr>\n",
       "      <th>ids</th>\n",
       "      <th></th>\n",
       "      <th></th>\n",
       "      <th></th>\n",
       "    </tr>\n",
       "  </thead>\n",
       "  <tbody>\n",
       "    <tr>\n",
       "      <th>13.000000</th>\n",
       "      <td>3.60</td>\n",
       "      <td>-0.5</td>\n",
       "      <td>4.807211</td>\n",
       "    </tr>\n",
       "    <tr>\n",
       "      <th>13.000000</th>\n",
       "      <td>-3.60</td>\n",
       "      <td>0.5</td>\n",
       "      <td>-4.807211</td>\n",
       "    </tr>\n",
       "    <tr>\n",
       "      <th>17.799999</th>\n",
       "      <td>3.35</td>\n",
       "      <td>-0.5</td>\n",
       "      <td>2.416580</td>\n",
       "    </tr>\n",
       "    <tr>\n",
       "      <th>17.799999</th>\n",
       "      <td>-3.35</td>\n",
       "      <td>0.5</td>\n",
       "      <td>-2.416580</td>\n",
       "    </tr>\n",
       "    <tr>\n",
       "      <th>18.900000</th>\n",
       "      <td>3.70</td>\n",
       "      <td>-0.5</td>\n",
       "      <td>-11.970970</td>\n",
       "    </tr>\n",
       "  </tbody>\n",
       "</table>\n",
       "</div>"
      ],
      "text/plain": [
       "           unem    t     crmrte\n",
       "ids                            \n",
       "13.000000  3.60 -0.5   4.807211\n",
       "13.000000 -3.60  0.5  -4.807211\n",
       "17.799999  3.35 -0.5   2.416580\n",
       "17.799999 -3.35  0.5  -2.416580\n",
       "18.900000  3.70 -0.5 -11.970970"
      ]
     },
     "execution_count": 109,
     "metadata": {},
     "output_type": "execute_result"
    }
   ],
   "source": [
    "demeaned_data = (crime2.set_index(\"ids\")[X+[Y]] - mean_data) # subtract the mean data\n",
    "demeaned_data.head()"
   ]
  },
  {
   "cell_type": "code",
   "execution_count": 110,
   "id": "b32976d6",
   "metadata": {},
   "outputs": [],
   "source": [
    "crime2[\"crmrte_demmean\"] = crime2.crmrte - crime2.groupby(\"ids\", axis=0).transform('mean')[\"crmrte\"]\n",
    "crime2[\"unem_demmean\"] = crime2.unem - crime2.groupby(\"ids\", axis=0).transform('mean')[\"unem\"]"
   ]
  },
  {
   "cell_type": "code",
   "execution_count": 111,
   "id": "ad11bb6b",
   "metadata": {},
   "outputs": [
    {
     "data": {
      "text/html": [
       "<table class=\"simpletable\">\n",
       "<caption>OLS Regression Results</caption>\n",
       "<tr>\n",
       "  <th>Dep. Variable:</th>         <td>crmrte</td>      <th>  R-squared (uncentered):</th>      <td>   0.196</td>\n",
       "</tr>\n",
       "<tr>\n",
       "  <th>Model:</th>                   <td>OLS</td>       <th>  Adj. R-squared (uncentered):</th> <td>   0.178</td>\n",
       "</tr>\n",
       "<tr>\n",
       "  <th>Method:</th>             <td>Least Squares</td>  <th>  F-statistic:       </th>          <td>   10.97</td>\n",
       "</tr>\n",
       "<tr>\n",
       "  <th>Date:</th>             <td>Thu, 01 Dec 2022</td> <th>  Prob (F-statistic):</th>          <td>5.43e-05</td>\n",
       "</tr>\n",
       "<tr>\n",
       "  <th>Time:</th>                 <td>15:00:42</td>     <th>  Log-Likelihood:    </th>          <td> -340.57</td>\n",
       "</tr>\n",
       "<tr>\n",
       "  <th>No. Observations:</th>      <td>    92</td>      <th>  AIC:               </th>          <td>   685.1</td>\n",
       "</tr>\n",
       "<tr>\n",
       "  <th>Df Residuals:</th>          <td>    90</td>      <th>  BIC:               </th>          <td>   690.2</td>\n",
       "</tr>\n",
       "<tr>\n",
       "  <th>Df Model:</th>              <td>     2</td>      <th>                     </th>              <td> </td>   \n",
       "</tr>\n",
       "<tr>\n",
       "  <th>Covariance Type:</th>      <td>nonrobust</td>    <th>                     </th>              <td> </td>   \n",
       "</tr>\n",
       "</table>\n",
       "<table class=\"simpletable\">\n",
       "<tr>\n",
       "    <td></td>      <th>coef</th>     <th>std err</th>      <th>t</th>      <th>P>|t|</th>  <th>[0.025</th>    <th>0.975]</th>  \n",
       "</tr>\n",
       "<tr>\n",
       "  <th>t</th>    <td>   15.4022</td> <td>    3.288</td> <td>    4.685</td> <td> 0.000</td> <td>    8.871</td> <td>   21.934</td>\n",
       "</tr>\n",
       "<tr>\n",
       "  <th>unem</th> <td>    2.2180</td> <td>    0.614</td> <td>    3.614</td> <td> 0.000</td> <td>    0.999</td> <td>    3.437</td>\n",
       "</tr>\n",
       "</table>\n",
       "<table class=\"simpletable\">\n",
       "<tr>\n",
       "  <th>Omnibus:</th>       <td> 0.005</td> <th>  Durbin-Watson:     </th> <td>   2.890</td>\n",
       "</tr>\n",
       "<tr>\n",
       "  <th>Prob(Omnibus):</th> <td> 0.998</td> <th>  Jarque-Bera (JB):  </th> <td>   0.053</td>\n",
       "</tr>\n",
       "<tr>\n",
       "  <th>Skew:</th>          <td> 0.000</td> <th>  Prob(JB):          </th> <td>   0.974</td>\n",
       "</tr>\n",
       "<tr>\n",
       "  <th>Kurtosis:</th>      <td> 2.883</td> <th>  Cond. No.          </th> <td>    8.70</td>\n",
       "</tr>\n",
       "</table><br/><br/>Notes:<br/>[1] R² is computed without centering (uncentered) since the model does not contain a constant.<br/>[2] Standard Errors assume that the covariance matrix of the errors is correctly specified."
      ],
      "text/plain": [
       "<class 'statsmodels.iolib.summary.Summary'>\n",
       "\"\"\"\n",
       "                                 OLS Regression Results                                \n",
       "=======================================================================================\n",
       "Dep. Variable:                 crmrte   R-squared (uncentered):                   0.196\n",
       "Model:                            OLS   Adj. R-squared (uncentered):              0.178\n",
       "Method:                 Least Squares   F-statistic:                              10.97\n",
       "Date:                Thu, 01 Dec 2022   Prob (F-statistic):                    5.43e-05\n",
       "Time:                        15:00:42   Log-Likelihood:                         -340.57\n",
       "No. Observations:                  92   AIC:                                      685.1\n",
       "Df Residuals:                      90   BIC:                                      690.2\n",
       "Df Model:                           2                                                  \n",
       "Covariance Type:            nonrobust                                                  \n",
       "==============================================================================\n",
       "                 coef    std err          t      P>|t|      [0.025      0.975]\n",
       "------------------------------------------------------------------------------\n",
       "t             15.4022      3.288      4.685      0.000       8.871      21.934\n",
       "unem           2.2180      0.614      3.614      0.000       0.999       3.437\n",
       "==============================================================================\n",
       "Omnibus:                        0.005   Durbin-Watson:                   2.890\n",
       "Prob(Omnibus):                  0.998   Jarque-Bera (JB):                0.053\n",
       "Skew:                           0.000   Prob(JB):                        0.974\n",
       "Kurtosis:                       2.883   Cond. No.                         8.70\n",
       "==============================================================================\n",
       "\n",
       "Notes:\n",
       "[1] R² is computed without centering (uncentered) since the model does not contain a constant.\n",
       "[2] Standard Errors assume that the covariance matrix of the errors is correctly specified.\n",
       "\"\"\""
      ]
     },
     "execution_count": 111,
     "metadata": {},
     "output_type": "execute_result"
    }
   ],
   "source": [
    "mod = smf.ols('crmrte ~ t+unem-1', data=demeaned_data).fit()\n",
    "mod.summary()"
   ]
  },
  {
   "cell_type": "code",
   "execution_count": 116,
   "id": "175b30a5",
   "metadata": {},
   "outputs": [],
   "source": [
    "crime2 = crime2.set_index(['ids', 'year'], drop = False)"
   ]
  },
  {
   "cell_type": "code",
   "execution_count": 117,
   "id": "cf10c53f",
   "metadata": {
    "scrolled": false
   },
   "outputs": [
    {
     "data": {
      "text/html": [
       "<table class=\"simpletable\">\n",
       "<caption>PanelOLS Estimation Summary</caption>\n",
       "<tr>\n",
       "  <th>Dep. Variable:</th>         <td>crmrte</td>      <th>  R-squared:         </th>   <td>0.1961</td> \n",
       "</tr>\n",
       "<tr>\n",
       "  <th>Estimator:</th>            <td>PanelOLS</td>     <th>  R-squared (Between):</th>  <td>0.4064</td> \n",
       "</tr>\n",
       "<tr>\n",
       "  <th>No. Observations:</th>        <td>92</td>        <th>  R-squared (Within):</th>   <td>0.1961</td> \n",
       "</tr>\n",
       "<tr>\n",
       "  <th>Date:</th>             <td>Thu, Dec 01 2022</td> <th>  R-squared (Overall):</th>  <td>0.4041</td> \n",
       "</tr>\n",
       "<tr>\n",
       "  <th>Time:</th>                 <td>15:11:26</td>     <th>  Log-likelihood     </th>   <td>-340.57</td>\n",
       "</tr>\n",
       "<tr>\n",
       "  <th>Cov. Estimator:</th>      <td>Unadjusted</td>    <th>                     </th>      <td></td>    \n",
       "</tr>\n",
       "<tr>\n",
       "  <th></th>                          <td></td>         <th>  F-statistic:       </th>   <td>5.3653</td> \n",
       "</tr>\n",
       "<tr>\n",
       "  <th>Entities:</th>                <td>46</td>        <th>  P-value            </th>   <td>0.0082</td> \n",
       "</tr>\n",
       "<tr>\n",
       "  <th>Avg Obs:</th>               <td>2.0000</td>      <th>  Distribution:      </th>   <td>F(2,44)</td>\n",
       "</tr>\n",
       "<tr>\n",
       "  <th>Min Obs:</th>               <td>2.0000</td>      <th>                     </th>      <td></td>    \n",
       "</tr>\n",
       "<tr>\n",
       "  <th>Max Obs:</th>               <td>2.0000</td>      <th>  F-statistic (robust):</th> <td>5.3653</td> \n",
       "</tr>\n",
       "<tr>\n",
       "  <th></th>                          <td></td>         <th>  P-value            </th>   <td>0.0082</td> \n",
       "</tr>\n",
       "<tr>\n",
       "  <th>Time periods:</th>             <td>2</td>        <th>  Distribution:      </th>   <td>F(2,44)</td>\n",
       "</tr>\n",
       "<tr>\n",
       "  <th>Avg Obs:</th>               <td>46.000</td>      <th>                     </th>      <td></td>    \n",
       "</tr>\n",
       "<tr>\n",
       "  <th>Min Obs:</th>               <td>46.000</td>      <th>                     </th>      <td></td>    \n",
       "</tr>\n",
       "<tr>\n",
       "  <th>Max Obs:</th>               <td>46.000</td>      <th>                     </th>      <td></td>    \n",
       "</tr>\n",
       "<tr>\n",
       "  <th></th>                          <td></td>         <th>                     </th>      <td></td>    \n",
       "</tr>\n",
       "</table>\n",
       "<table class=\"simpletable\">\n",
       "<caption>Parameter Estimates</caption>\n",
       "<tr>\n",
       "    <td></td>   <th>Parameter</th> <th>Std. Err.</th> <th>T-stat</th> <th>P-value</th> <th>Lower CI</th> <th>Upper CI</th>\n",
       "</tr>\n",
       "<tr>\n",
       "  <th>t</th>     <td>15.402</td>    <td>4.7021</td>   <td>3.2756</td> <td>0.0021</td>   <td>5.9257</td>   <td>24.879</td> \n",
       "</tr>\n",
       "<tr>\n",
       "  <th>unem</th>  <td>2.2180</td>    <td>0.8779</td>   <td>2.5266</td> <td>0.0152</td>   <td>0.4488</td>   <td>3.9872</td> \n",
       "</tr>\n",
       "</table><br/><br/>F-test for Poolability: 7.8723<br/>P-value: 0.0000<br/>Distribution: F(45,44)<br/><br/>Included effects: Entity<br/>id: 0x198c393f7f0"
      ],
      "text/plain": [
       "                          PanelOLS Estimation Summary                           \n",
       "================================================================================\n",
       "Dep. Variable:                 crmrte   R-squared:                        0.1961\n",
       "Estimator:                   PanelOLS   R-squared (Between):              0.4064\n",
       "No. Observations:                  92   R-squared (Within):               0.1961\n",
       "Date:                Thu, Dec 01 2022   R-squared (Overall):              0.4041\n",
       "Time:                        15:11:26   Log-likelihood                   -340.57\n",
       "Cov. Estimator:            Unadjusted                                           \n",
       "                                        F-statistic:                      5.3653\n",
       "Entities:                          46   P-value                           0.0082\n",
       "Avg Obs:                       2.0000   Distribution:                    F(2,44)\n",
       "Min Obs:                       2.0000                                           \n",
       "Max Obs:                       2.0000   F-statistic (robust):             5.3653\n",
       "                                        P-value                           0.0082\n",
       "Time periods:                       2   Distribution:                    F(2,44)\n",
       "Avg Obs:                       46.000                                           \n",
       "Min Obs:                       46.000                                           \n",
       "Max Obs:                       46.000                                           \n",
       "                                                                                \n",
       "                             Parameter Estimates                              \n",
       "==============================================================================\n",
       "            Parameter  Std. Err.     T-stat    P-value    Lower CI    Upper CI\n",
       "------------------------------------------------------------------------------\n",
       "t              15.402     4.7021     3.2756     0.0021      5.9257      24.879\n",
       "unem           2.2180     0.8779     2.5266     0.0152      0.4488      3.9872\n",
       "==============================================================================\n",
       "\n",
       "F-test for Poolability: 7.8723\n",
       "P-value: 0.0000\n",
       "Distribution: F(45,44)\n",
       "\n",
       "Included effects: Entity\n",
       "PanelEffectsResults, id: 0x198c393f7f0"
      ]
     },
     "execution_count": 117,
     "metadata": {},
     "output_type": "execute_result"
    }
   ],
   "source": [
    "# Drop absorbed drops any variables that do not change over time (ethnicity would be an example)\n",
    "fe_fit = plm.PanelOLS.from_formula(formula = 'crmrte ~ t+ unem + EntityEffects',\n",
    "                                   data = crime2, drop_absorbed = True).fit()\n",
    "fe_fit"
   ]
  },
  {
   "cell_type": "markdown",
   "id": "3a81caa0",
   "metadata": {},
   "source": [
    "### Dummy variable Regression"
   ]
  },
  {
   "cell_type": "code",
   "execution_count": 23,
   "id": "e84065dc",
   "metadata": {},
   "outputs": [
    {
     "data": {
      "text/html": [
       "<table class=\"simpletable\">\n",
       "<caption>OLS Regression Results</caption>\n",
       "<tr>\n",
       "  <th>Dep. Variable:</th>         <td>crmrte</td>      <th>  R-squared:         </th> <td>   0.891</td>\n",
       "</tr>\n",
       "<tr>\n",
       "  <th>Model:</th>                   <td>OLS</td>       <th>  Adj. R-squared:    </th> <td>   0.774</td>\n",
       "</tr>\n",
       "<tr>\n",
       "  <th>Method:</th>             <td>Least Squares</td>  <th>  F-statistic:       </th> <td>   7.642</td>\n",
       "</tr>\n",
       "<tr>\n",
       "  <th>Date:</th>             <td>Thu, 01 Dec 2022</td> <th>  Prob (F-statistic):</th> <td>1.70e-10</td>\n",
       "</tr>\n",
       "<tr>\n",
       "  <th>Time:</th>                 <td>11:44:37</td>     <th>  Log-Likelihood:    </th> <td> -340.57</td>\n",
       "</tr>\n",
       "<tr>\n",
       "  <th>No. Observations:</th>      <td>    92</td>      <th>  AIC:               </th> <td>   777.1</td>\n",
       "</tr>\n",
       "<tr>\n",
       "  <th>Df Residuals:</th>          <td>    44</td>      <th>  BIC:               </th> <td>   898.2</td>\n",
       "</tr>\n",
       "<tr>\n",
       "  <th>Df Model:</th>              <td>    47</td>      <th>                     </th>     <td> </td>   \n",
       "</tr>\n",
       "<tr>\n",
       "  <th>Covariance Type:</th>      <td>nonrobust</td>    <th>                     </th>     <td> </td>   \n",
       "</tr>\n",
       "</table>\n",
       "<table class=\"simpletable\">\n",
       "<tr>\n",
       "                <td></td>                  <th>coef</th>     <th>std err</th>      <th>t</th>      <th>P>|t|</th>  <th>[0.025</th>    <th>0.975]</th>  \n",
       "</tr>\n",
       "<tr>\n",
       "  <th>Intercept</th>                    <td>   35.7417</td> <td>   15.515</td> <td>    2.304</td> <td> 0.026</td> <td>    4.473</td> <td>   67.010</td>\n",
       "</tr>\n",
       "<tr>\n",
       "  <th>C(ids)[T.17.799999237060547]</th> <td>  110.7026</td> <td>   14.992</td> <td>    7.384</td> <td> 0.000</td> <td>   80.489</td> <td>  140.917</td>\n",
       "</tr>\n",
       "<tr>\n",
       "  <th>C(ids)[T.18.899999618530277]</th> <td>   47.7586</td> <td>   14.545</td> <td>    3.283</td> <td> 0.002</td> <td>   18.444</td> <td>   77.073</td>\n",
       "</tr>\n",
       "<tr>\n",
       "  <th>C(ids)[T.20.799999237060547]</th> <td>   88.4714</td> <td>   15.235</td> <td>    5.807</td> <td> 0.000</td> <td>   57.768</td> <td>  119.175</td>\n",
       "</tr>\n",
       "<tr>\n",
       "  <th>C(ids)[T.21.899999618530277]</th> <td>   13.6771</td> <td>   14.779</td> <td>    0.925</td> <td> 0.360</td> <td>  -16.107</td> <td>   43.461</td>\n",
       "</tr>\n",
       "<tr>\n",
       "  <th>C(ids)[T.24.100000381469727]</th> <td>   51.7858</td> <td>   14.231</td> <td>    3.639</td> <td> 0.001</td> <td>   23.105</td> <td>   80.467</td>\n",
       "</tr>\n",
       "<tr>\n",
       "  <th>C(ids)[T.24.200000762939453]</th> <td>   24.2242</td> <td>   15.006</td> <td>    1.614</td> <td> 0.114</td> <td>   -6.019</td> <td>   54.467</td>\n",
       "</tr>\n",
       "<tr>\n",
       "  <th>C(ids)[T.25.299999237060547]</th> <td>   48.2313</td> <td>   14.978</td> <td>    3.220</td> <td> 0.002</td> <td>   18.046</td> <td>   78.417</td>\n",
       "</tr>\n",
       "<tr>\n",
       "  <th>C(ids)[T.27.399999618530277]</th> <td>   30.3498</td> <td>   14.791</td> <td>    2.052</td> <td> 0.046</td> <td>    0.540</td> <td>   60.159</td>\n",
       "</tr>\n",
       "<tr>\n",
       "  <th>C(ids)[T.34.20000076293945]</th>  <td>   43.7282</td> <td>   14.545</td> <td>    3.006</td> <td> 0.004</td> <td>   14.414</td> <td>   73.042</td>\n",
       "</tr>\n",
       "<tr>\n",
       "  <th>C(ids)[T.34.29999923706055]</th>  <td>   85.1854</td> <td>   14.315</td> <td>    5.951</td> <td> 0.000</td> <td>   56.335</td> <td>  114.035</td>\n",
       "</tr>\n",
       "<tr>\n",
       "  <th>C(ids)[T.41.79999923706055]</th>  <td>    7.3826</td> <td>   14.205</td> <td>    0.520</td> <td> 0.606</td> <td>  -21.246</td> <td>   36.011</td>\n",
       "</tr>\n",
       "<tr>\n",
       "  <th>C(ids)[T.44.59999847412109]</th>  <td>   15.7475</td> <td>   14.936</td> <td>    1.054</td> <td> 0.297</td> <td>  -14.353</td> <td>   45.848</td>\n",
       "</tr>\n",
       "<tr>\n",
       "  <th>C(ids)[T.46.400001525878906]</th> <td>   27.7747</td> <td>   14.730</td> <td>    1.886</td> <td> 0.066</td> <td>   -1.912</td> <td>   57.461</td>\n",
       "</tr>\n",
       "<tr>\n",
       "  <th>C(ids)[T.49.79999923706055]</th>  <td>   20.4360</td> <td>   14.575</td> <td>    1.402</td> <td> 0.168</td> <td>   -8.939</td> <td>   49.811</td>\n",
       "</tr>\n",
       "<tr>\n",
       "  <th>C(ids)[T.52.900001525878906]</th> <td>   28.3713</td> <td>   14.950</td> <td>    1.898</td> <td> 0.064</td> <td>   -1.758</td> <td>   58.500</td>\n",
       "</tr>\n",
       "<tr>\n",
       "  <th>C(ids)[T.53.0]</th>               <td>   17.4695</td> <td>   14.754</td> <td>    1.184</td> <td> 0.243</td> <td>  -12.265</td> <td>   47.204</td>\n",
       "</tr>\n",
       "<tr>\n",
       "  <th>C(ids)[T.54.400001525878906]</th> <td>   49.5983</td> <td>   14.181</td> <td>    3.497</td> <td> 0.001</td> <td>   21.018</td> <td>   78.179</td>\n",
       "</tr>\n",
       "<tr>\n",
       "  <th>C(ids)[T.55.09999847412109]</th>  <td>   56.3623</td> <td>   14.992</td> <td>    3.760</td> <td> 0.000</td> <td>   26.148</td> <td>   86.576</td>\n",
       "</tr>\n",
       "<tr>\n",
       "  <th>C(ids)[T.55.29999923706055]</th>  <td>   59.3131</td> <td>   14.239</td> <td>    4.166</td> <td> 0.000</td> <td>   30.616</td> <td>   88.010</td>\n",
       "</tr>\n",
       "<tr>\n",
       "  <th>C(ids)[T.55.400001525878906]</th> <td>   11.4640</td> <td>   14.327</td> <td>    0.800</td> <td> 0.428</td> <td>  -17.411</td> <td>   40.339</td>\n",
       "</tr>\n",
       "<tr>\n",
       "  <th>C(ids)[T.55.900001525878906]</th> <td>   34.2429</td> <td>   14.779</td> <td>    2.317</td> <td> 0.025</td> <td>    4.459</td> <td>   64.027</td>\n",
       "</tr>\n",
       "<tr>\n",
       "  <th>C(ids)[T.61.09999847412109]</th>  <td>    8.9101</td> <td>   14.354</td> <td>    0.621</td> <td> 0.538</td> <td>  -20.018</td> <td>   37.838</td>\n",
       "</tr>\n",
       "<tr>\n",
       "  <th>C(ids)[T.74.0]</th>               <td>   22.7542</td> <td>   14.303</td> <td>    1.591</td> <td> 0.119</td> <td>   -6.072</td> <td>   51.580</td>\n",
       "</tr>\n",
       "<tr>\n",
       "  <th>C(ids)[T.78.0]</th>               <td>   15.8335</td> <td>   14.261</td> <td>    1.110</td> <td> 0.273</td> <td>  -12.908</td> <td>   44.575</td>\n",
       "</tr>\n",
       "<tr>\n",
       "  <th>C(ids)[T.79.0]</th>               <td>   20.3167</td> <td>   14.179</td> <td>    1.433</td> <td> 0.159</td> <td>   -8.260</td> <td>   48.893</td>\n",
       "</tr>\n",
       "<tr>\n",
       "  <th>C(ids)[T.95.8000030517578]</th>   <td>   12.4704</td> <td>   14.266</td> <td>    0.874</td> <td> 0.387</td> <td>  -16.280</td> <td>   41.221</td>\n",
       "</tr>\n",
       "<tr>\n",
       "  <th>C(ids)[T.97.3000030517578]</th>   <td>   40.2455</td> <td>   14.224</td> <td>    2.829</td> <td> 0.007</td> <td>   11.579</td> <td>   68.912</td>\n",
       "</tr>\n",
       "<tr>\n",
       "  <th>C(ids)[T.100.5]</th>              <td>   60.1289</td> <td>   14.606</td> <td>    4.117</td> <td> 0.000</td> <td>   30.692</td> <td>   89.566</td>\n",
       "</tr>\n",
       "<tr>\n",
       "  <th>C(ids)[T.104.1999969482422]</th>  <td>   93.2061</td> <td>   14.672</td> <td>    6.353</td> <td> 0.000</td> <td>   63.637</td> <td>  122.775</td>\n",
       "</tr>\n",
       "<tr>\n",
       "  <th>C(ids)[T.106.8000030517578]</th>  <td>   44.2013</td> <td>   14.766</td> <td>    2.993</td> <td> 0.005</td> <td>   14.442</td> <td>   73.961</td>\n",
       "</tr>\n",
       "<tr>\n",
       "  <th>C(ids)[T.113.9000015258789]</th>  <td>   87.1865</td> <td>   14.507</td> <td>    6.010</td> <td> 0.000</td> <td>   57.949</td> <td>  116.424</td>\n",
       "</tr>\n",
       "<tr>\n",
       "  <th>C(ids)[T.131.1999969482422]</th>  <td>   83.5008</td> <td>   14.683</td> <td>    5.687</td> <td> 0.000</td> <td>   53.908</td> <td>  113.093</td>\n",
       "</tr>\n",
       "<tr>\n",
       "  <th>C(ids)[T.135.60000610351562]</th> <td>   52.8436</td> <td>   14.429</td> <td>    3.662</td> <td> 0.001</td> <td>   23.764</td> <td>   81.923</td>\n",
       "</tr>\n",
       "<tr>\n",
       "  <th>C(ids)[T.169.1999969482422]</th>  <td>    5.4964</td> <td>   14.695</td> <td>    0.374</td> <td> 0.710</td> <td>  -24.119</td> <td>   35.112</td>\n",
       "</tr>\n",
       "<tr>\n",
       "  <th>C(ids)[T.186.8000030517578]</th>  <td>   29.6009</td> <td>   14.586</td> <td>    2.029</td> <td> 0.048</td> <td>    0.206</td> <td>   58.996</td>\n",
       "</tr>\n",
       "<tr>\n",
       "  <th>C(ids)[T.199.3999938964844]</th>  <td>   23.9310</td> <td>   14.239</td> <td>    1.681</td> <td> 0.100</td> <td>   -4.766</td> <td>   52.628</td>\n",
       "</tr>\n",
       "<tr>\n",
       "  <th>C(ids)[T.255.8999938964844]</th>  <td>   -2.0056</td> <td>   14.950</td> <td>   -0.134</td> <td> 0.894</td> <td>  -32.134</td> <td>   28.123</td>\n",
       "</tr>\n",
       "<tr>\n",
       "  <th>C(ids)[T.258.5]</th>              <td>   86.5116</td> <td>   14.545</td> <td>    5.948</td> <td> 0.000</td> <td>   57.197</td> <td>  115.826</td>\n",
       "</tr>\n",
       "<tr>\n",
       "  <th>C(ids)[T.264.1000061035156]</th>  <td>   24.4614</td> <td>   14.205</td> <td>    1.722</td> <td> 0.092</td> <td>   -4.167</td> <td>   53.090</td>\n",
       "</tr>\n",
       "<tr>\n",
       "  <th>C(ids)[T.316.3999938964844]</th>  <td>   48.1545</td> <td>   14.437</td> <td>    3.336</td> <td> 0.002</td> <td>   19.059</td> <td>   77.250</td>\n",
       "</tr>\n",
       "<tr>\n",
       "  <th>C(ids)[T.329.0]</th>              <td>   18.2937</td> <td>   14.596</td> <td>    1.253</td> <td> 0.217</td> <td>  -11.122</td> <td>   47.710</td>\n",
       "</tr>\n",
       "<tr>\n",
       "  <th>C(ids)[T.331.3999938964844]</th>  <td>   83.1308</td> <td>   14.779</td> <td>    5.625</td> <td> 0.000</td> <td>   53.347</td> <td>  112.915</td>\n",
       "</tr>\n",
       "<tr>\n",
       "  <th>C(ids)[T.352.0]</th>              <td>    7.5076</td> <td>   14.429</td> <td>    0.520</td> <td> 0.605</td> <td>  -21.571</td> <td>   36.587</td>\n",
       "</tr>\n",
       "<tr>\n",
       "  <th>C(ids)[T.375.0]</th>              <td>   33.0392</td> <td>   14.730</td> <td>    2.243</td> <td> 0.030</td> <td>    3.353</td> <td>   62.726</td>\n",
       "</tr>\n",
       "<tr>\n",
       "  <th>C(ids)[T.604.0]</th>              <td>   52.6707</td> <td>   15.050</td> <td>    3.500</td> <td> 0.001</td> <td>   22.340</td> <td>   83.002</td>\n",
       "</tr>\n",
       "<tr>\n",
       "  <th>t</th>                            <td>   15.4022</td> <td>    4.702</td> <td>    3.276</td> <td> 0.002</td> <td>    5.926</td> <td>   24.879</td>\n",
       "</tr>\n",
       "<tr>\n",
       "  <th>unem</th>                         <td>    2.2180</td> <td>    0.878</td> <td>    2.527</td> <td> 0.015</td> <td>    0.449</td> <td>    3.987</td>\n",
       "</tr>\n",
       "</table>\n",
       "<table class=\"simpletable\">\n",
       "<tr>\n",
       "  <th>Omnibus:</th>       <td> 0.005</td> <th>  Durbin-Watson:     </th> <td>   3.413</td>\n",
       "</tr>\n",
       "<tr>\n",
       "  <th>Prob(Omnibus):</th> <td> 0.998</td> <th>  Jarque-Bera (JB):  </th> <td>   0.053</td>\n",
       "</tr>\n",
       "<tr>\n",
       "  <th>Skew:</th>          <td>-0.000</td> <th>  Prob(JB):          </th> <td>   0.974</td>\n",
       "</tr>\n",
       "<tr>\n",
       "  <th>Kurtosis:</th>      <td> 2.883</td> <th>  Cond. No.          </th> <td>    425.</td>\n",
       "</tr>\n",
       "</table><br/><br/>Notes:<br/>[1] Standard Errors assume that the covariance matrix of the errors is correctly specified."
      ],
      "text/plain": [
       "<class 'statsmodels.iolib.summary.Summary'>\n",
       "\"\"\"\n",
       "                            OLS Regression Results                            \n",
       "==============================================================================\n",
       "Dep. Variable:                 crmrte   R-squared:                       0.891\n",
       "Model:                            OLS   Adj. R-squared:                  0.774\n",
       "Method:                 Least Squares   F-statistic:                     7.642\n",
       "Date:                Thu, 01 Dec 2022   Prob (F-statistic):           1.70e-10\n",
       "Time:                        11:44:37   Log-Likelihood:                -340.57\n",
       "No. Observations:                  92   AIC:                             777.1\n",
       "Df Residuals:                      44   BIC:                             898.2\n",
       "Df Model:                          47                                         \n",
       "Covariance Type:            nonrobust                                         \n",
       "================================================================================================\n",
       "                                   coef    std err          t      P>|t|      [0.025      0.975]\n",
       "------------------------------------------------------------------------------------------------\n",
       "Intercept                       35.7417     15.515      2.304      0.026       4.473      67.010\n",
       "C(ids)[T.17.799999237060547]   110.7026     14.992      7.384      0.000      80.489     140.917\n",
       "C(ids)[T.18.899999618530277]    47.7586     14.545      3.283      0.002      18.444      77.073\n",
       "C(ids)[T.20.799999237060547]    88.4714     15.235      5.807      0.000      57.768     119.175\n",
       "C(ids)[T.21.899999618530277]    13.6771     14.779      0.925      0.360     -16.107      43.461\n",
       "C(ids)[T.24.100000381469727]    51.7858     14.231      3.639      0.001      23.105      80.467\n",
       "C(ids)[T.24.200000762939453]    24.2242     15.006      1.614      0.114      -6.019      54.467\n",
       "C(ids)[T.25.299999237060547]    48.2313     14.978      3.220      0.002      18.046      78.417\n",
       "C(ids)[T.27.399999618530277]    30.3498     14.791      2.052      0.046       0.540      60.159\n",
       "C(ids)[T.34.20000076293945]     43.7282     14.545      3.006      0.004      14.414      73.042\n",
       "C(ids)[T.34.29999923706055]     85.1854     14.315      5.951      0.000      56.335     114.035\n",
       "C(ids)[T.41.79999923706055]      7.3826     14.205      0.520      0.606     -21.246      36.011\n",
       "C(ids)[T.44.59999847412109]     15.7475     14.936      1.054      0.297     -14.353      45.848\n",
       "C(ids)[T.46.400001525878906]    27.7747     14.730      1.886      0.066      -1.912      57.461\n",
       "C(ids)[T.49.79999923706055]     20.4360     14.575      1.402      0.168      -8.939      49.811\n",
       "C(ids)[T.52.900001525878906]    28.3713     14.950      1.898      0.064      -1.758      58.500\n",
       "C(ids)[T.53.0]                  17.4695     14.754      1.184      0.243     -12.265      47.204\n",
       "C(ids)[T.54.400001525878906]    49.5983     14.181      3.497      0.001      21.018      78.179\n",
       "C(ids)[T.55.09999847412109]     56.3623     14.992      3.760      0.000      26.148      86.576\n",
       "C(ids)[T.55.29999923706055]     59.3131     14.239      4.166      0.000      30.616      88.010\n",
       "C(ids)[T.55.400001525878906]    11.4640     14.327      0.800      0.428     -17.411      40.339\n",
       "C(ids)[T.55.900001525878906]    34.2429     14.779      2.317      0.025       4.459      64.027\n",
       "C(ids)[T.61.09999847412109]      8.9101     14.354      0.621      0.538     -20.018      37.838\n",
       "C(ids)[T.74.0]                  22.7542     14.303      1.591      0.119      -6.072      51.580\n",
       "C(ids)[T.78.0]                  15.8335     14.261      1.110      0.273     -12.908      44.575\n",
       "C(ids)[T.79.0]                  20.3167     14.179      1.433      0.159      -8.260      48.893\n",
       "C(ids)[T.95.8000030517578]      12.4704     14.266      0.874      0.387     -16.280      41.221\n",
       "C(ids)[T.97.3000030517578]      40.2455     14.224      2.829      0.007      11.579      68.912\n",
       "C(ids)[T.100.5]                 60.1289     14.606      4.117      0.000      30.692      89.566\n",
       "C(ids)[T.104.1999969482422]     93.2061     14.672      6.353      0.000      63.637     122.775\n",
       "C(ids)[T.106.8000030517578]     44.2013     14.766      2.993      0.005      14.442      73.961\n",
       "C(ids)[T.113.9000015258789]     87.1865     14.507      6.010      0.000      57.949     116.424\n",
       "C(ids)[T.131.1999969482422]     83.5008     14.683      5.687      0.000      53.908     113.093\n",
       "C(ids)[T.135.60000610351562]    52.8436     14.429      3.662      0.001      23.764      81.923\n",
       "C(ids)[T.169.1999969482422]      5.4964     14.695      0.374      0.710     -24.119      35.112\n",
       "C(ids)[T.186.8000030517578]     29.6009     14.586      2.029      0.048       0.206      58.996\n",
       "C(ids)[T.199.3999938964844]     23.9310     14.239      1.681      0.100      -4.766      52.628\n",
       "C(ids)[T.255.8999938964844]     -2.0056     14.950     -0.134      0.894     -32.134      28.123\n",
       "C(ids)[T.258.5]                 86.5116     14.545      5.948      0.000      57.197     115.826\n",
       "C(ids)[T.264.1000061035156]     24.4614     14.205      1.722      0.092      -4.167      53.090\n",
       "C(ids)[T.316.3999938964844]     48.1545     14.437      3.336      0.002      19.059      77.250\n",
       "C(ids)[T.329.0]                 18.2937     14.596      1.253      0.217     -11.122      47.710\n",
       "C(ids)[T.331.3999938964844]     83.1308     14.779      5.625      0.000      53.347     112.915\n",
       "C(ids)[T.352.0]                  7.5076     14.429      0.520      0.605     -21.571      36.587\n",
       "C(ids)[T.375.0]                 33.0392     14.730      2.243      0.030       3.353      62.726\n",
       "C(ids)[T.604.0]                 52.6707     15.050      3.500      0.001      22.340      83.002\n",
       "t                               15.4022      4.702      3.276      0.002       5.926      24.879\n",
       "unem                             2.2180      0.878      2.527      0.015       0.449       3.987\n",
       "==============================================================================\n",
       "Omnibus:                        0.005   Durbin-Watson:                   3.413\n",
       "Prob(Omnibus):                  0.998   Jarque-Bera (JB):                0.053\n",
       "Skew:                          -0.000   Prob(JB):                        0.974\n",
       "Kurtosis:                       2.883   Cond. No.                         425.\n",
       "==============================================================================\n",
       "\n",
       "Notes:\n",
       "[1] Standard Errors assume that the covariance matrix of the errors is correctly specified.\n",
       "\"\"\""
      ]
     },
     "execution_count": 23,
     "metadata": {},
     "output_type": "execute_result"
    }
   ],
   "source": [
    "smf.ols(formula = 'crmrte ~ t+ unem + C(ids)', data = crime2).fit().summary()"
   ]
  },
  {
   "cell_type": "markdown",
   "id": "56957ccc",
   "metadata": {},
   "source": [
    "## Random Effects"
   ]
  },
  {
   "cell_type": "markdown",
   "id": "0d96b2db",
   "metadata": {},
   "source": [
    "Random effects assumes that the unobserved heterogeneity $a_i$ are uncorrelated with the regressors. If this is true, then we could simply run ols on our data as if it was a cross section. \n",
    "\n",
    "However the errors in our model will be serially correlated across time, which means the standard errors in our model will be incorrect.\n",
    "\n",
    "Consider the model from earlier:\n",
    "\n",
    "$$crmrte_{it} = \\beta_0 + \\beta_1 unem_{it} + a_i + u_{it}$$\n",
    "\n",
    "where $v_{it}= a_i + u_{it}$ is the composite error term. If our random effects assumptions hold, then:\n",
    "$cov(x_{itj}, a_i) = 0$  for all $t = 0, 1, ..., T$ and $j = 1,2,...,k$.\n",
    " \n",
    "Unfortunately, one of our assumptions to derive correct standard errors is that there is no serial correlation across time. This can't be true, since $a_i$ is included in the composite error term. In fact, under the ranedom effects assumptions:\n",
    "\n",
    "$$cov(v_{it}, v_{is}) = \\frac{\\sigma^2_a}{\\sigma^2_a+\\sigma^2_u}$$ $$t \\neq s$$\n",
    "\n",
    "GLS can be used to solve the serial correlation problem."
   ]
  },
  {
   "cell_type": "code",
   "execution_count": 43,
   "id": "fcc5659e",
   "metadata": {},
   "outputs": [
    {
     "data": {
      "text/html": [
       "<table class=\"simpletable\">\n",
       "<caption>RandomEffects Estimation Summary</caption>\n",
       "<tr>\n",
       "  <th>Dep. Variable:</th>         <td>crmrte</td>      <th>  R-squared:         </th>   <td>0.0927</td> \n",
       "</tr>\n",
       "<tr>\n",
       "  <th>Estimator:</th>          <td>RandomEffects</td>  <th>  R-squared (Between):</th>  <td>-0.0320</td>\n",
       "</tr>\n",
       "<tr>\n",
       "  <th>No. Observations:</th>        <td>92</td>        <th>  R-squared (Within):</th>   <td>0.1911</td> \n",
       "</tr>\n",
       "<tr>\n",
       "  <th>Date:</th>             <td>Thu, Dec 01 2022</td> <th>  R-squared (Overall):</th>  <td>-0.0017</td>\n",
       "</tr>\n",
       "<tr>\n",
       "  <th>Time:</th>                 <td>11:56:44</td>     <th>  Log-likelihood     </th>   <td>-372.87</td>\n",
       "</tr>\n",
       "<tr>\n",
       "  <th>Cov. Estimator:</th>      <td>Unadjusted</td>    <th>                     </th>      <td></td>    \n",
       "</tr>\n",
       "<tr>\n",
       "  <th></th>                          <td></td>         <th>  F-statistic:       </th>   <td>4.5472</td> \n",
       "</tr>\n",
       "<tr>\n",
       "  <th>Entities:</th>                <td>46</td>        <th>  P-value            </th>   <td>0.0132</td> \n",
       "</tr>\n",
       "<tr>\n",
       "  <th>Avg Obs:</th>               <td>2.0000</td>      <th>  Distribution:      </th>   <td>F(2,89)</td>\n",
       "</tr>\n",
       "<tr>\n",
       "  <th>Min Obs:</th>               <td>2.0000</td>      <th>                     </th>      <td></td>    \n",
       "</tr>\n",
       "<tr>\n",
       "  <th>Max Obs:</th>               <td>2.0000</td>      <th>  F-statistic (robust):</th> <td>4.5472</td> \n",
       "</tr>\n",
       "<tr>\n",
       "  <th></th>                          <td></td>         <th>  P-value            </th>   <td>0.0132</td> \n",
       "</tr>\n",
       "<tr>\n",
       "  <th>Time periods:</th>             <td>2</td>        <th>  Distribution:      </th>   <td>F(2,89)</td>\n",
       "</tr>\n",
       "<tr>\n",
       "  <th>Avg Obs:</th>               <td>46.000</td>      <th>                     </th>      <td></td>    \n",
       "</tr>\n",
       "<tr>\n",
       "  <th>Min Obs:</th>               <td>46.000</td>      <th>                     </th>      <td></td>    \n",
       "</tr>\n",
       "<tr>\n",
       "  <th>Max Obs:</th>               <td>46.000</td>      <th>                     </th>      <td></td>    \n",
       "</tr>\n",
       "<tr>\n",
       "  <th></th>                          <td></td>         <th>                     </th>      <td></td>    \n",
       "</tr>\n",
       "</table>\n",
       "<table class=\"simpletable\">\n",
       "<caption>Parameter Estimates</caption>\n",
       "<tr>\n",
       "      <td></td>      <th>Parameter</th> <th>Std. Err.</th> <th>T-stat</th> <th>P-value</th> <th>Lower CI</th> <th>Upper CI</th>\n",
       "</tr>\n",
       "<tr>\n",
       "  <th>Intercept</th>  <td>80.031</td>    <td>9.2597</td>   <td>8.6429</td> <td>0.0000</td>   <td>61.632</td>   <td>98.430</td> \n",
       "</tr>\n",
       "<tr>\n",
       "  <th>t</th>          <td>13.487</td>    <td>4.4767</td>   <td>3.0128</td> <td>0.0034</td>   <td>4.5922</td>   <td>22.382</td> \n",
       "</tr>\n",
       "<tr>\n",
       "  <th>unem</th>       <td>1.7583</td>    <td>0.8077</td>   <td>2.1767</td> <td>0.0321</td>   <td>0.1533</td>   <td>3.3632</td> \n",
       "</tr>\n",
       "</table><br/>id: 0x198c37e36a0"
      ],
      "text/plain": [
       "                        RandomEffects Estimation Summary                        \n",
       "================================================================================\n",
       "Dep. Variable:                 crmrte   R-squared:                        0.0927\n",
       "Estimator:              RandomEffects   R-squared (Between):             -0.0320\n",
       "No. Observations:                  92   R-squared (Within):               0.1911\n",
       "Date:                Thu, Dec 01 2022   R-squared (Overall):             -0.0017\n",
       "Time:                        11:56:44   Log-likelihood                   -372.87\n",
       "Cov. Estimator:            Unadjusted                                           \n",
       "                                        F-statistic:                      4.5472\n",
       "Entities:                          46   P-value                           0.0132\n",
       "Avg Obs:                       2.0000   Distribution:                    F(2,89)\n",
       "Min Obs:                       2.0000                                           \n",
       "Max Obs:                       2.0000   F-statistic (robust):             4.5472\n",
       "                                        P-value                           0.0132\n",
       "Time periods:                       2   Distribution:                    F(2,89)\n",
       "Avg Obs:                       46.000                                           \n",
       "Min Obs:                       46.000                                           \n",
       "Max Obs:                       46.000                                           \n",
       "                                                                                \n",
       "                             Parameter Estimates                              \n",
       "==============================================================================\n",
       "            Parameter  Std. Err.     T-stat    P-value    Lower CI    Upper CI\n",
       "------------------------------------------------------------------------------\n",
       "Intercept      80.031     9.2597     8.6429     0.0000      61.632      98.430\n",
       "t              13.487     4.4767     3.0128     0.0034      4.5922      22.382\n",
       "unem           1.7583     0.8077     2.1767     0.0321      0.1533      3.3632\n",
       "==============================================================================\n",
       "RandomEffectsResults, id: 0x198c37e36a0"
      ]
     },
     "execution_count": 43,
     "metadata": {},
     "output_type": "execute_result"
    }
   ],
   "source": [
    "reg_re = plm.RandomEffects.from_formula(formula = 'crmrte ~ 1+ t  + unem', data = crime2).fit()\n",
    "reg_re"
   ]
  },
  {
   "cell_type": "markdown",
   "id": "897b5087",
   "metadata": {},
   "source": [
    "## Hauseman Test For Endogeneity"
   ]
  },
  {
   "cell_type": "markdown",
   "id": "a22e6d61",
   "metadata": {},
   "source": [
    "The random effects estimates aere reliable under the assumption that individual characteristics are exogenous (I.e. they are independent wrt to the resgressors). We have already used the Hausman test duruing the IV lecture to check for endogeneity, and it can be applied in this context as well. \n",
    "\n",
    "The null hypothesis of the test is that individual random effects are exogenous. The test compares the random and fixed effects models."
   ]
  },
  {
   "cell_type": "code",
   "execution_count": 45,
   "id": "2bd4dcb0",
   "metadata": {},
   "outputs": [],
   "source": [
    "ch3 = pd.read_csv(\"chemical3.csv\", parse_dates = True)\n",
    "ch3 = ch3.set_index([\"firm\", \"year\"])"
   ]
  },
  {
   "cell_type": "code",
   "execution_count": 47,
   "id": "ae69b46d",
   "metadata": {},
   "outputs": [],
   "source": [
    "reg_re = plm.RandomEffects.from_formula(formula = 'lsales ~ 1+ lcapital + llabor', data = ch3).fit()\n",
    "fe_fit = plm.PanelOLS.from_formula(formula = 'lsales ~ lcapital + llabor + EntityEffects', data = ch3, drop_absorbed = True).fit()\n"
   ]
  },
  {
   "cell_type": "code",
   "execution_count": 53,
   "id": "bda5e38a",
   "metadata": {},
   "outputs": [
    {
     "data": {
      "text/plain": [
       "(98.81660543073161, 2, 3.485353000599886e-22)"
      ]
     },
     "execution_count": 53,
     "metadata": {},
     "output_type": "execute_result"
    }
   ],
   "source": [
    "reg_re = plm.RandomEffects.from_formula(formula = 'crmrte ~ 1+ t  + unem', data = crime2).fit()\n",
    "fe_fit = plm.PanelOLS.from_formula(formula = 'crmrte ~ t+ unem + EntityEffects',\n",
    "                                   data = crime2, drop_absorbed = True).fit()"
   ]
  },
  {
   "cell_type": "code",
   "execution_count": 52,
   "id": "82c274cc",
   "metadata": {},
   "outputs": [],
   "source": [
    "def PnlHausman(fe_fit, re_fit):\n",
    "    # pull out the variances and parameters for test\n",
    "    Dcov = fe_fit.cov - re_fit.cov.iloc[1:, 1:]\n",
    "    dparams = fe_fit.params - re_fit.params[1:]\n",
    "    # get the test statistic\n",
    "    Chi2 = dparams.dot(np.linalg.inv(Dcov)).dot(dparams)\n",
    "    # calculate the degrees of freedom\n",
    "    dof = re_fit.params.size - 1\n",
    "    # calculate the p-value\n",
    "    pvalue = stats.chi2(dof).sf(Chi2)\n",
    "    return(Chi2, dof, pvalue)\n",
    "    "
   ]
  },
  {
   "cell_type": "code",
   "execution_count": 115,
   "id": "e4a0eef1",
   "metadata": {},
   "outputs": [
    {
     "data": {
      "text/plain": [
       "(1.7882988651011655, 2, 0.40895529481239756)"
      ]
     },
     "execution_count": 115,
     "metadata": {},
     "output_type": "execute_result"
    }
   ],
   "source": [
    "# We fail to reject the null hypothesis of exogeneity\n",
    "# Random effects may be appropriate\n",
    "PnlHausman(fe_fit, reg_re)"
   ]
  },
  {
   "cell_type": "markdown",
   "id": "384c56df",
   "metadata": {},
   "source": [
    "## LImited Dependent Variable Models}"
   ]
  },
  {
   "cell_type": "code",
   "execution_count": 119,
   "id": "95a04c5d",
   "metadata": {},
   "outputs": [],
   "source": [
    "# replace data\n",
    "data = pd.read_csv(\"transport.csv\")"
   ]
  },
  {
   "cell_type": "code",
   "execution_count": 121,
   "id": "abab82bf",
   "metadata": {},
   "outputs": [
    {
     "data": {
      "text/html": [
       "<div>\n",
       "<style scoped>\n",
       "    .dataframe tbody tr th:only-of-type {\n",
       "        vertical-align: middle;\n",
       "    }\n",
       "\n",
       "    .dataframe tbody tr th {\n",
       "        vertical-align: top;\n",
       "    }\n",
       "\n",
       "    .dataframe thead th {\n",
       "        text-align: right;\n",
       "    }\n",
       "</style>\n",
       "<table border=\"1\" class=\"dataframe\">\n",
       "  <thead>\n",
       "    <tr style=\"text-align: right;\">\n",
       "      <th></th>\n",
       "      <th>autotime</th>\n",
       "      <th>bustime</th>\n",
       "      <th>dtime</th>\n",
       "      <th>auto</th>\n",
       "    </tr>\n",
       "  </thead>\n",
       "  <tbody>\n",
       "    <tr>\n",
       "      <th>0</th>\n",
       "      <td>52.9</td>\n",
       "      <td>4.4</td>\n",
       "      <td>-4.85</td>\n",
       "      <td>0</td>\n",
       "    </tr>\n",
       "    <tr>\n",
       "      <th>1</th>\n",
       "      <td>4.1</td>\n",
       "      <td>28.5</td>\n",
       "      <td>2.44</td>\n",
       "      <td>0</td>\n",
       "    </tr>\n",
       "    <tr>\n",
       "      <th>2</th>\n",
       "      <td>4.1</td>\n",
       "      <td>86.9</td>\n",
       "      <td>8.28</td>\n",
       "      <td>1</td>\n",
       "    </tr>\n",
       "    <tr>\n",
       "      <th>3</th>\n",
       "      <td>56.2</td>\n",
       "      <td>31.6</td>\n",
       "      <td>-2.46</td>\n",
       "      <td>0</td>\n",
       "    </tr>\n",
       "    <tr>\n",
       "      <th>4</th>\n",
       "      <td>51.8</td>\n",
       "      <td>20.2</td>\n",
       "      <td>-3.16</td>\n",
       "      <td>0</td>\n",
       "    </tr>\n",
       "  </tbody>\n",
       "</table>\n",
       "</div>"
      ],
      "text/plain": [
       "   autotime  bustime  dtime  auto\n",
       "0      52.9      4.4  -4.85     0\n",
       "1       4.1     28.5   2.44     0\n",
       "2       4.1     86.9   8.28     1\n",
       "3      56.2     31.6  -2.46     0\n",
       "4      51.8     20.2  -3.16     0"
      ]
     },
     "execution_count": 121,
     "metadata": {},
     "output_type": "execute_result"
    }
   ],
   "source": [
    "data.head()"
   ]
  },
  {
   "cell_type": "markdown",
   "id": "9df8ec99",
   "metadata": {},
   "source": [
    "### Linear Probability Model"
   ]
  },
  {
   "cell_type": "code",
   "execution_count": 124,
   "id": "1792d60e",
   "metadata": {},
   "outputs": [
    {
     "data": {
      "text/html": [
       "<table class=\"simpletable\">\n",
       "<caption>OLS Regression Results</caption>\n",
       "<tr>\n",
       "  <th>Dep. Variable:</th>          <td>auto</td>       <th>  R-squared:         </th> <td>   0.611</td>\n",
       "</tr>\n",
       "<tr>\n",
       "  <th>Model:</th>                   <td>OLS</td>       <th>  Adj. R-squared:    </th> <td>   0.591</td>\n",
       "</tr>\n",
       "<tr>\n",
       "  <th>Method:</th>             <td>Least Squares</td>  <th>  F-statistic:       </th> <td>   29.88</td>\n",
       "</tr>\n",
       "<tr>\n",
       "  <th>Date:</th>             <td>Thu, 01 Dec 2022</td> <th>  Prob (F-statistic):</th> <td>2.83e-05</td>\n",
       "</tr>\n",
       "<tr>\n",
       "  <th>Time:</th>                 <td>18:55:58</td>     <th>  Log-Likelihood:    </th> <td> -5.2951</td>\n",
       "</tr>\n",
       "<tr>\n",
       "  <th>No. Observations:</th>      <td>    21</td>      <th>  AIC:               </th> <td>   14.59</td>\n",
       "</tr>\n",
       "<tr>\n",
       "  <th>Df Residuals:</th>          <td>    19</td>      <th>  BIC:               </th> <td>   16.68</td>\n",
       "</tr>\n",
       "<tr>\n",
       "  <th>Df Model:</th>              <td>     1</td>      <th>                     </th>     <td> </td>   \n",
       "</tr>\n",
       "<tr>\n",
       "  <th>Covariance Type:</th>      <td>nonrobust</td>    <th>                     </th>     <td> </td>   \n",
       "</tr>\n",
       "</table>\n",
       "<table class=\"simpletable\">\n",
       "<tr>\n",
       "      <td></td>         <th>coef</th>     <th>std err</th>      <th>t</th>      <th>P>|t|</th>  <th>[0.025</th>    <th>0.975]</th>  \n",
       "</tr>\n",
       "<tr>\n",
       "  <th>Intercept</th> <td>    0.4848</td> <td>    0.071</td> <td>    6.785</td> <td> 0.000</td> <td>    0.335</td> <td>    0.634</td>\n",
       "</tr>\n",
       "<tr>\n",
       "  <th>dtime</th>     <td>    0.0703</td> <td>    0.013</td> <td>    5.467</td> <td> 0.000</td> <td>    0.043</td> <td>    0.097</td>\n",
       "</tr>\n",
       "</table>\n",
       "<table class=\"simpletable\">\n",
       "<tr>\n",
       "  <th>Omnibus:</th>       <td> 2.283</td> <th>  Durbin-Watson:     </th> <td>   1.979</td>\n",
       "</tr>\n",
       "<tr>\n",
       "  <th>Prob(Omnibus):</th> <td> 0.319</td> <th>  Jarque-Bera (JB):  </th> <td>   0.807</td>\n",
       "</tr>\n",
       "<tr>\n",
       "  <th>Skew:</th>          <td> 0.293</td> <th>  Prob(JB):          </th> <td>   0.668</td>\n",
       "</tr>\n",
       "<tr>\n",
       "  <th>Kurtosis:</th>      <td> 3.761</td> <th>  Cond. No.          </th> <td>    5.56</td>\n",
       "</tr>\n",
       "</table><br/><br/>Notes:<br/>[1] Standard Errors assume that the covariance matrix of the errors is correctly specified."
      ],
      "text/plain": [
       "<class 'statsmodels.iolib.summary.Summary'>\n",
       "\"\"\"\n",
       "                            OLS Regression Results                            \n",
       "==============================================================================\n",
       "Dep. Variable:                   auto   R-squared:                       0.611\n",
       "Model:                            OLS   Adj. R-squared:                  0.591\n",
       "Method:                 Least Squares   F-statistic:                     29.88\n",
       "Date:                Thu, 01 Dec 2022   Prob (F-statistic):           2.83e-05\n",
       "Time:                        18:55:58   Log-Likelihood:                -5.2951\n",
       "No. Observations:                  21   AIC:                             14.59\n",
       "Df Residuals:                      19   BIC:                             16.68\n",
       "Df Model:                           1                                         \n",
       "Covariance Type:            nonrobust                                         \n",
       "==============================================================================\n",
       "                 coef    std err          t      P>|t|      [0.025      0.975]\n",
       "------------------------------------------------------------------------------\n",
       "Intercept      0.4848      0.071      6.785      0.000       0.335       0.634\n",
       "dtime          0.0703      0.013      5.467      0.000       0.043       0.097\n",
       "==============================================================================\n",
       "Omnibus:                        2.283   Durbin-Watson:                   1.979\n",
       "Prob(Omnibus):                  0.319   Jarque-Bera (JB):                0.807\n",
       "Skew:                           0.293   Prob(JB):                        0.668\n",
       "Kurtosis:                       3.761   Cond. No.                         5.56\n",
       "==============================================================================\n",
       "\n",
       "Notes:\n",
       "[1] Standard Errors assume that the covariance matrix of the errors is correctly specified.\n",
       "\"\"\""
      ]
     },
     "execution_count": 124,
     "metadata": {},
     "output_type": "execute_result"
    }
   ],
   "source": [
    "ols1 = smf.ols('auto ~ dtime', data).fit()\n",
    "ols1.summary()"
   ]
  },
  {
   "cell_type": "code",
   "execution_count": 125,
   "id": "16d94900",
   "metadata": {},
   "outputs": [
    {
     "data": {
      "text/plain": [
       "array([ 0.14379198,  0.65635127,  1.06696118,  0.31183268,  0.26261573,\n",
       "        1.12461531,  0.85110974, -0.1318229 ,  0.36526821,  0.122699  ,\n",
       "       -0.15291587,  0.94532502,  0.17543144,  0.43557813,  0.84759424,\n",
       "        0.7125992 ,  0.05027979,  0.72384879,  0.68095974, -0.02776422,\n",
       "        0.83564155])"
      ]
     },
     "execution_count": 125,
     "metadata": {},
     "output_type": "execute_result"
    }
   ],
   "source": [
    "ols1.fittedvalues.values "
   ]
  },
  {
   "cell_type": "code",
   "execution_count": 65,
   "id": "e30555d3",
   "metadata": {},
   "outputs": [
    {
     "data": {
      "text/plain": [
       "array([0, 1, 1, 0, 0, 1, 1, 0, 0, 0, 0, 1, 0, 0, 1, 1, 0, 1, 1, 0, 1])"
      ]
     },
     "execution_count": 65,
     "metadata": {},
     "output_type": "execute_result"
    }
   ],
   "source": [
    "# we can still assign them a value based on some cutoff\n",
    "np.where(ols1.fittedvalues >.5, 1, 0)"
   ]
  },
  {
   "cell_type": "markdown",
   "id": "493bf75e",
   "metadata": {},
   "source": [
    "### Logit "
   ]
  },
  {
   "cell_type": "code",
   "execution_count": 128,
   "id": "00d5f243",
   "metadata": {},
   "outputs": [
    {
     "name": "stdout",
     "output_type": "stream",
     "text": [
      "Optimization terminated successfully.\n",
      "         Current function value: 0.293621\n",
      "         Iterations 7\n"
     ]
    },
    {
     "data": {
      "text/html": [
       "<table class=\"simpletable\">\n",
       "<caption>Logit Regression Results</caption>\n",
       "<tr>\n",
       "  <th>Dep. Variable:</th>         <td>auto</td>       <th>  No. Observations:  </th>  <td>    21</td>  \n",
       "</tr>\n",
       "<tr>\n",
       "  <th>Model:</th>                 <td>Logit</td>      <th>  Df Residuals:      </th>  <td>    19</td>  \n",
       "</tr>\n",
       "<tr>\n",
       "  <th>Method:</th>                 <td>MLE</td>       <th>  Df Model:          </th>  <td>     1</td>  \n",
       "</tr>\n",
       "<tr>\n",
       "  <th>Date:</th>            <td>Thu, 01 Dec 2022</td> <th>  Pseudo R-squ.:     </th>  <td>0.5757</td>  \n",
       "</tr>\n",
       "<tr>\n",
       "  <th>Time:</th>                <td>19:19:13</td>     <th>  Log-Likelihood:    </th> <td> -6.1660</td> \n",
       "</tr>\n",
       "<tr>\n",
       "  <th>converged:</th>             <td>True</td>       <th>  LL-Null:           </th> <td> -14.532</td> \n",
       "</tr>\n",
       "<tr>\n",
       "  <th>Covariance Type:</th>     <td>nonrobust</td>    <th>  LLR p-value:       </th> <td>4.304e-05</td>\n",
       "</tr>\n",
       "</table>\n",
       "<table class=\"simpletable\">\n",
       "<tr>\n",
       "      <td></td>         <th>coef</th>     <th>std err</th>      <th>z</th>      <th>P>|z|</th>  <th>[0.025</th>    <th>0.975]</th>  \n",
       "</tr>\n",
       "<tr>\n",
       "  <th>Intercept</th> <td>   -0.2376</td> <td>    0.750</td> <td>   -0.317</td> <td> 0.752</td> <td>   -1.708</td> <td>    1.233</td>\n",
       "</tr>\n",
       "<tr>\n",
       "  <th>dtime</th>     <td>    0.5311</td> <td>    0.206</td> <td>    2.573</td> <td> 0.010</td> <td>    0.127</td> <td>    0.936</td>\n",
       "</tr>\n",
       "</table>"
      ],
      "text/plain": [
       "<class 'statsmodels.iolib.summary.Summary'>\n",
       "\"\"\"\n",
       "                           Logit Regression Results                           \n",
       "==============================================================================\n",
       "Dep. Variable:                   auto   No. Observations:                   21\n",
       "Model:                          Logit   Df Residuals:                       19\n",
       "Method:                           MLE   Df Model:                            1\n",
       "Date:                Thu, 01 Dec 2022   Pseudo R-squ.:                  0.5757\n",
       "Time:                        19:19:13   Log-Likelihood:                -6.1660\n",
       "converged:                       True   LL-Null:                       -14.532\n",
       "Covariance Type:            nonrobust   LLR p-value:                 4.304e-05\n",
       "==============================================================================\n",
       "                 coef    std err          z      P>|z|      [0.025      0.975]\n",
       "------------------------------------------------------------------------------\n",
       "Intercept     -0.2376      0.750     -0.317      0.752      -1.708       1.233\n",
       "dtime          0.5311      0.206      2.573      0.010       0.127       0.936\n",
       "==============================================================================\n",
       "\"\"\""
      ]
     },
     "execution_count": 128,
     "metadata": {},
     "output_type": "execute_result"
    }
   ],
   "source": [
    "logit = smf.logit('auto ~ dtime', data).fit()\n",
    "logit.summary()"
   ]
  },
  {
   "cell_type": "markdown",
   "id": "64465963",
   "metadata": {},
   "source": [
    "Interpretation of the coefficients"
   ]
  },
  {
   "cell_type": "markdown",
   "id": "0199f22f",
   "metadata": {},
   "source": [
    "### Probit"
   ]
  },
  {
   "cell_type": "code",
   "execution_count": 129,
   "id": "5efc47b4",
   "metadata": {
    "scrolled": false
   },
   "outputs": [
    {
     "data": {
      "text/html": [
       "<table class=\"simpletable\">\n",
       "<caption>Probit Regression Results</caption>\n",
       "<tr>\n",
       "  <th>Dep. Variable:</th>         <td>auto</td>       <th>  No. Observations:  </th>  <td>    21</td>  \n",
       "</tr>\n",
       "<tr>\n",
       "  <th>Model:</th>                <td>Probit</td>      <th>  Df Residuals:      </th>  <td>    19</td>  \n",
       "</tr>\n",
       "<tr>\n",
       "  <th>Method:</th>                 <td>MLE</td>       <th>  Df Model:          </th>  <td>     1</td>  \n",
       "</tr>\n",
       "<tr>\n",
       "  <th>Date:</th>            <td>Thu, 01 Dec 2022</td> <th>  Pseudo R-squ.:     </th>  <td>0.5758</td>  \n",
       "</tr>\n",
       "<tr>\n",
       "  <th>Time:</th>                <td>19:19:14</td>     <th>  Log-Likelihood:    </th> <td> -6.1652</td> \n",
       "</tr>\n",
       "<tr>\n",
       "  <th>converged:</th>             <td>True</td>       <th>  LL-Null:           </th> <td> -14.532</td> \n",
       "</tr>\n",
       "<tr>\n",
       "  <th>Covariance Type:</th>     <td>nonrobust</td>    <th>  LLR p-value:       </th> <td>4.300e-05</td>\n",
       "</tr>\n",
       "</table>\n",
       "<table class=\"simpletable\">\n",
       "<tr>\n",
       "      <td></td>         <th>coef</th>     <th>std err</th>      <th>z</th>      <th>P>|z|</th>  <th>[0.025</th>    <th>0.975]</th>  \n",
       "</tr>\n",
       "<tr>\n",
       "  <th>Intercept</th> <td>   -0.0644</td> <td>    0.399</td> <td>   -0.161</td> <td> 0.872</td> <td>   -0.847</td> <td>    0.718</td>\n",
       "</tr>\n",
       "<tr>\n",
       "  <th>dtime</th>     <td>    0.3000</td> <td>    0.103</td> <td>    2.916</td> <td> 0.004</td> <td>    0.098</td> <td>    0.502</td>\n",
       "</tr>\n",
       "</table>"
      ],
      "text/plain": [
       "<class 'statsmodels.iolib.summary.Summary'>\n",
       "\"\"\"\n",
       "                          Probit Regression Results                           \n",
       "==============================================================================\n",
       "Dep. Variable:                   auto   No. Observations:                   21\n",
       "Model:                         Probit   Df Residuals:                       19\n",
       "Method:                           MLE   Df Model:                            1\n",
       "Date:                Thu, 01 Dec 2022   Pseudo R-squ.:                  0.5758\n",
       "Time:                        19:19:14   Log-Likelihood:                -6.1652\n",
       "converged:                       True   LL-Null:                       -14.532\n",
       "Covariance Type:            nonrobust   LLR p-value:                 4.300e-05\n",
       "==============================================================================\n",
       "                 coef    std err          z      P>|z|      [0.025      0.975]\n",
       "------------------------------------------------------------------------------\n",
       "Intercept     -0.0644      0.399     -0.161      0.872      -0.847       0.718\n",
       "dtime          0.3000      0.103      2.916      0.004       0.098       0.502\n",
       "==============================================================================\n",
       "\"\"\""
      ]
     },
     "execution_count": 129,
     "metadata": {},
     "output_type": "execute_result"
    }
   ],
   "source": [
    "probit1 = smf.probit('auto ~ dtime', data).fit(disp = 0)\n",
    "probit1.summary()"
   ]
  },
  {
   "cell_type": "markdown",
   "id": "498c04e6",
   "metadata": {},
   "source": [
    "### Probit and Logit Coefficient Interpretations"
   ]
  },
  {
   "cell_type": "code",
   "execution_count": 143,
   "id": "1c24c832",
   "metadata": {},
   "outputs": [
    {
     "data": {
      "text/plain": [
       "0.5310982746578312"
      ]
     },
     "execution_count": 143,
     "metadata": {},
     "output_type": "execute_result"
    }
   ],
   "source": [
    "\n",
    "logit.params[1]"
   ]
  },
  {
   "cell_type": "code",
   "execution_count": 154,
   "id": "2917628a",
   "metadata": {},
   "outputs": [
    {
     "name": "stdout",
     "output_type": "stream",
     "text": [
      "The approximate change in the probability that someone will commute in a car at -2.8134020769391905 is 0.02836075171600828\n"
     ]
    }
   ],
   "source": [
    "beta_j = logit.params[1]\n",
    "linear = logit.fittedvalues[0]\n",
    "partial= logit.params[1]*stats.logistic.pdf(linear)\n",
    "\n",
    "# the partial effect of x_j on y changes depending on the values of the other regressors\n",
    "print(\"The approximate change in the probability that someone will commute in a car at \" + \n",
    "      str(linear), \"is \" + str(partial))"
   ]
  },
  {
   "cell_type": "code",
   "execution_count": 155,
   "id": "acd485bd",
   "metadata": {},
   "outputs": [
    {
     "name": "stdout",
     "output_type": "stream",
     "text": [
      "The approximate change in the probability that someone will commute in a car at 4.1599182693181325 is 0.008036971009232381\n"
     ]
    }
   ],
   "source": [
    "beta_j = logit.params[1]\n",
    "linear = logit.fittedvalues[2]\n",
    "partial= logit.params[1]*stats.logistic.pdf(linear)\n",
    "\n",
    "# Note that the increase in probability is much smaller\n",
    "print(\"The approximate change in the probability that someone will commute in a car at \" + \n",
    "      str(linear), \"is \" + str(partial))"
   ]
  },
  {
   "cell_type": "code",
   "execution_count": 191,
   "id": "d790d388",
   "metadata": {},
   "outputs": [
    {
     "name": "stdout",
     "output_type": "stream",
     "text": [
      "Logistic APE:  Intercept   -0.058055\n",
      "dtime        0.129781\n",
      "dtype: float64 Probit PEA:  Intercept   -0.025574\n",
      "dtime        0.119068\n",
      "dtype: float64\n"
     ]
    }
   ],
   "source": [
    "logit_pea = logit.params*stats.logistic.pdf(logit.params[0] + logit.params[1]*data.dtime.mean())\n",
    "probit_pea = probit1.params*stats.norm.pdf(probit1.params[0] + probit1.params[1]*data.dtime.mean())\n",
    "\n",
    "print(\"Logistic APE: \", logit_pea, \"Probit PEA: \", probit_pea)"
   ]
  },
  {
   "cell_type": "code",
   "execution_count": 192,
   "id": "169e37ea",
   "metadata": {
    "scrolled": true
   },
   "outputs": [
    {
     "name": "stdout",
     "output_type": "stream",
     "text": [
      "Probit APE:  Intercept   -0.010397\n",
      "dtime        0.048407\n",
      "dtype: float64 Probit PEA:  Intercept   -0.020646\n",
      "dtime        0.046154\n",
      "dtype: float64\n"
     ]
    }
   ],
   "source": [
    "probit_ape = probit1.params*stats.norm.pdf(probit1.fittedvalues).mean()\n",
    "logit_ape = logit.params*stats.logistic.pdf(logit.fittedvalues).mean()\n",
    "\n",
    "print(\"Probit APE: \", probit_ape, \"Probit PEA: \", logit_ape)"
   ]
  },
  {
   "cell_type": "markdown",
   "id": "048b83e0",
   "metadata": {},
   "source": [
    "## Marginal Effects (Automatically calculate the APE)"
   ]
  },
  {
   "cell_type": "code",
   "execution_count": 189,
   "id": "d6237861",
   "metadata": {},
   "outputs": [
    {
     "data": {
      "text/plain": [
       "array([0.04840694])"
      ]
     },
     "execution_count": 189,
     "metadata": {},
     "output_type": "execute_result"
    }
   ],
   "source": [
    "probit1.get_margeff().margeff"
   ]
  },
  {
   "cell_type": "code",
   "execution_count": 190,
   "id": "b140b656",
   "metadata": {
    "scrolled": true
   },
   "outputs": [
    {
     "data": {
      "text/plain": [
       "array([0.04615397])"
      ]
     },
     "execution_count": 190,
     "metadata": {},
     "output_type": "execute_result"
    }
   ],
   "source": [
    "logit.get_margeff().margeff"
   ]
  },
  {
   "cell_type": "markdown",
   "id": "d3e9d3c2",
   "metadata": {},
   "source": [
    "### Probit and Logit Prediction"
   ]
  },
  {
   "cell_type": "markdown",
   "id": "f0dd6d3c",
   "metadata": {},
   "source": [
    "$$P(y= 1|x) = G(\\beta_0 +\\beta_1 x_1 +...+\\beta_k x_k)$$\n",
    "\n",
    "- where $G(z)=\\frac{exp(z)}{1+exp(z)}$ for logit models\n",
    "- where $G(z)=\\frac{1}{\\sqrt{2 \\pi}}e^{-\\frac{1}{2}({z})^2}$ for for probit models (is the standard normal cdf)\n",
    "\n",
    "There are three separate prediction methods to be aware of for fitted logit and probit models:\n",
    "\n",
    "- results.fittedvalues gives $x_i\\hat{\\beta}$. Note that these are not probabilities, but the linear part of the model before it is transformed by the link function.\n",
    "- results.predict() gives $G(x_i\\hat{\\beta})$ which are the probabilities for the fitted values of the function. \n",
    "- results.predict(newdata) gives $G(x_i\\hat{\\beta})$ which are the probabilities for new data from the function. \n"
   ]
  },
  {
   "cell_type": "markdown",
   "id": "24af59cf",
   "metadata": {},
   "source": [
    "### Logit prediction "
   ]
  },
  {
   "cell_type": "code",
   "execution_count": 132,
   "id": "49201fee",
   "metadata": {},
   "outputs": [
    {
     "name": "stdout",
     "output_type": "stream",
     "text": [
      "-5.054636795995239\n",
      "4.595418854537554\n"
     ]
    }
   ],
   "source": [
    "# below we have the fitetd values from the logit model\n",
    "# note these are not probabilities\n",
    "print(logit.fittedvalues.min())\n",
    "print(logit.fittedvalues.max())"
   ]
  },
  {
   "cell_type": "code",
   "execution_count": 133,
   "id": "6a89a681",
   "metadata": {
    "scrolled": true
   },
   "outputs": [
    {
     "data": {
      "text/plain": [
       "0     0.056604\n",
       "1     0.742366\n",
       "2     0.984631\n",
       "3     0.175943\n",
       "4     0.128326\n",
       "5     0.990003\n",
       "6     0.926181\n",
       "7     0.007426\n",
       "8     0.242239\n",
       "9     0.048673\n",
       "10    0.006339\n",
       "11    0.962353\n",
       "12    0.070804\n",
       "13    0.352209\n",
       "14    0.924344\n",
       "15    0.815053\n",
       "16    0.028755\n",
       "17    0.827521\n",
       "18    0.776292\n",
       "19    0.016154\n",
       "20    0.917783\n",
       "dtype: float64"
      ]
     },
     "execution_count": 133,
     "metadata": {},
     "output_type": "execute_result"
    }
   ],
   "source": [
    "# we can plug the fitted values into the link function to get probabilities\n",
    "(np.exp(logit.fittedvalues)/(1+np.exp(logit.fittedvalues)))"
   ]
  },
  {
   "cell_type": "code",
   "execution_count": 134,
   "id": "8943c889",
   "metadata": {
    "scrolled": true
   },
   "outputs": [
    {
     "data": {
      "text/plain": [
       "array([0.05660423, 0.74236637, 0.98463106, 0.17594335, 0.12832551,\n",
       "       0.99000296, 0.92618052, 0.00742605, 0.24223912, 0.04867308,\n",
       "       0.00633924, 0.96235264, 0.07080376, 0.3522088 , 0.92434429,\n",
       "       0.81505287, 0.02875512, 0.82752096, 0.77629228, 0.01615431,\n",
       "       0.91778346])"
      ]
     },
     "execution_count": 134,
     "metadata": {},
     "output_type": "execute_result"
    }
   ],
   "source": [
    "logit.predict() "
   ]
  },
  {
   "cell_type": "code",
   "execution_count": 160,
   "id": "40c53f46",
   "metadata": {},
   "outputs": [],
   "source": [
    "# create some new values to predict with the same \n",
    "# regressor names\n",
    "newdata = pd.DataFrame([-1,2,3,4], columns = [\"dtime\"])"
   ]
  },
  {
   "cell_type": "code",
   "execution_count": 161,
   "id": "8fd33c8e",
   "metadata": {},
   "outputs": [
    {
     "data": {
      "text/plain": [
       "0    0.316766\n",
       "1    0.695216\n",
       "2    0.795063\n",
       "3    0.868392\n",
       "dtype: float64"
      ]
     },
     "execution_count": 161,
     "metadata": {},
     "output_type": "execute_result"
    }
   ],
   "source": [
    "logit.predict(newdata) "
   ]
  },
  {
   "cell_type": "code",
   "execution_count": 162,
   "id": "e1cc270a",
   "metadata": {},
   "outputs": [
    {
     "data": {
      "text/plain": [
       "array([ True,  True,  True,  True,  True,  True,  True,  True,  True,\n",
       "        True,  True,  True,  True,  True,  True,  True,  True,  True,\n",
       "        True,  True])"
      ]
     },
     "execution_count": 162,
     "metadata": {},
     "output_type": "execute_result"
    }
   ],
   "source": [
    "np.isclose((np.exp(logit.fittedvalues)/(1+np.exp(logit.fittedvalues))), logit.predict())[:20]"
   ]
  },
  {
   "cell_type": "markdown",
   "id": "df2a11c7",
   "metadata": {},
   "source": [
    "### Probit Prediction"
   ]
  },
  {
   "cell_type": "code",
   "execution_count": 34,
   "id": "0b005066",
   "metadata": {
    "scrolled": true
   },
   "outputs": [
    {
     "data": {
      "text/plain": [
       "array([0.61478336, 0.57195901, 0.60921791, 0.6348224 , 0.56892911,\n",
       "       0.61993933, 0.62339582, 0.61483263, 0.58300447, 0.60484237])"
      ]
     },
     "execution_count": 34,
     "metadata": {},
     "output_type": "execute_result"
    }
   ],
   "source": [
    "import scipy.stats as stats\n",
    "\n",
    "# convert to probabilities\n",
    "stats.norm.cdf(probit1.fittedvalues)[:10]"
   ]
  },
  {
   "cell_type": "code",
   "execution_count": 35,
   "id": "edc10b1a",
   "metadata": {},
   "outputs": [
    {
     "data": {
      "text/plain": [
       "array([0.61478336, 0.57195901, 0.60921791, 0.6348224 , 0.56892911,\n",
       "       0.61993933, 0.62339582, 0.61483263, 0.58300447, 0.60484237])"
      ]
     },
     "execution_count": 35,
     "metadata": {},
     "output_type": "execute_result"
    }
   ],
   "source": [
    "# get the probabilities for teh fitted values\n",
    "probit1.predict()[:10]"
   ]
  },
  {
   "cell_type": "code",
   "execution_count": 163,
   "id": "44771f3a",
   "metadata": {},
   "outputs": [
    {
     "data": {
      "text/plain": [
       "0    0.357771\n",
       "1    0.703864\n",
       "2    0.798292\n",
       "3    0.871922\n",
       "dtype: float64"
      ]
     },
     "execution_count": 163,
     "metadata": {},
     "output_type": "execute_result"
    }
   ],
   "source": [
    "# predict new values\n",
    "probit1.predict(newdata)"
   ]
  },
  {
   "cell_type": "code",
   "execution_count": 164,
   "id": "62c8a622",
   "metadata": {},
   "outputs": [
    {
     "data": {
      "text/plain": [
       "array([0, 1, 1, 1])"
      ]
     },
     "execution_count": 164,
     "metadata": {},
     "output_type": "execute_result"
    }
   ],
   "source": [
    "# Set a threshold where we will predict 1 if the probability is greater than .5\n",
    "np.where(probit1.predict(newdata) >.5, 1, 0)"
   ]
  },
  {
   "cell_type": "markdown",
   "id": "331bb74e",
   "metadata": {},
   "source": [
    "### Confusion Matrix"
   ]
  },
  {
   "cell_type": "code",
   "execution_count": 181,
   "id": "830eb17e",
   "metadata": {},
   "outputs": [
    {
     "data": {
      "text/plain": [
       "array([[10,  1],\n",
       "       [ 1,  9]], dtype=int64)"
      ]
     },
     "execution_count": 181,
     "metadata": {},
     "output_type": "execute_result"
    }
   ],
   "source": [
    "from sklearn.metrics import confusion_matrix\n",
    "predictions = np.where(logit.predict() > .5, 1, 0)\n",
    "cm = confusion_matrix(actual, predictions)\\\n",
    "actual = data.auto\n",
    "cm"
   ]
  },
  {
   "cell_type": "code",
   "execution_count": 188,
   "id": "d45af4f5",
   "metadata": {},
   "outputs": [
    {
     "data": {
      "image/png": "[encoded data removed]",
      "text/plain": [
       "<Figure size 504x360 with 2 Axes>"
      ]
     },
     "metadata": {
      "needs_background": "light"
     },
     "output_type": "display_data"
    }
   ],
   "source": [
    "import seaborn as sn\n",
    "plt.figure(figsize = (7,5))\n",
    "sn.heatmap(cm, annot=True)\n",
    "plt.xlabel(\"Predicted Label\")\n",
    "plt.ylabel(\"True Label\")\n",
    "plt.show()"
   ]
  },
  {
   "cell_type": "code",
   "execution_count": null,
   "id": "aec1f239",
   "metadata": {},
   "outputs": [],
   "source": [
    "def "
   ]
  },
  {
   "cell_type": "markdown",
   "id": "98198b41",
   "metadata": {},
   "source": [
    "### Multinomial Logit"
   ]
  },
  {
   "cell_type": "code",
   "execution_count": 193,
   "id": "4303de4f",
   "metadata": {},
   "outputs": [],
   "source": [
    "nels = pd.read_csv(\"nels.csv\")\n"
   ]
  },
  {
   "cell_type": "code",
   "execution_count": 194,
   "id": "6cce914c",
   "metadata": {},
   "outputs": [],
   "source": [
    "results_mn = smf.mnlogit('psechoice ~ grades', nels).fit(disp = 0)"
   ]
  },
  {
   "cell_type": "code",
   "execution_count": 73,
   "id": "3d235853",
   "metadata": {},
   "outputs": [
    {
     "data": {
      "text/html": [
       "<table class=\"simpletable\">\n",
       "<caption>MNLogit Regression Results</caption>\n",
       "<tr>\n",
       "  <th>Dep. Variable:</th>       <td>psechoice</td>    <th>  No. Observations:  </th>  <td>  6649</td> \n",
       "</tr>\n",
       "<tr>\n",
       "  <th>Model:</th>                <td>MNLogit</td>     <th>  Df Residuals:      </th>  <td>  6645</td> \n",
       "</tr>\n",
       "<tr>\n",
       "  <th>Method:</th>                 <td>MLE</td>       <th>  Df Model:          </th>  <td>     2</td> \n",
       "</tr>\n",
       "<tr>\n",
       "  <th>Date:</th>            <td>Wed, 30 Nov 2022</td> <th>  Pseudo R-squ.:     </th>  <td>0.1360</td> \n",
       "</tr>\n",
       "<tr>\n",
       "  <th>Time:</th>                <td>16:35:10</td>     <th>  Log-Likelihood:    </th> <td> -5869.6</td>\n",
       "</tr>\n",
       "<tr>\n",
       "  <th>converged:</th>             <td>True</td>       <th>  LL-Null:           </th> <td> -6793.2</td>\n",
       "</tr>\n",
       "<tr>\n",
       "  <th>Covariance Type:</th>     <td>nonrobust</td>    <th>  LLR p-value:       </th>  <td> 0.000</td> \n",
       "</tr>\n",
       "</table>\n",
       "<table class=\"simpletable\">\n",
       "<tr>\n",
       "  <th>psechoice=2</th>    <th>coef</th>     <th>std err</th>      <th>z</th>      <th>P>|z|</th>  <th>[0.025</th>    <th>0.975]</th>  \n",
       "</tr>\n",
       "<tr>\n",
       "  <th>Intercept</th>   <td>    2.5015</td> <td>    0.157</td> <td>   15.955</td> <td> 0.000</td> <td>    2.194</td> <td>    2.809</td>\n",
       "</tr>\n",
       "<tr>\n",
       "  <th>grades</th>      <td>   -0.2945</td> <td>    0.020</td> <td>  -14.938</td> <td> 0.000</td> <td>   -0.333</td> <td>   -0.256</td>\n",
       "</tr>\n",
       "<tr>\n",
       "  <th>psechoice=3</th>    <th>coef</th>     <th>std err</th>      <th>z</th>      <th>P>|z|</th>  <th>[0.025</th>    <th>0.975]</th>  \n",
       "</tr>\n",
       "<tr>\n",
       "  <th>Intercept</th>   <td>    5.6268</td> <td>    0.153</td> <td>   36.794</td> <td> 0.000</td> <td>    5.327</td> <td>    5.927</td>\n",
       "</tr>\n",
       "<tr>\n",
       "  <th>grades</th>      <td>   -0.6910</td> <td>    0.020</td> <td>  -34.141</td> <td> 0.000</td> <td>   -0.731</td> <td>   -0.651</td>\n",
       "</tr>\n",
       "</table>"
      ],
      "text/plain": [
       "<class 'statsmodels.iolib.summary.Summary'>\n",
       "\"\"\"\n",
       "                          MNLogit Regression Results                          \n",
       "==============================================================================\n",
       "Dep. Variable:              psechoice   No. Observations:                 6649\n",
       "Model:                        MNLogit   Df Residuals:                     6645\n",
       "Method:                           MLE   Df Model:                            2\n",
       "Date:                Wed, 30 Nov 2022   Pseudo R-squ.:                  0.1360\n",
       "Time:                        16:35:10   Log-Likelihood:                -5869.6\n",
       "converged:                       True   LL-Null:                       -6793.2\n",
       "Covariance Type:            nonrobust   LLR p-value:                     0.000\n",
       "===============================================================================\n",
       "psechoice=2       coef    std err          z      P>|z|      [0.025      0.975]\n",
       "-------------------------------------------------------------------------------\n",
       "Intercept       2.5015      0.157     15.955      0.000       2.194       2.809\n",
       "grades         -0.2945      0.020    -14.938      0.000      -0.333      -0.256\n",
       "-------------------------------------------------------------------------------\n",
       "psechoice=3       coef    std err          z      P>|z|      [0.025      0.975]\n",
       "-------------------------------------------------------------------------------\n",
       "Intercept       5.6268      0.153     36.794      0.000       5.327       5.927\n",
       "grades         -0.6910      0.020    -34.141      0.000      -0.731      -0.651\n",
       "===============================================================================\n",
       "\"\"\""
      ]
     },
     "execution_count": 73,
     "metadata": {},
     "output_type": "execute_result"
    }
   ],
   "source": [
    "results_mn.summary()"
   ]
  },
  {
   "cell_type": "code",
   "execution_count": 205,
   "id": "8788f75c",
   "metadata": {},
   "outputs": [],
   "source": [
    "me = results_mn.get_margeff(at =  'overall', method = 'dydx')"
   ]
  },
  {
   "cell_type": "code",
   "execution_count": 206,
   "id": "4269700b",
   "metadata": {},
   "outputs": [
    {
     "data": {
      "text/html": [
       "<div>\n",
       "<style scoped>\n",
       "    .dataframe tbody tr th:only-of-type {\n",
       "        vertical-align: middle;\n",
       "    }\n",
       "\n",
       "    .dataframe tbody tr th {\n",
       "        vertical-align: top;\n",
       "    }\n",
       "\n",
       "    .dataframe thead th {\n",
       "        text-align: right;\n",
       "    }\n",
       "</style>\n",
       "<table border=\"1\" class=\"dataframe\">\n",
       "  <thead>\n",
       "    <tr style=\"text-align: right;\">\n",
       "      <th></th>\n",
       "      <th></th>\n",
       "      <th>dy/dx</th>\n",
       "      <th>Std. Err.</th>\n",
       "      <th>z</th>\n",
       "      <th>Pr(&gt;|z|)</th>\n",
       "      <th>Conf. Int. Low</th>\n",
       "      <th>Cont. Int. Hi.</th>\n",
       "    </tr>\n",
       "    <tr>\n",
       "      <th>endog</th>\n",
       "      <th>exog</th>\n",
       "      <th></th>\n",
       "      <th></th>\n",
       "      <th></th>\n",
       "      <th></th>\n",
       "      <th></th>\n",
       "      <th></th>\n",
       "    </tr>\n",
       "  </thead>\n",
       "  <tbody>\n",
       "    <tr>\n",
       "      <th>psechoice=1</th>\n",
       "      <th>grades</th>\n",
       "      <td>0.069040</td>\n",
       "      <td>0.001969</td>\n",
       "      <td>35.064846</td>\n",
       "      <td>2.316117e-269</td>\n",
       "      <td>0.065181</td>\n",
       "      <td>0.072899</td>\n",
       "    </tr>\n",
       "    <tr>\n",
       "      <th>psechoice=2</th>\n",
       "      <th>grades</th>\n",
       "      <td>0.028805</td>\n",
       "      <td>0.002102</td>\n",
       "      <td>13.702720</td>\n",
       "      <td>9.779134e-43</td>\n",
       "      <td>0.024685</td>\n",
       "      <td>0.032925</td>\n",
       "    </tr>\n",
       "    <tr>\n",
       "      <th>psechoice=3</th>\n",
       "      <th>grades</th>\n",
       "      <td>-0.097845</td>\n",
       "      <td>0.001671</td>\n",
       "      <td>-58.537530</td>\n",
       "      <td>0.000000e+00</td>\n",
       "      <td>-0.101121</td>\n",
       "      <td>-0.094569</td>\n",
       "    </tr>\n",
       "  </tbody>\n",
       "</table>\n",
       "</div>"
      ],
      "text/plain": [
       "                       dy/dx  Std. Err.          z       Pr(>|z|)  \\\n",
       "endog       exog                                                    \n",
       "psechoice=1 grades  0.069040   0.001969  35.064846  2.316117e-269   \n",
       "psechoice=2 grades  0.028805   0.002102  13.702720   9.779134e-43   \n",
       "psechoice=3 grades -0.097845   0.001671 -58.537530   0.000000e+00   \n",
       "\n",
       "                    Conf. Int. Low  Cont. Int. Hi.  \n",
       "endog       exog                                    \n",
       "psechoice=1 grades        0.065181        0.072899  \n",
       "psechoice=2 grades        0.024685        0.032925  \n",
       "psechoice=3 grades       -0.101121       -0.094569  "
      ]
     },
     "execution_count": 206,
     "metadata": {},
     "output_type": "execute_result"
    }
   ],
   "source": [
    "# get the APE of the predictors for each level\n",
    "# hypothesis test are automatically computed\n",
    "me.summary_frame()"
   ]
  },
  {
   "cell_type": "code",
   "execution_count": 219,
   "id": "03bade11",
   "metadata": {},
   "outputs": [
    {
     "data": {
      "text/plain": [
       "array([[0.42276441, 0.35590784, 0.22132775],\n",
       "       [0.33928751, 0.3583217 , 0.30239078],\n",
       "       [0.24869707, 0.34134015, 0.40996277]])"
      ]
     },
     "execution_count": 219,
     "metadata": {},
     "output_type": "execute_result"
    }
   ],
   "source": [
    "# each colyumn represents the prbability y takes a given value\n",
    "results_mn.predict()[:3]"
   ]
  },
  {
   "cell_type": "code",
   "execution_count": 216,
   "id": "dde6ea7d",
   "metadata": {},
   "outputs": [
    {
     "data": {
      "text/plain": [
       "array([0, 1, 2, 2, 2, 2, 0, 0, 0, 2], dtype=int64)"
      ]
     },
     "execution_count": 216,
     "metadata": {},
     "output_type": "execute_result"
    }
   ],
   "source": [
    "results_mn.predict().argmax(axis = 1)[:10]"
   ]
  },
  {
   "cell_type": "code",
   "execution_count": null,
   "id": "ee3bc2ad",
   "metadata": {},
   "outputs": [],
   "source": []
  }
 ],
 "metadata": {
  "kernelspec": {
   "display_name": "Python 3 (ipykernel)",
   "language": "python",
   "name": "python3"
  },
  "language_info": {
   "codemirror_mode": {
    "name": "ipython",
    "version": 3
   },
   "file_extension": ".py",
   "mimetype": "text/x-python",
   "name": "python",
   "nbconvert_exporter": "python",
   "pygments_lexer": "ipython3",
   "version": "3.9.12"
  },
  "toc": {
   "base_numbering": 1,
   "nav_menu": {},
   "number_sections": true,
   "sideBar": true,
   "skip_h1_title": false,
   "title_cell": "Table of Contents",
   "title_sidebar": "Contents",
   "toc_cell": false,
   "toc_position": {},
   "toc_section_display": true,
   "toc_window_display": false
  }
 },
 "nbformat": 4,
 "nbformat_minor": 5
}

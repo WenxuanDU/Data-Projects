{
 "cells": [
  {
   "cell_type": "code",
   "execution_count": 1,
   "id": "dc46e530",
   "metadata": {},
   "outputs": [],
   "source": [
    "# Load Modules and Functions\n",
    "import statsmodels.api as sm\n",
    "import statsmodels as sms\n",
    "import seaborn as sns\n",
    "import statsmodels.formula.api as smf\n",
    "import numpy as np\n",
    "import pandas as pd\n",
    "import matplotlib.pyplot as plt\n",
    "import wooldridge as woo"
   ]
  },
  {
   "cell_type": "markdown",
   "id": "72f6934c",
   "metadata": {},
   "source": [
    "Creating synthetic dataset"
   ]
  },
  {
   "cell_type": "code",
   "execution_count": 2,
   "id": "99313334",
   "metadata": {},
   "outputs": [],
   "source": [
    "# create synthatic data with two different meaned groups\n",
    "# The first thousand observations will be the control and the second thousand are the treatment\n",
    "heights = np.append(np.random.normal(69, 3, 1000), np.random.normal(69.5, 3, 1000))"
   ]
  },
  {
   "cell_type": "code",
   "execution_count": 3,
   "id": "6609c792",
   "metadata": {},
   "outputs": [],
   "source": [
    "# Build Dataframe\n",
    "height_data = pd.DataFrame([heights]).T\n",
    "height_data.columns =[\"Height\"]\n",
    "\n",
    "# Assign the treatment and control groups an indicator variable\n",
    "height_data[\"Milk_Group\"] = 0\n",
    "height_data.loc[1000: ,\"Milk_Group\"]= 1"
   ]
  },
  {
   "cell_type": "code",
   "execution_count": 4,
   "id": "1cf3bdff",
   "metadata": {},
   "outputs": [
    {
     "data": {
      "image/png": "[encoded data removed]",
      "text/plain": [
       "<Figure size 432x288 with 1 Axes>"
      ]
     },
     "metadata": {
      "needs_background": "light"
     },
     "output_type": "display_data"
    }
   ],
   "source": [
    "sns.boxplot(y = \"Height\", x = \"Milk_Group\", data = height_data)\n",
    "plt.show()"
   ]
  },
  {
   "cell_type": "markdown",
   "id": "004b994b",
   "metadata": {},
   "source": [
    "# Estimate Treatment effect"
   ]
  },
  {
   "cell_type": "markdown",
   "id": "6207f410",
   "metadata": {},
   "source": [
    "Here we assume that the groups have been completely randomly assigned."
   ]
  },
  {
   "cell_type": "markdown",
   "id": "700f6d59",
   "metadata": {},
   "source": [
    "$$height_i = \\beta_1 + \\beta_2 d_i + e_i= \\beta_0 + \\beta_1 milk_i + e_i$$"
   ]
  },
  {
   "cell_type": "code",
   "execution_count": 5,
   "id": "d49b9f10",
   "metadata": {},
   "outputs": [
    {
     "data": {
      "text/html": [
       "<table class=\"simpletable\">\n",
       "<caption>OLS Regression Results</caption>\n",
       "<tr>\n",
       "  <th>Dep. Variable:</th>         <td>Height</td>      <th>  R-squared:         </th> <td>   0.005</td> \n",
       "</tr>\n",
       "<tr>\n",
       "  <th>Model:</th>                   <td>OLS</td>       <th>  Adj. R-squared:    </th> <td>   0.005</td> \n",
       "</tr>\n",
       "<tr>\n",
       "  <th>Method:</th>             <td>Least Squares</td>  <th>  F-statistic:       </th> <td>   10.46</td> \n",
       "</tr>\n",
       "<tr>\n",
       "  <th>Date:</th>             <td>Tue, 29 Nov 2022</td> <th>  Prob (F-statistic):</th>  <td>0.00124</td> \n",
       "</tr>\n",
       "<tr>\n",
       "  <th>Time:</th>                 <td>21:49:34</td>     <th>  Log-Likelihood:    </th> <td> -5051.4</td> \n",
       "</tr>\n",
       "<tr>\n",
       "  <th>No. Observations:</th>      <td>  2000</td>      <th>  AIC:               </th> <td>1.011e+04</td>\n",
       "</tr>\n",
       "<tr>\n",
       "  <th>Df Residuals:</th>          <td>  1998</td>      <th>  BIC:               </th> <td>1.012e+04</td>\n",
       "</tr>\n",
       "<tr>\n",
       "  <th>Df Model:</th>              <td>     1</td>      <th>                     </th>     <td> </td>    \n",
       "</tr>\n",
       "<tr>\n",
       "  <th>Covariance Type:</th>      <td>nonrobust</td>    <th>                     </th>     <td> </td>    \n",
       "</tr>\n",
       "</table>\n",
       "<table class=\"simpletable\">\n",
       "<tr>\n",
       "       <td></td>         <th>coef</th>     <th>std err</th>      <th>t</th>      <th>P>|t|</th>  <th>[0.025</th>    <th>0.975]</th>  \n",
       "</tr>\n",
       "<tr>\n",
       "  <th>Intercept</th>  <td>   68.9294</td> <td>    0.096</td> <td>  720.318</td> <td> 0.000</td> <td>   68.742</td> <td>   69.117</td>\n",
       "</tr>\n",
       "<tr>\n",
       "  <th>Milk_Group</th> <td>    0.4377</td> <td>    0.135</td> <td>    3.234</td> <td> 0.001</td> <td>    0.172</td> <td>    0.703</td>\n",
       "</tr>\n",
       "</table>\n",
       "<table class=\"simpletable\">\n",
       "<tr>\n",
       "  <th>Omnibus:</th>       <td> 0.620</td> <th>  Durbin-Watson:     </th> <td>   2.004</td>\n",
       "</tr>\n",
       "<tr>\n",
       "  <th>Prob(Omnibus):</th> <td> 0.733</td> <th>  Jarque-Bera (JB):  </th> <td>   0.649</td>\n",
       "</tr>\n",
       "<tr>\n",
       "  <th>Skew:</th>          <td> 0.042</td> <th>  Prob(JB):          </th> <td>   0.723</td>\n",
       "</tr>\n",
       "<tr>\n",
       "  <th>Kurtosis:</th>      <td> 2.973</td> <th>  Cond. No.          </th> <td>    2.62</td>\n",
       "</tr>\n",
       "</table><br/><br/>Notes:<br/>[1] Standard Errors assume that the covariance matrix of the errors is correctly specified."
      ],
      "text/plain": [
       "<class 'statsmodels.iolib.summary.Summary'>\n",
       "\"\"\"\n",
       "                            OLS Regression Results                            \n",
       "==============================================================================\n",
       "Dep. Variable:                 Height   R-squared:                       0.005\n",
       "Model:                            OLS   Adj. R-squared:                  0.005\n",
       "Method:                 Least Squares   F-statistic:                     10.46\n",
       "Date:                Tue, 29 Nov 2022   Prob (F-statistic):            0.00124\n",
       "Time:                        21:49:34   Log-Likelihood:                -5051.4\n",
       "No. Observations:                2000   AIC:                         1.011e+04\n",
       "Df Residuals:                    1998   BIC:                         1.012e+04\n",
       "Df Model:                           1                                         \n",
       "Covariance Type:            nonrobust                                         \n",
       "==============================================================================\n",
       "                 coef    std err          t      P>|t|      [0.025      0.975]\n",
       "------------------------------------------------------------------------------\n",
       "Intercept     68.9294      0.096    720.318      0.000      68.742      69.117\n",
       "Milk_Group     0.4377      0.135      3.234      0.001       0.172       0.703\n",
       "==============================================================================\n",
       "Omnibus:                        0.620   Durbin-Watson:                   2.004\n",
       "Prob(Omnibus):                  0.733   Jarque-Bera (JB):                0.649\n",
       "Skew:                           0.042   Prob(JB):                        0.723\n",
       "Kurtosis:                       2.973   Cond. No.                         2.62\n",
       "==============================================================================\n",
       "\n",
       "Notes:\n",
       "[1] Standard Errors assume that the covariance matrix of the errors is correctly specified.\n",
       "\"\"\""
      ]
     },
     "execution_count": 5,
     "metadata": {},
     "output_type": "execute_result"
    }
   ],
   "source": [
    "treat_model = smf.ols('Height ~ Milk_Group', height_data).fit()\n",
    "treat_model.summary()"
   ]
  },
  {
   "cell_type": "markdown",
   "id": "dc22060d",
   "metadata": {},
   "source": [
    "thus $d_i$ is about .57, close to our what we expected"
   ]
  },
  {
   "cell_type": "markdown",
   "id": "c77dd7f1",
   "metadata": {},
   "source": [
    "## Adding predictor variables"
   ]
  },
  {
   "cell_type": "code",
   "execution_count": 6,
   "id": "4279c1ae",
   "metadata": {},
   "outputs": [],
   "source": [
    "# add in some predictors\n",
    "mom_height = np.random.normal(63.5, 2.5, 2000)\n",
    "dad_height = np.random.normal(69, 3, 2000)\n",
    "milk_treatment = np.random.choice([0,1], 2000)\n",
    "\n",
    "\n",
    "\n",
    "height = .5 * mom_height + .5 * dad_height + .5*milk_treatment + np.random.normal(0,1, 2000)\n",
    "\n",
    "data = pd.DataFrame([height, mom_height, dad_height, milk_treatment]).T\n",
    "data.columns = [\"height\", \"mom_height\", \"dad_height\", \"milk_treatment\"]\n",
    "\n",
    "# add in some counties\n",
    "counties = [\"Santa Barbara\", \"Ventura\", \"LA\", \"Orange\", \"Alameda\", \"Merced\", \"Riverside\" \"San Diego\"]\n",
    "data[\"county\"] = np.random.choice(counties,2000)"
   ]
  },
  {
   "cell_type": "code",
   "execution_count": 7,
   "id": "c16e2ac4",
   "metadata": {},
   "outputs": [
    {
     "data": {
      "text/html": [
       "<div>\n",
       "<style scoped>\n",
       "    .dataframe tbody tr th:only-of-type {\n",
       "        vertical-align: middle;\n",
       "    }\n",
       "\n",
       "    .dataframe tbody tr th {\n",
       "        vertical-align: top;\n",
       "    }\n",
       "\n",
       "    .dataframe thead th {\n",
       "        text-align: right;\n",
       "    }\n",
       "</style>\n",
       "<table border=\"1\" class=\"dataframe\">\n",
       "  <thead>\n",
       "    <tr style=\"text-align: right;\">\n",
       "      <th></th>\n",
       "      <th>height</th>\n",
       "      <th>mom_height</th>\n",
       "      <th>dad_height</th>\n",
       "      <th>milk_treatment</th>\n",
       "      <th>county</th>\n",
       "      <th>Alameda</th>\n",
       "      <th>LA</th>\n",
       "      <th>Merced</th>\n",
       "      <th>Orange</th>\n",
       "      <th>RiversideSan Diego</th>\n",
       "      <th>Santa Barbara</th>\n",
       "      <th>Ventura</th>\n",
       "    </tr>\n",
       "  </thead>\n",
       "  <tbody>\n",
       "    <tr>\n",
       "      <th>0</th>\n",
       "      <td>67.352998</td>\n",
       "      <td>63.166549</td>\n",
       "      <td>67.280786</td>\n",
       "      <td>1.0</td>\n",
       "      <td>Ventura</td>\n",
       "      <td>0</td>\n",
       "      <td>0</td>\n",
       "      <td>0</td>\n",
       "      <td>0</td>\n",
       "      <td>0</td>\n",
       "      <td>0</td>\n",
       "      <td>1</td>\n",
       "    </tr>\n",
       "    <tr>\n",
       "      <th>1</th>\n",
       "      <td>66.072666</td>\n",
       "      <td>63.762336</td>\n",
       "      <td>66.270218</td>\n",
       "      <td>1.0</td>\n",
       "      <td>LA</td>\n",
       "      <td>0</td>\n",
       "      <td>1</td>\n",
       "      <td>0</td>\n",
       "      <td>0</td>\n",
       "      <td>0</td>\n",
       "      <td>0</td>\n",
       "      <td>0</td>\n",
       "    </tr>\n",
       "    <tr>\n",
       "      <th>2</th>\n",
       "      <td>69.236464</td>\n",
       "      <td>64.393787</td>\n",
       "      <td>70.201838</td>\n",
       "      <td>1.0</td>\n",
       "      <td>LA</td>\n",
       "      <td>0</td>\n",
       "      <td>1</td>\n",
       "      <td>0</td>\n",
       "      <td>0</td>\n",
       "      <td>0</td>\n",
       "      <td>0</td>\n",
       "      <td>0</td>\n",
       "    </tr>\n",
       "    <tr>\n",
       "      <th>3</th>\n",
       "      <td>70.488617</td>\n",
       "      <td>66.335122</td>\n",
       "      <td>72.342331</td>\n",
       "      <td>1.0</td>\n",
       "      <td>RiversideSan Diego</td>\n",
       "      <td>0</td>\n",
       "      <td>0</td>\n",
       "      <td>0</td>\n",
       "      <td>0</td>\n",
       "      <td>1</td>\n",
       "      <td>0</td>\n",
       "      <td>0</td>\n",
       "    </tr>\n",
       "    <tr>\n",
       "      <th>4</th>\n",
       "      <td>67.985056</td>\n",
       "      <td>64.235193</td>\n",
       "      <td>69.378462</td>\n",
       "      <td>0.0</td>\n",
       "      <td>Orange</td>\n",
       "      <td>0</td>\n",
       "      <td>0</td>\n",
       "      <td>0</td>\n",
       "      <td>1</td>\n",
       "      <td>0</td>\n",
       "      <td>0</td>\n",
       "      <td>0</td>\n",
       "    </tr>\n",
       "    <tr>\n",
       "      <th>...</th>\n",
       "      <td>...</td>\n",
       "      <td>...</td>\n",
       "      <td>...</td>\n",
       "      <td>...</td>\n",
       "      <td>...</td>\n",
       "      <td>...</td>\n",
       "      <td>...</td>\n",
       "      <td>...</td>\n",
       "      <td>...</td>\n",
       "      <td>...</td>\n",
       "      <td>...</td>\n",
       "      <td>...</td>\n",
       "    </tr>\n",
       "    <tr>\n",
       "      <th>1995</th>\n",
       "      <td>71.112660</td>\n",
       "      <td>67.578450</td>\n",
       "      <td>73.072078</td>\n",
       "      <td>0.0</td>\n",
       "      <td>Merced</td>\n",
       "      <td>0</td>\n",
       "      <td>0</td>\n",
       "      <td>1</td>\n",
       "      <td>0</td>\n",
       "      <td>0</td>\n",
       "      <td>0</td>\n",
       "      <td>0</td>\n",
       "    </tr>\n",
       "    <tr>\n",
       "      <th>1996</th>\n",
       "      <td>63.148581</td>\n",
       "      <td>60.333128</td>\n",
       "      <td>66.549110</td>\n",
       "      <td>1.0</td>\n",
       "      <td>Santa Barbara</td>\n",
       "      <td>0</td>\n",
       "      <td>0</td>\n",
       "      <td>0</td>\n",
       "      <td>0</td>\n",
       "      <td>0</td>\n",
       "      <td>1</td>\n",
       "      <td>0</td>\n",
       "    </tr>\n",
       "    <tr>\n",
       "      <th>1997</th>\n",
       "      <td>67.834624</td>\n",
       "      <td>63.092551</td>\n",
       "      <td>69.881953</td>\n",
       "      <td>1.0</td>\n",
       "      <td>LA</td>\n",
       "      <td>0</td>\n",
       "      <td>1</td>\n",
       "      <td>0</td>\n",
       "      <td>0</td>\n",
       "      <td>0</td>\n",
       "      <td>0</td>\n",
       "      <td>0</td>\n",
       "    </tr>\n",
       "    <tr>\n",
       "      <th>1998</th>\n",
       "      <td>63.447456</td>\n",
       "      <td>60.815627</td>\n",
       "      <td>66.467445</td>\n",
       "      <td>1.0</td>\n",
       "      <td>Merced</td>\n",
       "      <td>0</td>\n",
       "      <td>0</td>\n",
       "      <td>1</td>\n",
       "      <td>0</td>\n",
       "      <td>0</td>\n",
       "      <td>0</td>\n",
       "      <td>0</td>\n",
       "    </tr>\n",
       "    <tr>\n",
       "      <th>1999</th>\n",
       "      <td>68.367410</td>\n",
       "      <td>65.209606</td>\n",
       "      <td>69.741731</td>\n",
       "      <td>1.0</td>\n",
       "      <td>RiversideSan Diego</td>\n",
       "      <td>0</td>\n",
       "      <td>0</td>\n",
       "      <td>0</td>\n",
       "      <td>0</td>\n",
       "      <td>1</td>\n",
       "      <td>0</td>\n",
       "      <td>0</td>\n",
       "    </tr>\n",
       "  </tbody>\n",
       "</table>\n",
       "<p>2000 rows × 12 columns</p>\n",
       "</div>"
      ],
      "text/plain": [
       "         height  mom_height  dad_height  milk_treatment              county  \\\n",
       "0     67.352998   63.166549   67.280786             1.0             Ventura   \n",
       "1     66.072666   63.762336   66.270218             1.0                  LA   \n",
       "2     69.236464   64.393787   70.201838             1.0                  LA   \n",
       "3     70.488617   66.335122   72.342331             1.0  RiversideSan Diego   \n",
       "4     67.985056   64.235193   69.378462             0.0              Orange   \n",
       "...         ...         ...         ...             ...                 ...   \n",
       "1995  71.112660   67.578450   73.072078             0.0              Merced   \n",
       "1996  63.148581   60.333128   66.549110             1.0       Santa Barbara   \n",
       "1997  67.834624   63.092551   69.881953             1.0                  LA   \n",
       "1998  63.447456   60.815627   66.467445             1.0              Merced   \n",
       "1999  68.367410   65.209606   69.741731             1.0  RiversideSan Diego   \n",
       "\n",
       "      Alameda  LA  Merced  Orange  RiversideSan Diego  Santa Barbara  Ventura  \n",
       "0           0   0       0       0                   0              0        1  \n",
       "1           0   1       0       0                   0              0        0  \n",
       "2           0   1       0       0                   0              0        0  \n",
       "3           0   0       0       0                   1              0        0  \n",
       "4           0   0       0       1                   0              0        0  \n",
       "...       ...  ..     ...     ...                 ...            ...      ...  \n",
       "1995        0   0       1       0                   0              0        0  \n",
       "1996        0   0       0       0                   0              1        0  \n",
       "1997        0   1       0       0                   0              0        0  \n",
       "1998        0   0       1       0                   0              0        0  \n",
       "1999        0   0       0       0                   1              0        0  \n",
       "\n",
       "[2000 rows x 12 columns]"
      ]
     },
     "execution_count": 7,
     "metadata": {},
     "output_type": "execute_result"
    }
   ],
   "source": [
    "data.merge(pd.get_dummies(data.county), left_index = True, right_index = True)"
   ]
  },
  {
   "cell_type": "markdown",
   "id": "d86ec9e5",
   "metadata": {},
   "source": [
    "### Fixed Effects"
   ]
  },
  {
   "cell_type": "code",
   "execution_count": 8,
   "id": "c4ec3d25",
   "metadata": {},
   "outputs": [
    {
     "data": {
      "text/html": [
       "<table class=\"simpletable\">\n",
       "<caption>OLS Regression Results</caption>\n",
       "<tr>\n",
       "  <th>Dep. Variable:</th>         <td>height</td>      <th>  R-squared:         </th> <td>   0.792</td>\n",
       "</tr>\n",
       "<tr>\n",
       "  <th>Model:</th>                   <td>OLS</td>       <th>  Adj. R-squared:    </th> <td>   0.791</td>\n",
       "</tr>\n",
       "<tr>\n",
       "  <th>Method:</th>             <td>Least Squares</td>  <th>  F-statistic:       </th> <td>   841.3</td>\n",
       "</tr>\n",
       "<tr>\n",
       "  <th>Date:</th>             <td>Tue, 29 Nov 2022</td> <th>  Prob (F-statistic):</th>  <td>  0.00</td> \n",
       "</tr>\n",
       "<tr>\n",
       "  <th>Time:</th>                 <td>21:49:34</td>     <th>  Log-Likelihood:    </th> <td> -2845.3</td>\n",
       "</tr>\n",
       "<tr>\n",
       "  <th>No. Observations:</th>      <td>  2000</td>      <th>  AIC:               </th> <td>   5711.</td>\n",
       "</tr>\n",
       "<tr>\n",
       "  <th>Df Residuals:</th>          <td>  1990</td>      <th>  BIC:               </th> <td>   5767.</td>\n",
       "</tr>\n",
       "<tr>\n",
       "  <th>Df Model:</th>              <td>     9</td>      <th>                     </th>     <td> </td>   \n",
       "</tr>\n",
       "<tr>\n",
       "  <th>Covariance Type:</th>      <td>nonrobust</td>    <th>                     </th>     <td> </td>   \n",
       "</tr>\n",
       "</table>\n",
       "<table class=\"simpletable\">\n",
       "<tr>\n",
       "                <td></td>                  <th>coef</th>     <th>std err</th>      <th>t</th>      <th>P>|t|</th>  <th>[0.025</th>    <th>0.975]</th>  \n",
       "</tr>\n",
       "<tr>\n",
       "  <th>Intercept</th>                    <td>    1.2521</td> <td>    0.765</td> <td>    1.636</td> <td> 0.102</td> <td>   -0.248</td> <td>    2.753</td>\n",
       "</tr>\n",
       "<tr>\n",
       "  <th>county[T.LA]</th>                 <td>   -0.1481</td> <td>    0.083</td> <td>   -1.784</td> <td> 0.075</td> <td>   -0.311</td> <td>    0.015</td>\n",
       "</tr>\n",
       "<tr>\n",
       "  <th>county[T.Merced]</th>             <td>   -0.0229</td> <td>    0.082</td> <td>   -0.279</td> <td> 0.780</td> <td>   -0.184</td> <td>    0.138</td>\n",
       "</tr>\n",
       "<tr>\n",
       "  <th>county[T.Orange]</th>             <td>    0.0701</td> <td>    0.084</td> <td>    0.835</td> <td> 0.404</td> <td>   -0.094</td> <td>    0.235</td>\n",
       "</tr>\n",
       "<tr>\n",
       "  <th>county[T.RiversideSan Diego]</th> <td>    0.0874</td> <td>    0.084</td> <td>    1.038</td> <td> 0.299</td> <td>   -0.078</td> <td>    0.253</td>\n",
       "</tr>\n",
       "<tr>\n",
       "  <th>county[T.Santa Barbara]</th>      <td>    0.0870</td> <td>    0.084</td> <td>    1.041</td> <td> 0.298</td> <td>   -0.077</td> <td>    0.251</td>\n",
       "</tr>\n",
       "<tr>\n",
       "  <th>county[T.Ventura]</th>            <td>    0.0123</td> <td>    0.085</td> <td>    0.145</td> <td> 0.885</td> <td>   -0.155</td> <td>    0.179</td>\n",
       "</tr>\n",
       "<tr>\n",
       "  <th>mom_height</th>                   <td>    0.4890</td> <td>    0.009</td> <td>   55.041</td> <td> 0.000</td> <td>    0.472</td> <td>    0.506</td>\n",
       "</tr>\n",
       "<tr>\n",
       "  <th>dad_height</th>                   <td>    0.4917</td> <td>    0.007</td> <td>   65.700</td> <td> 0.000</td> <td>    0.477</td> <td>    0.506</td>\n",
       "</tr>\n",
       "<tr>\n",
       "  <th>milk_treatment</th>               <td>    0.5567</td> <td>    0.045</td> <td>   12.353</td> <td> 0.000</td> <td>    0.468</td> <td>    0.645</td>\n",
       "</tr>\n",
       "</table>\n",
       "<table class=\"simpletable\">\n",
       "<tr>\n",
       "  <th>Omnibus:</th>       <td> 3.140</td> <th>  Durbin-Watson:     </th> <td>   2.036</td>\n",
       "</tr>\n",
       "<tr>\n",
       "  <th>Prob(Omnibus):</th> <td> 0.208</td> <th>  Jarque-Bera (JB):  </th> <td>   3.071</td>\n",
       "</tr>\n",
       "<tr>\n",
       "  <th>Skew:</th>          <td>-0.076</td> <th>  Prob(JB):          </th> <td>   0.215</td>\n",
       "</tr>\n",
       "<tr>\n",
       "  <th>Kurtosis:</th>      <td> 3.118</td> <th>  Cond. No.          </th> <td>3.19e+03</td>\n",
       "</tr>\n",
       "</table><br/><br/>Notes:<br/>[1] Standard Errors assume that the covariance matrix of the errors is correctly specified.<br/>[2] The condition number is large, 3.19e+03. This might indicate that there are<br/>strong multicollinearity or other numerical problems."
      ],
      "text/plain": [
       "<class 'statsmodels.iolib.summary.Summary'>\n",
       "\"\"\"\n",
       "                            OLS Regression Results                            \n",
       "==============================================================================\n",
       "Dep. Variable:                 height   R-squared:                       0.792\n",
       "Model:                            OLS   Adj. R-squared:                  0.791\n",
       "Method:                 Least Squares   F-statistic:                     841.3\n",
       "Date:                Tue, 29 Nov 2022   Prob (F-statistic):               0.00\n",
       "Time:                        21:49:34   Log-Likelihood:                -2845.3\n",
       "No. Observations:                2000   AIC:                             5711.\n",
       "Df Residuals:                    1990   BIC:                             5767.\n",
       "Df Model:                           9                                         \n",
       "Covariance Type:            nonrobust                                         \n",
       "================================================================================================\n",
       "                                   coef    std err          t      P>|t|      [0.025      0.975]\n",
       "------------------------------------------------------------------------------------------------\n",
       "Intercept                        1.2521      0.765      1.636      0.102      -0.248       2.753\n",
       "county[T.LA]                    -0.1481      0.083     -1.784      0.075      -0.311       0.015\n",
       "county[T.Merced]                -0.0229      0.082     -0.279      0.780      -0.184       0.138\n",
       "county[T.Orange]                 0.0701      0.084      0.835      0.404      -0.094       0.235\n",
       "county[T.RiversideSan Diego]     0.0874      0.084      1.038      0.299      -0.078       0.253\n",
       "county[T.Santa Barbara]          0.0870      0.084      1.041      0.298      -0.077       0.251\n",
       "county[T.Ventura]                0.0123      0.085      0.145      0.885      -0.155       0.179\n",
       "mom_height                       0.4890      0.009     55.041      0.000       0.472       0.506\n",
       "dad_height                       0.4917      0.007     65.700      0.000       0.477       0.506\n",
       "milk_treatment                   0.5567      0.045     12.353      0.000       0.468       0.645\n",
       "==============================================================================\n",
       "Omnibus:                        3.140   Durbin-Watson:                   2.036\n",
       "Prob(Omnibus):                  0.208   Jarque-Bera (JB):                3.071\n",
       "Skew:                          -0.076   Prob(JB):                        0.215\n",
       "Kurtosis:                       3.118   Cond. No.                     3.19e+03\n",
       "==============================================================================\n",
       "\n",
       "Notes:\n",
       "[1] Standard Errors assume that the covariance matrix of the errors is correctly specified.\n",
       "[2] The condition number is large, 3.19e+03. This might indicate that there are\n",
       "strong multicollinearity or other numerical problems.\n",
       "\"\"\""
      ]
     },
     "execution_count": 8,
     "metadata": {},
     "output_type": "execute_result"
    }
   ],
   "source": [
    "treat_model2 = smf.ols('height ~ mom_height + dad_height+ milk_treatment+ county', data).fit()\n",
    "treat_model2.summary()"
   ]
  },
  {
   "cell_type": "code",
   "execution_count": 9,
   "id": "aa8086bf",
   "metadata": {},
   "outputs": [
    {
     "data": {
      "text/html": [
       "<table class=\"simpletable\">\n",
       "<caption>OLS Regression Results</caption>\n",
       "<tr>\n",
       "  <th>Dep. Variable:</th>     <td>milk_treatment</td>  <th>  R-squared:         </th> <td>   0.000</td>\n",
       "</tr>\n",
       "<tr>\n",
       "  <th>Model:</th>                   <td>OLS</td>       <th>  Adj. R-squared:    </th> <td>  -0.001</td>\n",
       "</tr>\n",
       "<tr>\n",
       "  <th>Method:</th>             <td>Least Squares</td>  <th>  F-statistic:       </th> <td> 0.08000</td>\n",
       "</tr>\n",
       "<tr>\n",
       "  <th>Date:</th>             <td>Tue, 29 Nov 2022</td> <th>  Prob (F-statistic):</th>  <td> 0.923</td> \n",
       "</tr>\n",
       "<tr>\n",
       "  <th>Time:</th>                 <td>21:49:34</td>     <th>  Log-Likelihood:    </th> <td> -1450.3</td>\n",
       "</tr>\n",
       "<tr>\n",
       "  <th>No. Observations:</th>      <td>  2000</td>      <th>  AIC:               </th> <td>   2907.</td>\n",
       "</tr>\n",
       "<tr>\n",
       "  <th>Df Residuals:</th>          <td>  1997</td>      <th>  BIC:               </th> <td>   2923.</td>\n",
       "</tr>\n",
       "<tr>\n",
       "  <th>Df Model:</th>              <td>     2</td>      <th>                     </th>     <td> </td>   \n",
       "</tr>\n",
       "<tr>\n",
       "  <th>Covariance Type:</th>      <td>nonrobust</td>    <th>                     </th>     <td> </td>   \n",
       "</tr>\n",
       "</table>\n",
       "<table class=\"simpletable\">\n",
       "<tr>\n",
       "       <td></td>         <th>coef</th>     <th>std err</th>      <th>t</th>      <th>P>|t|</th>  <th>[0.025</th>    <th>0.975]</th>  \n",
       "</tr>\n",
       "<tr>\n",
       "  <th>Intercept</th>  <td>    0.5127</td> <td>    0.378</td> <td>    1.356</td> <td> 0.175</td> <td>   -0.229</td> <td>    1.254</td>\n",
       "</tr>\n",
       "<tr>\n",
       "  <th>mom_height</th> <td>    0.0009</td> <td>    0.004</td> <td>    0.206</td> <td> 0.837</td> <td>   -0.008</td> <td>    0.010</td>\n",
       "</tr>\n",
       "<tr>\n",
       "  <th>dad_height</th> <td>   -0.0013</td> <td>    0.004</td> <td>   -0.344</td> <td> 0.731</td> <td>   -0.009</td> <td>    0.006</td>\n",
       "</tr>\n",
       "</table>\n",
       "<table class=\"simpletable\">\n",
       "<tr>\n",
       "  <th>Omnibus:</th>       <td>7187.304</td> <th>  Durbin-Watson:     </th> <td>   2.011</td>\n",
       "</tr>\n",
       "<tr>\n",
       "  <th>Prob(Omnibus):</th>  <td> 0.000</td>  <th>  Jarque-Bera (JB):  </th> <td> 333.229</td>\n",
       "</tr>\n",
       "<tr>\n",
       "  <th>Skew:</th>           <td> 0.070</td>  <th>  Prob(JB):          </th> <td>4.37e-73</td>\n",
       "</tr>\n",
       "<tr>\n",
       "  <th>Kurtosis:</th>       <td> 1.005</td>  <th>  Cond. No.          </th> <td>3.17e+03</td>\n",
       "</tr>\n",
       "</table><br/><br/>Notes:<br/>[1] Standard Errors assume that the covariance matrix of the errors is correctly specified.<br/>[2] The condition number is large, 3.17e+03. This might indicate that there are<br/>strong multicollinearity or other numerical problems."
      ],
      "text/plain": [
       "<class 'statsmodels.iolib.summary.Summary'>\n",
       "\"\"\"\n",
       "                            OLS Regression Results                            \n",
       "==============================================================================\n",
       "Dep. Variable:         milk_treatment   R-squared:                       0.000\n",
       "Model:                            OLS   Adj. R-squared:                 -0.001\n",
       "Method:                 Least Squares   F-statistic:                   0.08000\n",
       "Date:                Tue, 29 Nov 2022   Prob (F-statistic):              0.923\n",
       "Time:                        21:49:34   Log-Likelihood:                -1450.3\n",
       "No. Observations:                2000   AIC:                             2907.\n",
       "Df Residuals:                    1997   BIC:                             2923.\n",
       "Df Model:                           2                                         \n",
       "Covariance Type:            nonrobust                                         \n",
       "==============================================================================\n",
       "                 coef    std err          t      P>|t|      [0.025      0.975]\n",
       "------------------------------------------------------------------------------\n",
       "Intercept      0.5127      0.378      1.356      0.175      -0.229       1.254\n",
       "mom_height     0.0009      0.004      0.206      0.837      -0.008       0.010\n",
       "dad_height    -0.0013      0.004     -0.344      0.731      -0.009       0.006\n",
       "==============================================================================\n",
       "Omnibus:                     7187.304   Durbin-Watson:                   2.011\n",
       "Prob(Omnibus):                  0.000   Jarque-Bera (JB):              333.229\n",
       "Skew:                           0.070   Prob(JB):                     4.37e-73\n",
       "Kurtosis:                       1.005   Cond. No.                     3.17e+03\n",
       "==============================================================================\n",
       "\n",
       "Notes:\n",
       "[1] Standard Errors assume that the covariance matrix of the errors is correctly specified.\n",
       "[2] The condition number is large, 3.17e+03. This might indicate that there are\n",
       "strong multicollinearity or other numerical problems.\n",
       "\"\"\""
      ]
     },
     "execution_count": 9,
     "metadata": {},
     "output_type": "execute_result"
    }
   ],
   "source": [
    "test_model = smf.ols('milk_treatment ~ mom_height + dad_height', data).fit()\n",
    "test_model.summary()"
   ]
  },
  {
   "cell_type": "markdown",
   "id": "30ff103b",
   "metadata": {},
   "source": [
    "# Difference-in-Differences"
   ]
  },
  {
   "cell_type": "code",
   "execution_count": 10,
   "id": "ec5f88b3",
   "metadata": {},
   "outputs": [],
   "source": [
    "mom_height = np.random.normal(63.5, 2.5, 2000)\n",
    "dad_height = np.random.normal(69, 3, 2000)\n",
    "milk_treatment = np.random.choice([0,1], 2000)\n",
    "\n",
    "after = np.random.choice([0,1], 2000)\n",
    "\n",
    "height = .5*mom_height + .5* dad_height + 2*after + milk_treatment+ 2*after*milk_treatment+np.random.normal(0,1, 2000)\n",
    "\n",
    "data = pd.DataFrame([height, mom_height, dad_height, milk_treatment, after]).T\n",
    "data.columns = [\"height\", \"mom_height\", \"dad_height\", \"milk_treatment\", \"after\"]"
   ]
  },
  {
   "cell_type": "code",
   "execution_count": 11,
   "id": "27a525cb",
   "metadata": {},
   "outputs": [
    {
     "data": {
      "text/plain": [
       "<seaborn.axisgrid.FacetGrid at 0x7fbf784256d0>"
      ]
     },
     "execution_count": 11,
     "metadata": {},
     "output_type": "execute_result"
    },
    {
     "data": {
      "text/plain": [
       "<Figure size 1080x720 with 0 Axes>"
      ]
     },
     "metadata": {},
     "output_type": "display_data"
    },
    {
     "data": {
      "image/png": "[encoded data removed]",
      "text/plain": [
       "<Figure size 804x720 with 1 Axes>"
      ]
     },
     "metadata": {
      "needs_background": "light"
     },
     "output_type": "display_data"
    }
   ],
   "source": [
    "plt.figure(figsize = (15, 10))\n",
    "sns.lmplot(x = \"after\", y = \"height\", hue = \"milk_treatment\",data = data, height = 10, x_jitter = .1) "
   ]
  },
  {
   "cell_type": "code",
   "execution_count": 12,
   "id": "742773d3",
   "metadata": {
    "scrolled": false
   },
   "outputs": [
    {
     "data": {
      "text/html": [
       "<table class=\"simpletable\">\n",
       "<caption>OLS Regression Results</caption>\n",
       "<tr>\n",
       "  <th>Dep. Variable:</th>         <td>height</td>      <th>  R-squared:         </th> <td>   0.883</td>\n",
       "</tr>\n",
       "<tr>\n",
       "  <th>Model:</th>                   <td>OLS</td>       <th>  Adj. R-squared:    </th> <td>   0.882</td>\n",
       "</tr>\n",
       "<tr>\n",
       "  <th>Method:</th>             <td>Least Squares</td>  <th>  F-statistic:       </th> <td>   3003.</td>\n",
       "</tr>\n",
       "<tr>\n",
       "  <th>Date:</th>             <td>Tue, 29 Nov 2022</td> <th>  Prob (F-statistic):</th>  <td>  0.00</td> \n",
       "</tr>\n",
       "<tr>\n",
       "  <th>Time:</th>                 <td>21:49:34</td>     <th>  Log-Likelihood:    </th> <td> -2805.2</td>\n",
       "</tr>\n",
       "<tr>\n",
       "  <th>No. Observations:</th>      <td>  2000</td>      <th>  AIC:               </th> <td>   5622.</td>\n",
       "</tr>\n",
       "<tr>\n",
       "  <th>Df Residuals:</th>          <td>  1994</td>      <th>  BIC:               </th> <td>   5656.</td>\n",
       "</tr>\n",
       "<tr>\n",
       "  <th>Df Model:</th>              <td>     5</td>      <th>                     </th>     <td> </td>   \n",
       "</tr>\n",
       "<tr>\n",
       "  <th>Covariance Type:</th>      <td>nonrobust</td>    <th>                     </th>     <td> </td>   \n",
       "</tr>\n",
       "</table>\n",
       "<table class=\"simpletable\">\n",
       "<tr>\n",
       "            <td></td>              <th>coef</th>     <th>std err</th>      <th>t</th>      <th>P>|t|</th>  <th>[0.025</th>    <th>0.975]</th>  \n",
       "</tr>\n",
       "<tr>\n",
       "  <th>Intercept</th>            <td>   -0.7109</td> <td>    0.761</td> <td>   -0.935</td> <td> 0.350</td> <td>   -2.203</td> <td>    0.781</td>\n",
       "</tr>\n",
       "<tr>\n",
       "  <th>mom_height</th>           <td>    0.5125</td> <td>    0.009</td> <td>   58.017</td> <td> 0.000</td> <td>    0.495</td> <td>    0.530</td>\n",
       "</tr>\n",
       "<tr>\n",
       "  <th>dad_height</th>           <td>    0.4991</td> <td>    0.007</td> <td>   68.092</td> <td> 0.000</td> <td>    0.485</td> <td>    0.513</td>\n",
       "</tr>\n",
       "<tr>\n",
       "  <th>after</th>                <td>    1.9278</td> <td>    0.063</td> <td>   30.382</td> <td> 0.000</td> <td>    1.803</td> <td>    2.052</td>\n",
       "</tr>\n",
       "<tr>\n",
       "  <th>milk_treatment</th>       <td>    1.0107</td> <td>    0.062</td> <td>   16.325</td> <td> 0.000</td> <td>    0.889</td> <td>    1.132</td>\n",
       "</tr>\n",
       "<tr>\n",
       "  <th>after:milk_treatment</th> <td>    2.0146</td> <td>    0.088</td> <td>   22.839</td> <td> 0.000</td> <td>    1.842</td> <td>    2.188</td>\n",
       "</tr>\n",
       "</table>\n",
       "<table class=\"simpletable\">\n",
       "<tr>\n",
       "  <th>Omnibus:</th>       <td> 2.857</td> <th>  Durbin-Watson:     </th> <td>   2.021</td>\n",
       "</tr>\n",
       "<tr>\n",
       "  <th>Prob(Omnibus):</th> <td> 0.240</td> <th>  Jarque-Bera (JB):  </th> <td>   2.763</td>\n",
       "</tr>\n",
       "<tr>\n",
       "  <th>Skew:</th>          <td>-0.084</td> <th>  Prob(JB):          </th> <td>   0.251</td>\n",
       "</tr>\n",
       "<tr>\n",
       "  <th>Kurtosis:</th>      <td> 3.069</td> <th>  Cond. No.          </th> <td>3.24e+03</td>\n",
       "</tr>\n",
       "</table><br/><br/>Notes:<br/>[1] Standard Errors assume that the covariance matrix of the errors is correctly specified.<br/>[2] The condition number is large, 3.24e+03. This might indicate that there are<br/>strong multicollinearity or other numerical problems."
      ],
      "text/plain": [
       "<class 'statsmodels.iolib.summary.Summary'>\n",
       "\"\"\"\n",
       "                            OLS Regression Results                            \n",
       "==============================================================================\n",
       "Dep. Variable:                 height   R-squared:                       0.883\n",
       "Model:                            OLS   Adj. R-squared:                  0.882\n",
       "Method:                 Least Squares   F-statistic:                     3003.\n",
       "Date:                Tue, 29 Nov 2022   Prob (F-statistic):               0.00\n",
       "Time:                        21:49:34   Log-Likelihood:                -2805.2\n",
       "No. Observations:                2000   AIC:                             5622.\n",
       "Df Residuals:                    1994   BIC:                             5656.\n",
       "Df Model:                           5                                         \n",
       "Covariance Type:            nonrobust                                         \n",
       "========================================================================================\n",
       "                           coef    std err          t      P>|t|      [0.025      0.975]\n",
       "----------------------------------------------------------------------------------------\n",
       "Intercept               -0.7109      0.761     -0.935      0.350      -2.203       0.781\n",
       "mom_height               0.5125      0.009     58.017      0.000       0.495       0.530\n",
       "dad_height               0.4991      0.007     68.092      0.000       0.485       0.513\n",
       "after                    1.9278      0.063     30.382      0.000       1.803       2.052\n",
       "milk_treatment           1.0107      0.062     16.325      0.000       0.889       1.132\n",
       "after:milk_treatment     2.0146      0.088     22.839      0.000       1.842       2.188\n",
       "==============================================================================\n",
       "Omnibus:                        2.857   Durbin-Watson:                   2.021\n",
       "Prob(Omnibus):                  0.240   Jarque-Bera (JB):                2.763\n",
       "Skew:                          -0.084   Prob(JB):                        0.251\n",
       "Kurtosis:                       3.069   Cond. No.                     3.24e+03\n",
       "==============================================================================\n",
       "\n",
       "Notes:\n",
       "[1] Standard Errors assume that the covariance matrix of the errors is correctly specified.\n",
       "[2] The condition number is large, 3.24e+03. This might indicate that there are\n",
       "strong multicollinearity or other numerical problems.\n",
       "\"\"\""
      ]
     },
     "execution_count": 12,
     "metadata": {},
     "output_type": "execute_result"
    }
   ],
   "source": [
    "# Test is to regress our treatment on teh predictors\n",
    "test_model = smf.ols('height ~ mom_height + dad_height + after*milk_treatment ', height_data).fit()\n",
    "test_model.summary()"
   ]
  },
  {
   "cell_type": "markdown",
   "id": "a9a22b4d",
   "metadata": {},
   "source": []
  },
  {
   "cell_type": "markdown",
   "id": "c5d79b10",
   "metadata": {},
   "source": [
    "# Instrumental Variables"
   ]
  },
  {
   "cell_type": "code",
   "execution_count": 13,
   "id": "b3a248d2",
   "metadata": {},
   "outputs": [],
   "source": [
    "wage = woo.data('WAGE2')"
   ]
  },
  {
   "cell_type": "markdown",
   "id": "d2b9abb0",
   "metadata": {},
   "source": [
    "$$log(wage)= \\beta_0 + \\beta_1 educ + u$$"
   ]
  },
  {
   "cell_type": "markdown",
   "id": "172a36dd",
   "metadata": {},
   "source": [
    "We believe that educ is likely endogenous (correlated with the error term). The classic example of why is that people who are more talented or have greater general ability likely perform well in school and on the job market. Thus we would like to find an instrument that can strip out this correlation.\n",
    "\n",
    "The goal is to find an instrument that is correlated with education and but not the error term (which includes items like ability) in the regression.\n",
    "\n",
    "Number of siblings is a candidate instrument. We know that children with more siblings tend to have lower levels of education. The second assumptiopn is mroe difficult to verify. Is it possible that the number of siblings is correlated with ability?\n",
    "\n",
    "    More siblings -> less parent attention -> lower ability -> lower wages and education"
   ]
  },
  {
   "cell_type": "markdown",
   "id": "72b5057d",
   "metadata": {},
   "source": [
    "Two stage least squares steps:\n",
    "\n",
    "    1. Regress education on nsibs:\n",
    "$$\\hat{educ} = \\beta_0 - \\beta_1 sibs$$\n",
    "\n",
    "    2. Save the fitted values from the previopus regression\n",
    "    \n",
    "    3. Regress log(wage) on the fitted values for education:\n",
    "    \n",
    "$$log(wage) = \\beta_0 - \\beta_1 \\hat{educ}$$\n",
    "\n",
    "Note that the manual implementation of the above process computes incorrect standard errors. the IV2SLS method will return corrected errors that account for the two stage structure of the regression."
   ]
  },
  {
   "cell_type": "markdown",
   "id": "18209edf",
   "metadata": {},
   "source": [
    "### Manual Implementation"
   ]
  },
  {
   "cell_type": "code",
   "execution_count": 14,
   "id": "91f7e118",
   "metadata": {},
   "outputs": [
    {
     "data": {
      "text/html": [
       "<table class=\"simpletable\">\n",
       "<caption>OLS Regression Results</caption>\n",
       "<tr>\n",
       "  <th>Dep. Variable:</th>          <td>educ</td>       <th>  R-squared:         </th> <td>   0.057</td>\n",
       "</tr>\n",
       "<tr>\n",
       "  <th>Model:</th>                   <td>OLS</td>       <th>  Adj. R-squared:    </th> <td>   0.056</td>\n",
       "</tr>\n",
       "<tr>\n",
       "  <th>Method:</th>             <td>Least Squares</td>  <th>  F-statistic:       </th> <td>   56.67</td>\n",
       "</tr>\n",
       "<tr>\n",
       "  <th>Date:</th>             <td>Tue, 29 Nov 2022</td> <th>  Prob (F-statistic):</th> <td>1.22e-13</td>\n",
       "</tr>\n",
       "<tr>\n",
       "  <th>Time:</th>                 <td>21:49:34</td>     <th>  Log-Likelihood:    </th> <td> -2034.4</td>\n",
       "</tr>\n",
       "<tr>\n",
       "  <th>No. Observations:</th>      <td>   935</td>      <th>  AIC:               </th> <td>   4073.</td>\n",
       "</tr>\n",
       "<tr>\n",
       "  <th>Df Residuals:</th>          <td>   933</td>      <th>  BIC:               </th> <td>   4083.</td>\n",
       "</tr>\n",
       "<tr>\n",
       "  <th>Df Model:</th>              <td>     1</td>      <th>                     </th>     <td> </td>   \n",
       "</tr>\n",
       "<tr>\n",
       "  <th>Covariance Type:</th>      <td>nonrobust</td>    <th>                     </th>     <td> </td>   \n",
       "</tr>\n",
       "</table>\n",
       "<table class=\"simpletable\">\n",
       "<tr>\n",
       "      <td></td>         <th>coef</th>     <th>std err</th>      <th>t</th>      <th>P>|t|</th>  <th>[0.025</th>    <th>0.975]</th>  \n",
       "</tr>\n",
       "<tr>\n",
       "  <th>Intercept</th> <td>   14.1388</td> <td>    0.113</td> <td>  124.969</td> <td> 0.000</td> <td>   13.917</td> <td>   14.361</td>\n",
       "</tr>\n",
       "<tr>\n",
       "  <th>sibs</th>      <td>   -0.2279</td> <td>    0.030</td> <td>   -7.528</td> <td> 0.000</td> <td>   -0.287</td> <td>   -0.168</td>\n",
       "</tr>\n",
       "</table>\n",
       "<table class=\"simpletable\">\n",
       "<tr>\n",
       "  <th>Omnibus:</th>       <td>69.595</td> <th>  Durbin-Watson:     </th> <td>   1.797</td>\n",
       "</tr>\n",
       "<tr>\n",
       "  <th>Prob(Omnibus):</th> <td> 0.000</td> <th>  Jarque-Bera (JB):  </th> <td>  55.996</td>\n",
       "</tr>\n",
       "<tr>\n",
       "  <th>Skew:</th>          <td> 0.512</td> <th>  Prob(JB):          </th> <td>6.93e-13</td>\n",
       "</tr>\n",
       "<tr>\n",
       "  <th>Kurtosis:</th>      <td> 2.376</td> <th>  Cond. No.          </th> <td>    6.33</td>\n",
       "</tr>\n",
       "</table><br/><br/>Notes:<br/>[1] Standard Errors assume that the covariance matrix of the errors is correctly specified."
      ],
      "text/plain": [
       "<class 'statsmodels.iolib.summary.Summary'>\n",
       "\"\"\"\n",
       "                            OLS Regression Results                            \n",
       "==============================================================================\n",
       "Dep. Variable:                   educ   R-squared:                       0.057\n",
       "Model:                            OLS   Adj. R-squared:                  0.056\n",
       "Method:                 Least Squares   F-statistic:                     56.67\n",
       "Date:                Tue, 29 Nov 2022   Prob (F-statistic):           1.22e-13\n",
       "Time:                        21:49:34   Log-Likelihood:                -2034.4\n",
       "No. Observations:                 935   AIC:                             4073.\n",
       "Df Residuals:                     933   BIC:                             4083.\n",
       "Df Model:                           1                                         \n",
       "Covariance Type:            nonrobust                                         \n",
       "==============================================================================\n",
       "                 coef    std err          t      P>|t|      [0.025      0.975]\n",
       "------------------------------------------------------------------------------\n",
       "Intercept     14.1388      0.113    124.969      0.000      13.917      14.361\n",
       "sibs          -0.2279      0.030     -7.528      0.000      -0.287      -0.168\n",
       "==============================================================================\n",
       "Omnibus:                       69.595   Durbin-Watson:                   1.797\n",
       "Prob(Omnibus):                  0.000   Jarque-Bera (JB):               55.996\n",
       "Skew:                           0.512   Prob(JB):                     6.93e-13\n",
       "Kurtosis:                       2.376   Cond. No.                         6.33\n",
       "==============================================================================\n",
       "\n",
       "Notes:\n",
       "[1] Standard Errors assume that the covariance matrix of the errors is correctly specified.\n",
       "\"\"\""
      ]
     },
     "execution_count": 14,
     "metadata": {},
     "output_type": "execute_result"
    }
   ],
   "source": [
    "stage1 = smf.ols('educ~sibs', wage).fit()\n",
    "stage1.summary()"
   ]
  },
  {
   "cell_type": "markdown",
   "id": "8e2fa027",
   "metadata": {},
   "source": [
    "Note the very high F-statistic, this is a good sign that we have a strong instrument in our regression that is correlated with our endogenous variable."
   ]
  },
  {
   "cell_type": "code",
   "execution_count": 15,
   "id": "c90d0b4d",
   "metadata": {},
   "outputs": [],
   "source": [
    "wage[\"educ_hat\"] = stage1.fittedvalues"
   ]
  },
  {
   "cell_type": "code",
   "execution_count": 16,
   "id": "44e254d9",
   "metadata": {},
   "outputs": [
    {
     "data": {
      "text/html": [
       "<table class=\"simpletable\">\n",
       "<caption>OLS Regression Results</caption>\n",
       "<tr>\n",
       "  <th>Dep. Variable:</th>      <td>np.log(wage)</td>   <th>  R-squared:         </th> <td>   0.023</td>\n",
       "</tr>\n",
       "<tr>\n",
       "  <th>Model:</th>                   <td>OLS</td>       <th>  Adj. R-squared:    </th> <td>   0.022</td>\n",
       "</tr>\n",
       "<tr>\n",
       "  <th>Method:</th>             <td>Least Squares</td>  <th>  F-statistic:       </th> <td>   22.31</td>\n",
       "</tr>\n",
       "<tr>\n",
       "  <th>Date:</th>             <td>Tue, 29 Nov 2022</td> <th>  Prob (F-statistic):</th> <td>2.68e-06</td>\n",
       "</tr>\n",
       "<tr>\n",
       "  <th>Time:</th>                 <td>21:49:34</td>     <th>  Log-Likelihood:    </th> <td> -506.59</td>\n",
       "</tr>\n",
       "<tr>\n",
       "  <th>No. Observations:</th>      <td>   935</td>      <th>  AIC:               </th> <td>   1017.</td>\n",
       "</tr>\n",
       "<tr>\n",
       "  <th>Df Residuals:</th>          <td>   933</td>      <th>  BIC:               </th> <td>   1027.</td>\n",
       "</tr>\n",
       "<tr>\n",
       "  <th>Df Model:</th>              <td>     1</td>      <th>                     </th>     <td> </td>   \n",
       "</tr>\n",
       "<tr>\n",
       "  <th>Covariance Type:</th>      <td>nonrobust</td>    <th>                     </th>     <td> </td>   \n",
       "</tr>\n",
       "</table>\n",
       "<table class=\"simpletable\">\n",
       "<tr>\n",
       "      <td></td>         <th>coef</th>     <th>std err</th>      <th>t</th>      <th>P>|t|</th>  <th>[0.025</th>    <th>0.975]</th>  \n",
       "</tr>\n",
       "<tr>\n",
       "  <th>Intercept</th> <td>    5.1300</td> <td>    0.349</td> <td>   14.682</td> <td> 0.000</td> <td>    4.444</td> <td>    5.816</td>\n",
       "</tr>\n",
       "<tr>\n",
       "  <th>educ_hat</th>  <td>    0.1224</td> <td>    0.026</td> <td>    4.723</td> <td> 0.000</td> <td>    0.072</td> <td>    0.173</td>\n",
       "</tr>\n",
       "</table>\n",
       "<table class=\"simpletable\">\n",
       "<tr>\n",
       "  <th>Omnibus:</th>       <td>22.562</td> <th>  Durbin-Watson:     </th> <td>   1.726</td>\n",
       "</tr>\n",
       "<tr>\n",
       "  <th>Prob(Omnibus):</th> <td> 0.000</td> <th>  Jarque-Bera (JB):  </th> <td>  26.529</td>\n",
       "</tr>\n",
       "<tr>\n",
       "  <th>Skew:</th>          <td>-0.306</td> <th>  Prob(JB):          </th> <td>1.74e-06</td>\n",
       "</tr>\n",
       "<tr>\n",
       "  <th>Kurtosis:</th>      <td> 3.553</td> <th>  Cond. No.          </th> <td>    348.</td>\n",
       "</tr>\n",
       "</table><br/><br/>Notes:<br/>[1] Standard Errors assume that the covariance matrix of the errors is correctly specified."
      ],
      "text/plain": [
       "<class 'statsmodels.iolib.summary.Summary'>\n",
       "\"\"\"\n",
       "                            OLS Regression Results                            \n",
       "==============================================================================\n",
       "Dep. Variable:           np.log(wage)   R-squared:                       0.023\n",
       "Model:                            OLS   Adj. R-squared:                  0.022\n",
       "Method:                 Least Squares   F-statistic:                     22.31\n",
       "Date:                Tue, 29 Nov 2022   Prob (F-statistic):           2.68e-06\n",
       "Time:                        21:49:34   Log-Likelihood:                -506.59\n",
       "No. Observations:                 935   AIC:                             1017.\n",
       "Df Residuals:                     933   BIC:                             1027.\n",
       "Df Model:                           1                                         \n",
       "Covariance Type:            nonrobust                                         \n",
       "==============================================================================\n",
       "                 coef    std err          t      P>|t|      [0.025      0.975]\n",
       "------------------------------------------------------------------------------\n",
       "Intercept      5.1300      0.349     14.682      0.000       4.444       5.816\n",
       "educ_hat       0.1224      0.026      4.723      0.000       0.072       0.173\n",
       "==============================================================================\n",
       "Omnibus:                       22.562   Durbin-Watson:                   1.726\n",
       "Prob(Omnibus):                  0.000   Jarque-Bera (JB):               26.529\n",
       "Skew:                          -0.306   Prob(JB):                     1.74e-06\n",
       "Kurtosis:                       3.553   Cond. No.                         348.\n",
       "==============================================================================\n",
       "\n",
       "Notes:\n",
       "[1] Standard Errors assume that the covariance matrix of the errors is correctly specified.\n",
       "\"\"\""
      ]
     },
     "execution_count": 16,
     "metadata": {},
     "output_type": "execute_result"
    }
   ],
   "source": [
    "stage2 = smf.ols('np.log(wage)~educ_hat', wage).fit()\n",
    "stage2.summary()"
   ]
  },
  {
   "cell_type": "markdown",
   "id": "d0941d41",
   "metadata": {},
   "source": [
    "Compare this with the result from our original regression:"
   ]
  },
  {
   "cell_type": "code",
   "execution_count": 17,
   "id": "88d01a97",
   "metadata": {},
   "outputs": [
    {
     "data": {
      "text/html": [
       "<table class=\"simpletable\">\n",
       "<caption>OLS Regression Results</caption>\n",
       "<tr>\n",
       "  <th>Dep. Variable:</th>      <td>np.log(wage)</td>   <th>  R-squared:         </th> <td>   0.097</td>\n",
       "</tr>\n",
       "<tr>\n",
       "  <th>Model:</th>                   <td>OLS</td>       <th>  Adj. R-squared:    </th> <td>   0.096</td>\n",
       "</tr>\n",
       "<tr>\n",
       "  <th>Method:</th>             <td>Least Squares</td>  <th>  F-statistic:       </th> <td>   100.7</td>\n",
       "</tr>\n",
       "<tr>\n",
       "  <th>Date:</th>             <td>Tue, 29 Nov 2022</td> <th>  Prob (F-statistic):</th> <td>1.42e-22</td>\n",
       "</tr>\n",
       "<tr>\n",
       "  <th>Time:</th>                 <td>21:49:34</td>     <th>  Log-Likelihood:    </th> <td> -469.72</td>\n",
       "</tr>\n",
       "<tr>\n",
       "  <th>No. Observations:</th>      <td>   935</td>      <th>  AIC:               </th> <td>   943.4</td>\n",
       "</tr>\n",
       "<tr>\n",
       "  <th>Df Residuals:</th>          <td>   933</td>      <th>  BIC:               </th> <td>   953.1</td>\n",
       "</tr>\n",
       "<tr>\n",
       "  <th>Df Model:</th>              <td>     1</td>      <th>                     </th>     <td> </td>   \n",
       "</tr>\n",
       "<tr>\n",
       "  <th>Covariance Type:</th>      <td>nonrobust</td>    <th>                     </th>     <td> </td>   \n",
       "</tr>\n",
       "</table>\n",
       "<table class=\"simpletable\">\n",
       "<tr>\n",
       "      <td></td>         <th>coef</th>     <th>std err</th>      <th>t</th>      <th>P>|t|</th>  <th>[0.025</th>    <th>0.975]</th>  \n",
       "</tr>\n",
       "<tr>\n",
       "  <th>Intercept</th> <td>    5.9731</td> <td>    0.081</td> <td>   73.403</td> <td> 0.000</td> <td>    5.813</td> <td>    6.133</td>\n",
       "</tr>\n",
       "<tr>\n",
       "  <th>educ</th>      <td>    0.0598</td> <td>    0.006</td> <td>   10.035</td> <td> 0.000</td> <td>    0.048</td> <td>    0.072</td>\n",
       "</tr>\n",
       "</table>\n",
       "<table class=\"simpletable\">\n",
       "<tr>\n",
       "  <th>Omnibus:</th>       <td>31.006</td> <th>  Durbin-Watson:     </th> <td>   1.779</td>\n",
       "</tr>\n",
       "<tr>\n",
       "  <th>Prob(Omnibus):</th> <td> 0.000</td> <th>  Jarque-Bera (JB):  </th> <td>  37.262</td>\n",
       "</tr>\n",
       "<tr>\n",
       "  <th>Skew:</th>          <td>-0.375</td> <th>  Prob(JB):          </th> <td>8.10e-09</td>\n",
       "</tr>\n",
       "<tr>\n",
       "  <th>Kurtosis:</th>      <td> 3.627</td> <th>  Cond. No.          </th> <td>    85.3</td>\n",
       "</tr>\n",
       "</table><br/><br/>Notes:<br/>[1] Standard Errors assume that the covariance matrix of the errors is correctly specified."
      ],
      "text/plain": [
       "<class 'statsmodels.iolib.summary.Summary'>\n",
       "\"\"\"\n",
       "                            OLS Regression Results                            \n",
       "==============================================================================\n",
       "Dep. Variable:           np.log(wage)   R-squared:                       0.097\n",
       "Model:                            OLS   Adj. R-squared:                  0.096\n",
       "Method:                 Least Squares   F-statistic:                     100.7\n",
       "Date:                Tue, 29 Nov 2022   Prob (F-statistic):           1.42e-22\n",
       "Time:                        21:49:34   Log-Likelihood:                -469.72\n",
       "No. Observations:                 935   AIC:                             943.4\n",
       "Df Residuals:                     933   BIC:                             953.1\n",
       "Df Model:                           1                                         \n",
       "Covariance Type:            nonrobust                                         \n",
       "==============================================================================\n",
       "                 coef    std err          t      P>|t|      [0.025      0.975]\n",
       "------------------------------------------------------------------------------\n",
       "Intercept      5.9731      0.081     73.403      0.000       5.813       6.133\n",
       "educ           0.0598      0.006     10.035      0.000       0.048       0.072\n",
       "==============================================================================\n",
       "Omnibus:                       31.006   Durbin-Watson:                   1.779\n",
       "Prob(Omnibus):                  0.000   Jarque-Bera (JB):               37.262\n",
       "Skew:                          -0.375   Prob(JB):                     8.10e-09\n",
       "Kurtosis:                       3.627   Cond. No.                         85.3\n",
       "==============================================================================\n",
       "\n",
       "Notes:\n",
       "[1] Standard Errors assume that the covariance matrix of the errors is correctly specified.\n",
       "\"\"\""
      ]
     },
     "execution_count": 17,
     "metadata": {},
     "output_type": "execute_result"
    }
   ],
   "source": [
    "ols1 = smf.ols('np.log(wage)~educ', wage).fit()\n",
    "ols1.summary()"
   ]
  },
  {
   "cell_type": "markdown",
   "id": "1ac16dc8",
   "metadata": {},
   "source": [
    "The IV estimation is significantly higher, which perhaps goes against our intuition. It is possible that sibs was not a good candidate as an instrumental variable."
   ]
  },
  {
   "cell_type": "markdown",
   "id": "f11cdf2f",
   "metadata": {},
   "source": [
    "### IV statsmodels"
   ]
  },
  {
   "cell_type": "markdown",
   "id": "18d68a31",
   "metadata": {},
   "source": [
    "The linearmodels module offers the IV2SLS function to implement IV. "
   ]
  },
  {
   "cell_type": "markdown",
   "id": "ccb407d6",
   "metadata": {},
   "source": [
    "We specify a simple IV formula as 'y ~ 1 + [endogenous_variable ~ instrument]'"
   ]
  },
  {
   "cell_type": "code",
   "execution_count": 18,
   "id": "80ded2ec",
   "metadata": {},
   "outputs": [
    {
     "data": {
      "text/html": [
       "<table class=\"simpletable\">\n",
       "<caption>IV-2SLS Estimation Summary</caption>\n",
       "<tr>\n",
       "  <th>Dep. Variable:</th>      <td>np.log(wage)</td>   <th>  R-squared:         </th> <td>-0.0092</td>\n",
       "</tr>\n",
       "<tr>\n",
       "  <th>Estimator:</th>             <td>IV-2SLS</td>     <th>  Adj. R-squared:    </th> <td>-0.0103</td>\n",
       "</tr>\n",
       "<tr>\n",
       "  <th>No. Observations:</th>        <td>935</td>       <th>  F-statistic:       </th> <td>21.634</td> \n",
       "</tr>\n",
       "<tr>\n",
       "  <th>Date:</th>             <td>Tue, Nov 29 2022</td> <th>  P-value (F-stat)   </th> <td>0.0000</td> \n",
       "</tr>\n",
       "<tr>\n",
       "  <th>Time:</th>                 <td>21:49:35</td>     <th>  Distribution:      </th> <td>chi2(1)</td>\n",
       "</tr>\n",
       "<tr>\n",
       "  <th>Cov. Estimator:</th>      <td>unadjusted</td>    <th>                     </th>    <td></td>    \n",
       "</tr>\n",
       "<tr>\n",
       "  <th></th>                          <td></td>         <th>                     </th>    <td></td>    \n",
       "</tr>\n",
       "</table>\n",
       "<table class=\"simpletable\">\n",
       "<caption>Parameter Estimates</caption>\n",
       "<tr>\n",
       "      <td></td>      <th>Parameter</th> <th>Std. Err.</th> <th>T-stat</th> <th>P-value</th> <th>Lower CI</th> <th>Upper CI</th>\n",
       "</tr>\n",
       "<tr>\n",
       "  <th>Intercept</th>  <td>5.1300</td>    <td>0.3548</td>   <td>14.459</td> <td>0.0000</td>   <td>4.4346</td>   <td>5.8254</td> \n",
       "</tr>\n",
       "<tr>\n",
       "  <th>educ</th>       <td>0.1224</td>    <td>0.0263</td>   <td>4.6513</td> <td>0.0000</td>   <td>0.0708</td>   <td>0.1740</td> \n",
       "</tr>\n",
       "</table><br/><br/>Endogenous: educ<br/>Instruments: sibs<br/>Unadjusted Covariance (Homoskedastic)<br/>Debiased: False<br/>id: 0x7fbfaad75f40"
      ],
      "text/plain": [
       "                          IV-2SLS Estimation Summary                          \n",
       "==============================================================================\n",
       "Dep. Variable:           np.log(wage)   R-squared:                     -0.0092\n",
       "Estimator:                    IV-2SLS   Adj. R-squared:                -0.0103\n",
       "No. Observations:                 935   F-statistic:                    21.634\n",
       "Date:                Tue, Nov 29 2022   P-value (F-stat)                0.0000\n",
       "Time:                        21:49:35   Distribution:                  chi2(1)\n",
       "Cov. Estimator:            unadjusted                                         \n",
       "                                                                              \n",
       "                             Parameter Estimates                              \n",
       "==============================================================================\n",
       "            Parameter  Std. Err.     T-stat    P-value    Lower CI    Upper CI\n",
       "------------------------------------------------------------------------------\n",
       "Intercept      5.1300     0.3548     14.459     0.0000      4.4346      5.8254\n",
       "educ           0.1224     0.0263     4.6513     0.0000      0.0708      0.1740\n",
       "==============================================================================\n",
       "\n",
       "Endogenous: educ\n",
       "Instruments: sibs\n",
       "Unadjusted Covariance (Homoskedastic)\n",
       "Debiased: False\n",
       "IVResults, id: 0x7fbfaad75f40"
      ]
     },
     "execution_count": 18,
     "metadata": {},
     "output_type": "execute_result"
    }
   ],
   "source": [
    "from linearmodels import iv\n",
    "model =iv.IV2SLS.from_formula('np.log(wage) ~ 1 + [educ ~ sibs]', wage)\n",
    "miv = model.fit(cov_type = 'unadjusted')\n",
    "miv"
   ]
  },
  {
   "cell_type": "markdown",
   "id": "9529ba96",
   "metadata": {},
   "source": [
    "## IV with additional exogenous regressors"
   ]
  },
  {
   "cell_type": "markdown",
   "id": "8c6d0a70",
   "metadata": {},
   "source": [
    "If you want to include additiopnal exogenous regressors in a regression, the exogenous regressors and the instrument are included in the first stage. During the second stage we include the exogenous regressors and the fitted values from the previous regression, but not the instrument as before."
   ]
  },
  {
   "cell_type": "code",
   "execution_count": 19,
   "id": "ccdec92b",
   "metadata": {},
   "outputs": [
    {
     "data": {
      "text/html": [
       "<table class=\"simpletable\">\n",
       "<caption>OLS Regression Results</caption>\n",
       "<tr>\n",
       "  <th>Dep. Variable:</th>          <td>educ</td>       <th>  R-squared:         </th> <td>   0.252</td>\n",
       "</tr>\n",
       "<tr>\n",
       "  <th>Model:</th>                   <td>OLS</td>       <th>  Adj. R-squared:    </th> <td>   0.250</td>\n",
       "</tr>\n",
       "<tr>\n",
       "  <th>Method:</th>             <td>Least Squares</td>  <th>  F-statistic:       </th> <td>   104.5</td>\n",
       "</tr>\n",
       "<tr>\n",
       "  <th>Date:</th>             <td>Tue, 29 Nov 2022</td> <th>  Prob (F-statistic):</th> <td>2.48e-58</td>\n",
       "</tr>\n",
       "<tr>\n",
       "  <th>Time:</th>                 <td>21:49:35</td>     <th>  Log-Likelihood:    </th> <td> -1926.3</td>\n",
       "</tr>\n",
       "<tr>\n",
       "  <th>No. Observations:</th>      <td>   935</td>      <th>  AIC:               </th> <td>   3861.</td>\n",
       "</tr>\n",
       "<tr>\n",
       "  <th>Df Residuals:</th>          <td>   931</td>      <th>  BIC:               </th> <td>   3880.</td>\n",
       "</tr>\n",
       "<tr>\n",
       "  <th>Df Model:</th>              <td>     3</td>      <th>                     </th>     <td> </td>   \n",
       "</tr>\n",
       "<tr>\n",
       "  <th>Covariance Type:</th>      <td>nonrobust</td>    <th>                     </th>     <td> </td>   \n",
       "</tr>\n",
       "</table>\n",
       "<table class=\"simpletable\">\n",
       "<tr>\n",
       "      <td></td>         <th>coef</th>     <th>std err</th>      <th>t</th>      <th>P>|t|</th>  <th>[0.025</th>    <th>0.975]</th>  \n",
       "</tr>\n",
       "<tr>\n",
       "  <th>Intercept</th> <td>   16.6983</td> <td>    0.250</td> <td>   66.726</td> <td> 0.000</td> <td>   16.207</td> <td>   17.189</td>\n",
       "</tr>\n",
       "<tr>\n",
       "  <th>sibs</th>      <td>   -0.2010</td> <td>    0.027</td> <td>   -7.428</td> <td> 0.000</td> <td>   -0.254</td> <td>   -0.148</td>\n",
       "</tr>\n",
       "<tr>\n",
       "  <th>exper</th>     <td>   -0.2213</td> <td>    0.014</td> <td>  -15.425</td> <td> 0.000</td> <td>   -0.249</td> <td>   -0.193</td>\n",
       "</tr>\n",
       "<tr>\n",
       "  <th>married</th>   <td>   -0.0896</td> <td>    0.203</td> <td>   -0.443</td> <td> 0.658</td> <td>   -0.487</td> <td>    0.308</td>\n",
       "</tr>\n",
       "</table>\n",
       "<table class=\"simpletable\">\n",
       "<tr>\n",
       "  <th>Omnibus:</th>       <td>33.043</td> <th>  Durbin-Watson:     </th> <td>   1.841</td>\n",
       "</tr>\n",
       "<tr>\n",
       "  <th>Prob(Omnibus):</th> <td> 0.000</td> <th>  Jarque-Bera (JB):  </th> <td>  29.498</td>\n",
       "</tr>\n",
       "<tr>\n",
       "  <th>Skew:</th>          <td> 0.374</td> <th>  Prob(JB):          </th> <td>3.93e-07</td>\n",
       "</tr>\n",
       "<tr>\n",
       "  <th>Kurtosis:</th>      <td> 2.556</td> <th>  Cond. No.          </th> <td>    60.4</td>\n",
       "</tr>\n",
       "</table><br/><br/>Notes:<br/>[1] Standard Errors assume that the covariance matrix of the errors is correctly specified."
      ],
      "text/plain": [
       "<class 'statsmodels.iolib.summary.Summary'>\n",
       "\"\"\"\n",
       "                            OLS Regression Results                            \n",
       "==============================================================================\n",
       "Dep. Variable:                   educ   R-squared:                       0.252\n",
       "Model:                            OLS   Adj. R-squared:                  0.250\n",
       "Method:                 Least Squares   F-statistic:                     104.5\n",
       "Date:                Tue, 29 Nov 2022   Prob (F-statistic):           2.48e-58\n",
       "Time:                        21:49:35   Log-Likelihood:                -1926.3\n",
       "No. Observations:                 935   AIC:                             3861.\n",
       "Df Residuals:                     931   BIC:                             3880.\n",
       "Df Model:                           3                                         \n",
       "Covariance Type:            nonrobust                                         \n",
       "==============================================================================\n",
       "                 coef    std err          t      P>|t|      [0.025      0.975]\n",
       "------------------------------------------------------------------------------\n",
       "Intercept     16.6983      0.250     66.726      0.000      16.207      17.189\n",
       "sibs          -0.2010      0.027     -7.428      0.000      -0.254      -0.148\n",
       "exper         -0.2213      0.014    -15.425      0.000      -0.249      -0.193\n",
       "married       -0.0896      0.203     -0.443      0.658      -0.487       0.308\n",
       "==============================================================================\n",
       "Omnibus:                       33.043   Durbin-Watson:                   1.841\n",
       "Prob(Omnibus):                  0.000   Jarque-Bera (JB):               29.498\n",
       "Skew:                           0.374   Prob(JB):                     3.93e-07\n",
       "Kurtosis:                       2.556   Cond. No.                         60.4\n",
       "==============================================================================\n",
       "\n",
       "Notes:\n",
       "[1] Standard Errors assume that the covariance matrix of the errors is correctly specified.\n",
       "\"\"\""
      ]
     },
     "execution_count": 19,
     "metadata": {},
     "output_type": "execute_result"
    }
   ],
   "source": [
    "stage1 = smf.ols('educ~sibs + exper + married', wage).fit()\n",
    "stage1.summary()"
   ]
  },
  {
   "cell_type": "markdown",
   "id": "473b0fa7",
   "metadata": {},
   "source": [
    "Note the very high F-statistic, this is a good sign that we have a strong instrument in our regression that is correlated with our endogenous variable."
   ]
  },
  {
   "cell_type": "code",
   "execution_count": 20,
   "id": "5cac9a4e",
   "metadata": {},
   "outputs": [],
   "source": [
    "wage[\"educ_hat\"] = stage1.fittedvalues"
   ]
  },
  {
   "cell_type": "code",
   "execution_count": 21,
   "id": "29e24e1c",
   "metadata": {},
   "outputs": [
    {
     "data": {
      "text/html": [
       "<table class=\"simpletable\">\n",
       "<caption>OLS Regression Results</caption>\n",
       "<tr>\n",
       "  <th>Dep. Variable:</th>      <td>np.log(wage)</td>   <th>  R-squared:         </th> <td>   0.046</td>\n",
       "</tr>\n",
       "<tr>\n",
       "  <th>Model:</th>                   <td>OLS</td>       <th>  Adj. R-squared:    </th> <td>   0.043</td>\n",
       "</tr>\n",
       "<tr>\n",
       "  <th>Method:</th>             <td>Least Squares</td>  <th>  F-statistic:       </th> <td>   14.92</td>\n",
       "</tr>\n",
       "<tr>\n",
       "  <th>Date:</th>             <td>Tue, 29 Nov 2022</td> <th>  Prob (F-statistic):</th> <td>1.72e-09</td>\n",
       "</tr>\n",
       "<tr>\n",
       "  <th>Time:</th>                 <td>21:49:35</td>     <th>  Log-Likelihood:    </th> <td> -495.69</td>\n",
       "</tr>\n",
       "<tr>\n",
       "  <th>No. Observations:</th>      <td>   935</td>      <th>  AIC:               </th> <td>   999.4</td>\n",
       "</tr>\n",
       "<tr>\n",
       "  <th>Df Residuals:</th>          <td>   931</td>      <th>  BIC:               </th> <td>   1019.</td>\n",
       "</tr>\n",
       "<tr>\n",
       "  <th>Df Model:</th>              <td>     3</td>      <th>                     </th>     <td> </td>   \n",
       "</tr>\n",
       "<tr>\n",
       "  <th>Covariance Type:</th>      <td>nonrobust</td>    <th>                     </th>     <td> </td>   \n",
       "</tr>\n",
       "</table>\n",
       "<table class=\"simpletable\">\n",
       "<tr>\n",
       "      <td></td>         <th>coef</th>     <th>std err</th>      <th>t</th>      <th>P>|t|</th>  <th>[0.025</th>    <th>0.975]</th>  \n",
       "</tr>\n",
       "<tr>\n",
       "  <th>Intercept</th> <td>    4.3420</td> <td>    0.474</td> <td>    9.155</td> <td> 0.000</td> <td>    3.411</td> <td>    5.273</td>\n",
       "</tr>\n",
       "<tr>\n",
       "  <th>educ_hat</th>  <td>    0.1391</td> <td>    0.029</td> <td>    4.773</td> <td> 0.000</td> <td>    0.082</td> <td>    0.196</td>\n",
       "</tr>\n",
       "<tr>\n",
       "  <th>exper</th>     <td>    0.0322</td> <td>    0.007</td> <td>    4.388</td> <td> 0.000</td> <td>    0.018</td> <td>    0.047</td>\n",
       "</tr>\n",
       "<tr>\n",
       "  <th>married</th>   <td>    0.2137</td> <td>    0.044</td> <td>    4.868</td> <td> 0.000</td> <td>    0.128</td> <td>    0.300</td>\n",
       "</tr>\n",
       "</table>\n",
       "<table class=\"simpletable\">\n",
       "<tr>\n",
       "  <th>Omnibus:</th>       <td>24.289</td> <th>  Durbin-Watson:     </th> <td>   1.696</td>\n",
       "</tr>\n",
       "<tr>\n",
       "  <th>Prob(Omnibus):</th> <td> 0.000</td> <th>  Jarque-Bera (JB):  </th> <td>  30.579</td>\n",
       "</tr>\n",
       "<tr>\n",
       "  <th>Skew:</th>          <td>-0.298</td> <th>  Prob(JB):          </th> <td>2.29e-07</td>\n",
       "</tr>\n",
       "<tr>\n",
       "  <th>Kurtosis:</th>      <td> 3.655</td> <th>  Cond. No.          </th> <td>    632.</td>\n",
       "</tr>\n",
       "</table><br/><br/>Notes:<br/>[1] Standard Errors assume that the covariance matrix of the errors is correctly specified."
      ],
      "text/plain": [
       "<class 'statsmodels.iolib.summary.Summary'>\n",
       "\"\"\"\n",
       "                            OLS Regression Results                            \n",
       "==============================================================================\n",
       "Dep. Variable:           np.log(wage)   R-squared:                       0.046\n",
       "Model:                            OLS   Adj. R-squared:                  0.043\n",
       "Method:                 Least Squares   F-statistic:                     14.92\n",
       "Date:                Tue, 29 Nov 2022   Prob (F-statistic):           1.72e-09\n",
       "Time:                        21:49:35   Log-Likelihood:                -495.69\n",
       "No. Observations:                 935   AIC:                             999.4\n",
       "Df Residuals:                     931   BIC:                             1019.\n",
       "Df Model:                           3                                         \n",
       "Covariance Type:            nonrobust                                         \n",
       "==============================================================================\n",
       "                 coef    std err          t      P>|t|      [0.025      0.975]\n",
       "------------------------------------------------------------------------------\n",
       "Intercept      4.3420      0.474      9.155      0.000       3.411       5.273\n",
       "educ_hat       0.1391      0.029      4.773      0.000       0.082       0.196\n",
       "exper          0.0322      0.007      4.388      0.000       0.018       0.047\n",
       "married        0.2137      0.044      4.868      0.000       0.128       0.300\n",
       "==============================================================================\n",
       "Omnibus:                       24.289   Durbin-Watson:                   1.696\n",
       "Prob(Omnibus):                  0.000   Jarque-Bera (JB):               30.579\n",
       "Skew:                          -0.298   Prob(JB):                     2.29e-07\n",
       "Kurtosis:                       3.655   Cond. No.                         632.\n",
       "==============================================================================\n",
       "\n",
       "Notes:\n",
       "[1] Standard Errors assume that the covariance matrix of the errors is correctly specified.\n",
       "\"\"\""
      ]
     },
     "execution_count": 21,
     "metadata": {},
     "output_type": "execute_result"
    }
   ],
   "source": [
    "stage2 = smf.ols('np.log(wage)~educ_hat + exper + married', wage).fit()\n",
    "stage2.summary()"
   ]
  },
  {
   "cell_type": "code",
   "execution_count": 30,
   "id": "e6cfd96a",
   "metadata": {},
   "outputs": [
    {
     "data": {
      "text/html": [
       "<table class=\"simpletable\">\n",
       "<caption>IV-2SLS Estimation Summary</caption>\n",
       "<tr>\n",
       "  <th>Dep. Variable:</th>      <td>np.log(wage)</td>   <th>  R-squared:         </th> <td>0.1072</td> \n",
       "</tr>\n",
       "<tr>\n",
       "  <th>Estimator:</th>             <td>IV-2SLS</td>     <th>  Adj. R-squared:    </th> <td>0.1032</td> \n",
       "</tr>\n",
       "<tr>\n",
       "  <th>No. Observations:</th>        <td>663</td>       <th>  F-statistic:       </th> <td>30.132</td> \n",
       "</tr>\n",
       "<tr>\n",
       "  <th>Date:</th>             <td>Tue, Nov 29 2022</td> <th>  P-value (F-stat)   </th> <td>0.0000</td> \n",
       "</tr>\n",
       "<tr>\n",
       "  <th>Time:</th>                 <td>23:07:21</td>     <th>  Distribution:      </th> <td>chi2(3)</td>\n",
       "</tr>\n",
       "<tr>\n",
       "  <th>Cov. Estimator:</th>      <td>unadjusted</td>    <th>                     </th>    <td></td>    \n",
       "</tr>\n",
       "<tr>\n",
       "  <th></th>                          <td></td>         <th>                     </th>    <td></td>    \n",
       "</tr>\n",
       "</table>\n",
       "<table class=\"simpletable\">\n",
       "<caption>Parameter Estimates</caption>\n",
       "<tr>\n",
       "      <td></td>      <th>Parameter</th> <th>Std. Err.</th> <th>T-stat</th> <th>P-value</th> <th>Lower CI</th> <th>Upper CI</th>\n",
       "</tr>\n",
       "<tr>\n",
       "  <th>Intercept</th>  <td>4.4709</td>    <td>0.5860</td>   <td>7.6293</td> <td>0.0000</td>   <td>3.3223</td>   <td>5.6194</td> \n",
       "</tr>\n",
       "<tr>\n",
       "  <th>exper</th>      <td>0.0327</td>    <td>0.0091</td>   <td>3.6054</td> <td>0.0003</td>   <td>0.0149</td>   <td>0.0505</td> \n",
       "</tr>\n",
       "<tr>\n",
       "  <th>married</th>    <td>0.2131</td>    <td>0.0508</td>   <td>4.1914</td> <td>0.0000</td>   <td>0.1134</td>   <td>0.3127</td> \n",
       "</tr>\n",
       "<tr>\n",
       "  <th>educ</th>       <td>0.1300</td>    <td>0.0354</td>   <td>3.6683</td> <td>0.0002</td>   <td>0.0605</td>   <td>0.1995</td> \n",
       "</tr>\n",
       "</table><br/><br/>Endogenous: educ<br/>Instruments: sibs<br/>Unadjusted Covariance (Homoskedastic)<br/>Debiased: False<br/>id: 0x7fbf580c2a60"
      ],
      "text/plain": [
       "                          IV-2SLS Estimation Summary                          \n",
       "==============================================================================\n",
       "Dep. Variable:           np.log(wage)   R-squared:                      0.1072\n",
       "Estimator:                    IV-2SLS   Adj. R-squared:                 0.1032\n",
       "No. Observations:                 663   F-statistic:                    30.132\n",
       "Date:                Tue, Nov 29 2022   P-value (F-stat)                0.0000\n",
       "Time:                        23:07:21   Distribution:                  chi2(3)\n",
       "Cov. Estimator:            unadjusted                                         \n",
       "                                                                              \n",
       "                             Parameter Estimates                              \n",
       "==============================================================================\n",
       "            Parameter  Std. Err.     T-stat    P-value    Lower CI    Upper CI\n",
       "------------------------------------------------------------------------------\n",
       "Intercept      4.4709     0.5860     7.6293     0.0000      3.3223      5.6194\n",
       "exper          0.0327     0.0091     3.6054     0.0003      0.0149      0.0505\n",
       "married        0.2131     0.0508     4.1914     0.0000      0.1134      0.3127\n",
       "educ           0.1300     0.0354     3.6683     0.0002      0.0605      0.1995\n",
       "==============================================================================\n",
       "\n",
       "Endogenous: educ\n",
       "Instruments: sibs\n",
       "Unadjusted Covariance (Homoskedastic)\n",
       "Debiased: False\n",
       "IVResults, id: 0x7fbf580c2a60"
      ]
     },
     "execution_count": 30,
     "metadata": {},
     "output_type": "execute_result"
    }
   ],
   "source": [
    "model = iv.IV2SLS.from_formula('np.log(wage) ~ 1 + exper + married +[educ ~ sibs]', wage)\n",
    "model.fit(cov_type = 'unadjusted')"
   ]
  },
  {
   "cell_type": "code",
   "execution_count": 23,
   "id": "37a1237e",
   "metadata": {},
   "outputs": [],
   "source": [
    "wage.dropna(inplace = True)"
   ]
  },
  {
   "cell_type": "code",
   "execution_count": 24,
   "id": "3f7cb014",
   "metadata": {},
   "outputs": [
    {
     "data": {
      "text/html": [
       "<table class=\"simpletable\">\n",
       "<caption>IV-2SLS Estimation Summary</caption>\n",
       "<tr>\n",
       "  <th>Dep. Variable:</th>      <td>np.log(wage)</td>   <th>  R-squared:         </th> <td>0.0953</td> \n",
       "</tr>\n",
       "<tr>\n",
       "  <th>Estimator:</th>             <td>IV-2SLS</td>     <th>  Adj. R-squared:    </th> <td>0.0912</td> \n",
       "</tr>\n",
       "<tr>\n",
       "  <th>No. Observations:</th>        <td>663</td>       <th>  F-statistic:       </th> <td>64.947</td> \n",
       "</tr>\n",
       "<tr>\n",
       "  <th>Date:</th>             <td>Tue, Nov 29 2022</td> <th>  P-value (F-stat)   </th> <td>0.0000</td> \n",
       "</tr>\n",
       "<tr>\n",
       "  <th>Time:</th>                 <td>21:49:35</td>     <th>  Distribution:      </th> <td>chi2(3)</td>\n",
       "</tr>\n",
       "<tr>\n",
       "  <th>Cov. Estimator:</th>      <td>unadjusted</td>    <th>                     </th>    <td></td>    \n",
       "</tr>\n",
       "<tr>\n",
       "  <th></th>                          <td></td>         <th>                     </th>    <td></td>    \n",
       "</tr>\n",
       "</table>\n",
       "<table class=\"simpletable\">\n",
       "<caption>Parameter Estimates</caption>\n",
       "<tr>\n",
       "      <td></td>      <th>Parameter</th> <th>Std. Err.</th> <th>T-stat</th> <th>P-value</th> <th>Lower CI</th> <th>Upper CI</th>\n",
       "</tr>\n",
       "<tr>\n",
       "  <th>Intercept</th>  <td>4.6198</td>    <td>0.8794</td>   <td>5.2535</td> <td>0.0000</td>   <td>2.8962</td>   <td>6.3434</td> \n",
       "</tr>\n",
       "<tr>\n",
       "  <th>married</th>    <td>0.2300</td>    <td>0.0615</td>   <td>3.7407</td> <td>0.0002</td>   <td>0.1095</td>   <td>0.3504</td> \n",
       "</tr>\n",
       "<tr>\n",
       "  <th>educ</th>       <td>0.1284</td>    <td>0.0386</td>   <td>3.3299</td> <td>0.0009</td>   <td>0.0528</td>   <td>0.2040</td> \n",
       "</tr>\n",
       "<tr>\n",
       "  <th>exper</th>      <td>0.0202</td>    <td>0.0349</td>   <td>0.5787</td> <td>0.5628</td>   <td>-0.0482</td>  <td>0.0887</td> \n",
       "</tr>\n",
       "</table><br/><br/>Endogenous: educ, exper<br/>Instruments: feduc, sibs<br/>Unadjusted Covariance (Homoskedastic)<br/>Debiased: False<br/>id: 0x7fbf9b792e80"
      ],
      "text/plain": [
       "                          IV-2SLS Estimation Summary                          \n",
       "==============================================================================\n",
       "Dep. Variable:           np.log(wage)   R-squared:                      0.0953\n",
       "Estimator:                    IV-2SLS   Adj. R-squared:                 0.0912\n",
       "No. Observations:                 663   F-statistic:                    64.947\n",
       "Date:                Tue, Nov 29 2022   P-value (F-stat)                0.0000\n",
       "Time:                        21:49:35   Distribution:                  chi2(3)\n",
       "Cov. Estimator:            unadjusted                                         \n",
       "                                                                              \n",
       "                             Parameter Estimates                              \n",
       "==============================================================================\n",
       "            Parameter  Std. Err.     T-stat    P-value    Lower CI    Upper CI\n",
       "------------------------------------------------------------------------------\n",
       "Intercept      4.6198     0.8794     5.2535     0.0000      2.8962      6.3434\n",
       "married        0.2300     0.0615     3.7407     0.0002      0.1095      0.3504\n",
       "educ           0.1284     0.0386     3.3299     0.0009      0.0528      0.2040\n",
       "exper          0.0202     0.0349     0.5787     0.5628     -0.0482      0.0887\n",
       "==============================================================================\n",
       "\n",
       "Endogenous: educ, exper\n",
       "Instruments: feduc, sibs\n",
       "Unadjusted Covariance (Homoskedastic)\n",
       "Debiased: False\n",
       "IVResults, id: 0x7fbf9b792e80"
      ]
     },
     "execution_count": 24,
     "metadata": {},
     "output_type": "execute_result"
    }
   ],
   "source": [
    "model = iv.IV2SLS.from_formula('np.log(wage) ~ 1 + married + [educ + exper ~ sibs+ feduc]', wage)\n",
    "model.fit(cov_type = 'unadjusted')"
   ]
  },
  {
   "cell_type": "markdown",
   "id": "c16ef103",
   "metadata": {},
   "source": [
    "Note that"
   ]
  },
  {
   "cell_type": "code",
   "execution_count": 25,
   "id": "a968f1a3",
   "metadata": {},
   "outputs": [
    {
     "data": {
      "text/plain": [
       "0      172.5\n",
       "2      589.0\n",
       "3      465.0\n",
       "4      349.5\n",
       "6      172.5\n",
       "       ...  \n",
       "924    172.5\n",
       "925    172.5\n",
       "928    101.5\n",
       "929    625.0\n",
       "931     67.0\n",
       "Name: feduc, Length: 663, dtype: float64"
      ]
     },
     "execution_count": 25,
     "metadata": {},
     "output_type": "execute_result"
    }
   ],
   "source": [
    "wage.feduc.rank()"
   ]
  },
  {
   "cell_type": "markdown",
   "id": "83448e0a",
   "metadata": {},
   "source": [
    "Noet that it **is** possible to include multiple endogenous variables and multiple instruments. In order for this estimation you must have at least one instrument per endogneous variable. The regression is specified as thus:"
   ]
  },
  {
   "cell_type": "code",
   "execution_count": 26,
   "id": "1a4ccd94",
   "metadata": {},
   "outputs": [
    {
     "ename": "SyntaxError",
     "evalue": "invalid syntax (1403511168.py, line 1)",
     "output_type": "error",
     "traceback": [
      "\u001b[0;36m  Input \u001b[0;32mIn [26]\u001b[0;36m\u001b[0m\n\u001b[0;31m    y ~ 1 + x1 + x2 + x3  + [ x4 + x5 ~ z1 + z2 + z3]\u001b[0m\n\u001b[0m      ^\u001b[0m\n\u001b[0;31mSyntaxError\u001b[0m\u001b[0;31m:\u001b[0m invalid syntax\n"
     ]
    }
   ],
   "source": [
    "y ~ 1 + x1 + x2 + x3  + [ x4 + x5 ~ z1 + z2 + z3]"
   ]
  },
  {
   "cell_type": "markdown",
   "id": "0c576b22",
   "metadata": {},
   "source": [
    "How many endogenous variables are there? How many instruments? How many exogenous variables?"
   ]
  },
  {
   "cell_type": "markdown",
   "id": "85391023",
   "metadata": {},
   "source": [
    "The algorithm is as follows:\n",
    "- Regress each endogenous variable on all instruments and endogenous variables and save the fitted values for each regression.\n",
    "- Regress the dependent variable on the fitted values and the exogenous variables"
   ]
  },
  {
   "cell_type": "markdown",
   "id": "4f7f7b3f",
   "metadata": {},
   "source": [
    "## Weak Instrument test"
   ]
  },
  {
   "cell_type": "markdown",
   "id": "a03f0857",
   "metadata": {},
   "source": [
    "We can run a t or an f-test (if we have more than one instrument) to check if we have strong instruments"
   ]
  },
  {
   "cell_type": "code",
   "execution_count": null,
   "id": "a9c8d75f",
   "metadata": {},
   "outputs": [],
   "source": [
    "stage1.summary()"
   ]
  },
  {
   "cell_type": "code",
   "execution_count": null,
   "id": "a31c7972",
   "metadata": {},
   "outputs": [],
   "source": [
    "hypothesis = ['sibs = 0']\n",
    "stage1.f_test(hypothesis)"
   ]
  },
  {
   "cell_type": "markdown",
   "id": "dd614579",
   "metadata": {},
   "source": [
    "### Hausman Endogeneity Test"
   ]
  },
  {
   "cell_type": "markdown",
   "id": "28ac8cbe",
   "metadata": {},
   "source": [
    "IV estimation can potentially worsen our estimates, so it is important that we only use it when we have a problem of endogenity. We can design a test that will check the null hypotheis of whether:\n",
    "\n",
    "$$H_0: Cov(x,e) = 0$$\n",
    "\n",
    "IF we reject the null, then there is endogeneity and IV is appropriate."
   ]
  },
  {
   "cell_type": "code",
   "execution_count": null,
   "id": "70b35e9c",
   "metadata": {},
   "outputs": [],
   "source": [
    "miv"
   ]
  },
  {
   "cell_type": "code",
   "execution_count": null,
   "id": "55db0454",
   "metadata": {},
   "outputs": [],
   "source": []
  },
  {
   "cell_type": "code",
   "execution_count": null,
   "id": "40c39464",
   "metadata": {},
   "outputs": [],
   "source": [
    "wage = woo.data(\"WAGE2\")"
   ]
  },
  {
   "cell_type": "code",
   "execution_count": 31,
   "id": "58714a0a",
   "metadata": {},
   "outputs": [
    {
     "data": {
      "text/plain": [
       "(3.822754951853605, 0.050561040227104295, 1)"
      ]
     },
     "execution_count": 31,
     "metadata": {},
     "output_type": "execute_result"
    }
   ],
   "source": [
    "# the statsmodels implementation of IV has a hausman test method\n",
    "from statsmodels.sandbox.regression.gmm import IV2SLS as ivs\n",
    "\n",
    "# interecpt is not automatically included, so it must be added\n",
    "wage[\"intercept\"] = 1\n",
    "\n",
    "miv = ivs(endog = np.log(wage.wage),\n",
    "         exog = wage[[\"intercept\", \"educ\"]],\n",
    "         instrument = wage[[\"intercept\",\"sibs\"]]).fit()\n",
    "\n",
    "# results are test statistic, p value, DOF\n",
    "miv.spec_hausman()"
   ]
  },
  {
   "cell_type": "code",
   "execution_count": null,
   "id": "d269062e",
   "metadata": {},
   "outputs": [],
   "source": [
    "miv.summary()"
   ]
  },
  {
   "cell_type": "markdown",
   "id": "70350245",
   "metadata": {},
   "source": [
    "The hausman test regresses the dependent variable on the potentially endogenous variable as well as the residuals from the first stage regression. If the coefficient for the residuals is statistically significant then we would say that we likely have an endogeneity problem."
   ]
  },
  {
   "cell_type": "code",
   "execution_count": null,
   "id": "c164f494",
   "metadata": {},
   "outputs": [],
   "source": []
  },
  {
   "cell_type": "markdown",
   "id": "4998fdde",
   "metadata": {},
   "source": [
    "What do we conclude?"
   ]
  },
  {
   "cell_type": "code",
   "execution_count": null,
   "id": "0c3f99ac",
   "metadata": {},
   "outputs": [],
   "source": [
    "wage.dropna(inplace = True)"
   ]
  },
  {
   "cell_type": "code",
   "execution_count": null,
   "id": "9eeb3854",
   "metadata": {},
   "outputs": [],
   "source": [
    "zwage[\"intercept\"] = 1\n",
    "miv2 = ivs(endog = np.log(wage.wage),\n",
    "         exog = wage[[\"intercept\", \"educ\"]],\n",
    "         instrument = wage[[\"intercept\",\"sibs\", \"feduc\"]]).fit()"
   ]
  },
  {
   "cell_type": "code",
   "execution_count": null,
   "id": "6fa5ec3e",
   "metadata": {},
   "outputs": [],
   "source": [
    "miv2.sargan()"
   ]
  },
  {
   "cell_type": "code",
   "execution_count": null,
   "id": "02deb0d5",
   "metadata": {},
   "outputs": [],
   "source": [
    "model = iv.IV2SLS.from_formula('np.log(wage) ~ 1 + exper + married [educ ~ sibs+feduc]', wage)\n",
    "model.fit()"
   ]
  },
  {
   "cell_type": "code",
   "execution_count": null,
   "id": "c2406675",
   "metadata": {},
   "outputs": [],
   "source": [
    "model_iv = iv.IV2SLS.from_formula('np.log(wage) ~ 1 + exper + married [educ ~ sibs + feduc]',\n",
    "                                  wage)\n",
    "iv2 = model_iv.fit()\n",
    "print(iv2.summary)\n",
    "print(iv2.sargan)"
   ]
  },
  {
   "cell_type": "markdown",
   "id": "e2c27a01",
   "metadata": {},
   "source": [
    "We can only run the Sargan test $H_0: cov(z,e) = 0$ if we have excess instruments (more than there are endogenous variables). If we reject the null hypothesis, then we would say that at least one of the extra instruments are likely also endogenous and not valid instruments."
   ]
  },
  {
   "cell_type": "markdown",
   "id": "8e0e8ecc",
   "metadata": {},
   "source": [
    "## Simultaneous Equations"
   ]
  },
  {
   "cell_type": "code",
   "execution_count": null,
   "id": "f989d24e",
   "metadata": {},
   "outputs": [],
   "source": [
    "import linearmodels.iv as iv"
   ]
  },
  {
   "cell_type": "markdown",
   "id": "de2715e4",
   "metadata": {},
   "source": [
    "The first equation is identified if and only if the second equation contains at least one exogenous variable that is excluded from the from the second regression. These exogenous variables are used as instruments for the endogenous variable in the second regression.\n",
    "\n",
    "We assume that these excluded regressors have no effect on the equation they are excluded from, and helps us differentiate the two from eachother."
   ]
  },
  {
   "cell_type": "code",
   "execution_count": null,
   "id": "e6c9f9d3",
   "metadata": {},
   "outputs": [],
   "source": [
    "mroz = woo.data(\"mroz\").dropna()"
   ]
  },
  {
   "cell_type": "code",
   "execution_count": null,
   "id": "621856e3",
   "metadata": {},
   "outputs": [],
   "source": [
    "model = iv.IV2SLS.from_formula('hours ~ 1 + educ + age + kidslt6 + nwifeinc + [np.log(wage) ~ exper + I(exper**2)]',\n",
    "                               mroz)\n",
    "model.fit(cov_type = 'unadjusted')"
   ]
  }
 ],
 "metadata": {
  "kernelspec": {
   "display_name": "Python 3 (ipykernel)",
   "language": "python",
   "name": "python3"
  },
  "language_info": {
   "codemirror_mode": {
    "name": "ipython",
    "version": 3
   },
   "file_extension": ".py",
   "mimetype": "text/x-python",
   "name": "python",
   "nbconvert_exporter": "python",
   "pygments_lexer": "ipython3",
   "version": "3.9.13"
  },
  "toc": {
   "base_numbering": 1,
   "nav_menu": {},
   "number_sections": true,
   "sideBar": true,
   "skip_h1_title": false,
   "title_cell": "Table of Contents",
   "title_sidebar": "Contents",
   "toc_cell": false,
   "toc_position": {},
   "toc_section_display": true,
   "toc_window_display": false
  }
 },
 "nbformat": 4,
 "nbformat_minor": 5
}
